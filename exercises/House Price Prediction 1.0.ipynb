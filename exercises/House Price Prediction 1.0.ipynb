{
 "cells": [
  {
   "cell_type": "markdown",
   "metadata": {},
   "source": [
    "# House Price Prediction\n",
    "\n",
    "This dataset contains house sale prices for King County, Seattle. It includes homes sold between May 2014 and May 2015.\n",
    "\n",
    "##### Data file: kc_house_data.csv\n",
    "\n",
    "**Columns Description**\n",
    "\n",
    "- id - A notation for a house (Sequence Number)\n",
    "- date - Date house was sold\n",
    "- price - Price of the house (prediction target)\n",
    "- bedrooms - Number of Bedrooms/House\n",
    "- bathrooms - Number of bathrooms/House\n",
    "- sqft_living - Square footage of the home\n",
    "- sqft_lot - Square footage of the lot\n",
    "- floors - Total floors (levels) in house\n",
    "- waterfront - House which has a view to a waterfront\n",
    "- view - Has a view or not\n",
    "- condition - How good the condition is ( Overall )\n",
    "- grade - Overall grade given to the housing unit, based on King County grading system\n",
    "- sqft_above - Square footage of house apart from basement\n",
    "- sqft_basement - Square footage of the basement\n",
    "- yr_built - Built Year\n",
    "- yr_renovated - Year when house was renovated\n",
    "- zipcode - zip\n",
    "- lat - Latitude coordinate\n",
    "- long - Longitude coordinate\n",
    "- sqft_living15 - Living area of 15 surrounding this house.\n",
    "- sqft_lot15 - LotSize of 15 surrounding this house."
   ]
  },
  {
   "cell_type": "code",
   "execution_count": 82,
   "metadata": {},
   "outputs": [],
   "source": [
    "import pandas as pd\n",
    "import numpy as np\n",
    "import matplotlib.pyplot as plt\n",
    "import seaborn as sn"
   ]
  },
  {
   "cell_type": "markdown",
   "metadata": {},
   "source": [
    "### Step1 : Load the dataset"
   ]
  },
  {
   "cell_type": "code",
   "execution_count": 83,
   "metadata": {},
   "outputs": [],
   "source": [
    "houses_df = pd.read_csv( \"../tutorials/data/kc_house_data.csv\" )"
   ]
  },
  {
   "cell_type": "code",
   "execution_count": 84,
   "metadata": {},
   "outputs": [
    {
     "name": "stdout",
     "output_type": "stream",
     "text": [
      "<class 'pandas.core.frame.DataFrame'>\n",
      "RangeIndex: 21613 entries, 0 to 21612\n",
      "Data columns (total 21 columns):\n",
      " #   Column         Non-Null Count  Dtype  \n",
      "---  ------         --------------  -----  \n",
      " 0   id             21613 non-null  int64  \n",
      " 1   date           21613 non-null  object \n",
      " 2   price          21613 non-null  float64\n",
      " 3   bedrooms       21613 non-null  int64  \n",
      " 4   bathrooms      21613 non-null  float64\n",
      " 5   sqft_living    21613 non-null  int64  \n",
      " 6   sqft_lot       21613 non-null  int64  \n",
      " 7   floors         21613 non-null  float64\n",
      " 8   waterfront     21613 non-null  int64  \n",
      " 9   view           21613 non-null  int64  \n",
      " 10  condition      21613 non-null  int64  \n",
      " 11  grade          21613 non-null  int64  \n",
      " 12  sqft_above     21613 non-null  int64  \n",
      " 13  sqft_basement  21613 non-null  int64  \n",
      " 14  yr_built       21613 non-null  int64  \n",
      " 15  yr_renovated   21613 non-null  int64  \n",
      " 16  zipcode        21613 non-null  int64  \n",
      " 17  lat            21613 non-null  float64\n",
      " 18  long           21613 non-null  float64\n",
      " 19  sqft_living15  21613 non-null  int64  \n",
      " 20  sqft_lot15     21613 non-null  int64  \n",
      "dtypes: float64(5), int64(15), object(1)\n",
      "memory usage: 3.5+ MB\n"
     ]
    }
   ],
   "source": [
    "houses_df.info()"
   ]
  },
  {
   "cell_type": "markdown",
   "metadata": {},
   "source": [
    "### Step 2: Select few variables for analysis\n",
    "\n",
    "Creat a new dataframe with only the following selected variables\n",
    "\n",
    "- price\n",
    "- bedrooms\n",
    "- bathrooms\n",
    "- sqft_living\n",
    "- sqft_lot\n",
    "- floors\n",
    "- sqft_above\n",
    "- sqft_basement\n",
    "- sqft_living15\n",
    "- sqft_lot15\n",
    "- zipcode"
   ]
  },
  {
   "cell_type": "code",
   "execution_count": 85,
   "metadata": {},
   "outputs": [],
   "source": [
    "houses_df = houses_df[['price','bedrooms','bathrooms','sqft_living','sqft_lot','floors','sqft_above','sqft_basement','sqft_living15',\n",
    "          'sqft_lot15','zipcode']]"
   ]
  },
  {
   "cell_type": "code",
   "execution_count": 86,
   "metadata": {},
   "outputs": [
    {
     "data": {
      "text/plain": [
       "Index(['price', 'bedrooms', 'bathrooms', 'sqft_living', 'sqft_lot', 'floors',\n",
       "       'sqft_above', 'sqft_basement', 'sqft_living15', 'sqft_lot15',\n",
       "       'zipcode'],\n",
       "      dtype='object')"
      ]
     },
     "execution_count": 86,
     "metadata": {},
     "output_type": "execute_result"
    }
   ],
   "source": [
    "houses_df.columns"
   ]
  },
  {
   "cell_type": "markdown",
   "metadata": {},
   "source": [
    "### Step 4: Create a heatmap to understand which variables are highly correlated with price"
   ]
  },
  {
   "cell_type": "code",
   "execution_count": 87,
   "metadata": {},
   "outputs": [],
   "source": [
    "corr_mat = houses_df[['price','bedrooms','bathrooms','sqft_living','sqft_lot','floors','sqft_above','sqft_basement','sqft_living15',\n",
    "          'sqft_lot15','zipcode']].corr()"
   ]
  },
  {
   "cell_type": "code",
   "execution_count": 88,
   "metadata": {},
   "outputs": [
    {
     "data": {
      "text/html": [
       "<div>\n",
       "<style scoped>\n",
       "    .dataframe tbody tr th:only-of-type {\n",
       "        vertical-align: middle;\n",
       "    }\n",
       "\n",
       "    .dataframe tbody tr th {\n",
       "        vertical-align: top;\n",
       "    }\n",
       "\n",
       "    .dataframe thead th {\n",
       "        text-align: right;\n",
       "    }\n",
       "</style>\n",
       "<table border=\"1\" class=\"dataframe\">\n",
       "  <thead>\n",
       "    <tr style=\"text-align: right;\">\n",
       "      <th></th>\n",
       "      <th>price</th>\n",
       "      <th>bedrooms</th>\n",
       "      <th>bathrooms</th>\n",
       "      <th>sqft_living</th>\n",
       "      <th>sqft_lot</th>\n",
       "      <th>floors</th>\n",
       "      <th>sqft_above</th>\n",
       "      <th>sqft_basement</th>\n",
       "      <th>sqft_living15</th>\n",
       "      <th>sqft_lot15</th>\n",
       "      <th>zipcode</th>\n",
       "    </tr>\n",
       "  </thead>\n",
       "  <tbody>\n",
       "    <tr>\n",
       "      <th>price</th>\n",
       "      <td>1.000000</td>\n",
       "      <td>0.308350</td>\n",
       "      <td>0.525138</td>\n",
       "      <td>0.702035</td>\n",
       "      <td>0.089661</td>\n",
       "      <td>0.256794</td>\n",
       "      <td>0.605567</td>\n",
       "      <td>0.323816</td>\n",
       "      <td>0.585379</td>\n",
       "      <td>0.082447</td>\n",
       "      <td>-0.053203</td>\n",
       "    </tr>\n",
       "    <tr>\n",
       "      <th>bedrooms</th>\n",
       "      <td>0.308350</td>\n",
       "      <td>1.000000</td>\n",
       "      <td>0.515884</td>\n",
       "      <td>0.576671</td>\n",
       "      <td>0.031703</td>\n",
       "      <td>0.175429</td>\n",
       "      <td>0.477600</td>\n",
       "      <td>0.303093</td>\n",
       "      <td>0.391638</td>\n",
       "      <td>0.029244</td>\n",
       "      <td>-0.152668</td>\n",
       "    </tr>\n",
       "    <tr>\n",
       "      <th>bathrooms</th>\n",
       "      <td>0.525138</td>\n",
       "      <td>0.515884</td>\n",
       "      <td>1.000000</td>\n",
       "      <td>0.754665</td>\n",
       "      <td>0.087740</td>\n",
       "      <td>0.500653</td>\n",
       "      <td>0.685342</td>\n",
       "      <td>0.283770</td>\n",
       "      <td>0.568634</td>\n",
       "      <td>0.087175</td>\n",
       "      <td>-0.203866</td>\n",
       "    </tr>\n",
       "    <tr>\n",
       "      <th>sqft_living</th>\n",
       "      <td>0.702035</td>\n",
       "      <td>0.576671</td>\n",
       "      <td>0.754665</td>\n",
       "      <td>1.000000</td>\n",
       "      <td>0.172826</td>\n",
       "      <td>0.353949</td>\n",
       "      <td>0.876597</td>\n",
       "      <td>0.435043</td>\n",
       "      <td>0.756420</td>\n",
       "      <td>0.183286</td>\n",
       "      <td>-0.199430</td>\n",
       "    </tr>\n",
       "    <tr>\n",
       "      <th>sqft_lot</th>\n",
       "      <td>0.089661</td>\n",
       "      <td>0.031703</td>\n",
       "      <td>0.087740</td>\n",
       "      <td>0.172826</td>\n",
       "      <td>1.000000</td>\n",
       "      <td>-0.005201</td>\n",
       "      <td>0.183512</td>\n",
       "      <td>0.015286</td>\n",
       "      <td>0.144608</td>\n",
       "      <td>0.718557</td>\n",
       "      <td>-0.129574</td>\n",
       "    </tr>\n",
       "    <tr>\n",
       "      <th>floors</th>\n",
       "      <td>0.256794</td>\n",
       "      <td>0.175429</td>\n",
       "      <td>0.500653</td>\n",
       "      <td>0.353949</td>\n",
       "      <td>-0.005201</td>\n",
       "      <td>1.000000</td>\n",
       "      <td>0.523885</td>\n",
       "      <td>-0.245705</td>\n",
       "      <td>0.279885</td>\n",
       "      <td>-0.011269</td>\n",
       "      <td>-0.059121</td>\n",
       "    </tr>\n",
       "    <tr>\n",
       "      <th>sqft_above</th>\n",
       "      <td>0.605567</td>\n",
       "      <td>0.477600</td>\n",
       "      <td>0.685342</td>\n",
       "      <td>0.876597</td>\n",
       "      <td>0.183512</td>\n",
       "      <td>0.523885</td>\n",
       "      <td>1.000000</td>\n",
       "      <td>-0.051943</td>\n",
       "      <td>0.731870</td>\n",
       "      <td>0.194050</td>\n",
       "      <td>-0.261190</td>\n",
       "    </tr>\n",
       "    <tr>\n",
       "      <th>sqft_basement</th>\n",
       "      <td>0.323816</td>\n",
       "      <td>0.303093</td>\n",
       "      <td>0.283770</td>\n",
       "      <td>0.435043</td>\n",
       "      <td>0.015286</td>\n",
       "      <td>-0.245705</td>\n",
       "      <td>-0.051943</td>\n",
       "      <td>1.000000</td>\n",
       "      <td>0.200355</td>\n",
       "      <td>0.017276</td>\n",
       "      <td>0.074845</td>\n",
       "    </tr>\n",
       "    <tr>\n",
       "      <th>sqft_living15</th>\n",
       "      <td>0.585379</td>\n",
       "      <td>0.391638</td>\n",
       "      <td>0.568634</td>\n",
       "      <td>0.756420</td>\n",
       "      <td>0.144608</td>\n",
       "      <td>0.279885</td>\n",
       "      <td>0.731870</td>\n",
       "      <td>0.200355</td>\n",
       "      <td>1.000000</td>\n",
       "      <td>0.183192</td>\n",
       "      <td>-0.279033</td>\n",
       "    </tr>\n",
       "    <tr>\n",
       "      <th>sqft_lot15</th>\n",
       "      <td>0.082447</td>\n",
       "      <td>0.029244</td>\n",
       "      <td>0.087175</td>\n",
       "      <td>0.183286</td>\n",
       "      <td>0.718557</td>\n",
       "      <td>-0.011269</td>\n",
       "      <td>0.194050</td>\n",
       "      <td>0.017276</td>\n",
       "      <td>0.183192</td>\n",
       "      <td>1.000000</td>\n",
       "      <td>-0.147221</td>\n",
       "    </tr>\n",
       "    <tr>\n",
       "      <th>zipcode</th>\n",
       "      <td>-0.053203</td>\n",
       "      <td>-0.152668</td>\n",
       "      <td>-0.203866</td>\n",
       "      <td>-0.199430</td>\n",
       "      <td>-0.129574</td>\n",
       "      <td>-0.059121</td>\n",
       "      <td>-0.261190</td>\n",
       "      <td>0.074845</td>\n",
       "      <td>-0.279033</td>\n",
       "      <td>-0.147221</td>\n",
       "      <td>1.000000</td>\n",
       "    </tr>\n",
       "  </tbody>\n",
       "</table>\n",
       "</div>"
      ],
      "text/plain": [
       "                  price  bedrooms  bathrooms  sqft_living  sqft_lot    floors  \\\n",
       "price          1.000000  0.308350   0.525138     0.702035  0.089661  0.256794   \n",
       "bedrooms       0.308350  1.000000   0.515884     0.576671  0.031703  0.175429   \n",
       "bathrooms      0.525138  0.515884   1.000000     0.754665  0.087740  0.500653   \n",
       "sqft_living    0.702035  0.576671   0.754665     1.000000  0.172826  0.353949   \n",
       "sqft_lot       0.089661  0.031703   0.087740     0.172826  1.000000 -0.005201   \n",
       "floors         0.256794  0.175429   0.500653     0.353949 -0.005201  1.000000   \n",
       "sqft_above     0.605567  0.477600   0.685342     0.876597  0.183512  0.523885   \n",
       "sqft_basement  0.323816  0.303093   0.283770     0.435043  0.015286 -0.245705   \n",
       "sqft_living15  0.585379  0.391638   0.568634     0.756420  0.144608  0.279885   \n",
       "sqft_lot15     0.082447  0.029244   0.087175     0.183286  0.718557 -0.011269   \n",
       "zipcode       -0.053203 -0.152668  -0.203866    -0.199430 -0.129574 -0.059121   \n",
       "\n",
       "               sqft_above  sqft_basement  sqft_living15  sqft_lot15   zipcode  \n",
       "price            0.605567       0.323816       0.585379    0.082447 -0.053203  \n",
       "bedrooms         0.477600       0.303093       0.391638    0.029244 -0.152668  \n",
       "bathrooms        0.685342       0.283770       0.568634    0.087175 -0.203866  \n",
       "sqft_living      0.876597       0.435043       0.756420    0.183286 -0.199430  \n",
       "sqft_lot         0.183512       0.015286       0.144608    0.718557 -0.129574  \n",
       "floors           0.523885      -0.245705       0.279885   -0.011269 -0.059121  \n",
       "sqft_above       1.000000      -0.051943       0.731870    0.194050 -0.261190  \n",
       "sqft_basement   -0.051943       1.000000       0.200355    0.017276  0.074845  \n",
       "sqft_living15    0.731870       0.200355       1.000000    0.183192 -0.279033  \n",
       "sqft_lot15       0.194050       0.017276       0.183192    1.000000 -0.147221  \n",
       "zipcode         -0.261190       0.074845      -0.279033   -0.147221  1.000000  "
      ]
     },
     "execution_count": 88,
     "metadata": {},
     "output_type": "execute_result"
    }
   ],
   "source": [
    "corr_mat"
   ]
  },
  {
   "cell_type": "code",
   "execution_count": 89,
   "metadata": {},
   "outputs": [
    {
     "data": {
      "image/png": "[encoded data removed]",
      "text/plain": [
       "<Figure size 432x288 with 2 Axes>"
      ]
     },
     "metadata": {
      "needs_background": "light"
     },
     "output_type": "display_data"
    }
   ],
   "source": [
    "sn.heatmap(corr_mat,\n",
    "           annot=True,\n",
    "           cmap = sn.diverging_palette(240, 10));"
   ]
  },
  {
   "cell_type": "markdown",
   "metadata": {},
   "source": [
    "### Step 5: Encode zipcode variable\n",
    "\n",
    "Tips:\n",
    "\n",
    "\n",
    "1. old_df = house_df[ all featues listed in step 2 + zipcode ]\n",
    "\n",
    "2. new_df = pd.get_dummies( old_df, columns = ['zipcode'] )\n",
    "\n",
    "3. Then split the new_df into train and test sets using 80:20 ratio"
   ]
  },
  {
   "cell_type": "code",
   "execution_count": 90,
   "metadata": {},
   "outputs": [
    {
     "data": {
      "text/plain": [
       "Index(['price', 'bedrooms', 'bathrooms', 'sqft_living', 'sqft_lot', 'floors',\n",
       "       'sqft_above', 'sqft_basement', 'sqft_living15', 'sqft_lot15',\n",
       "       'zipcode'],\n",
       "      dtype='object')"
      ]
     },
     "execution_count": 90,
     "metadata": {},
     "output_type": "execute_result"
    }
   ],
   "source": [
    "houses_df.columns"
   ]
  },
  {
   "cell_type": "code",
   "execution_count": 91,
   "metadata": {},
   "outputs": [],
   "source": [
    "encoded_houses_df = pd.get_dummies(data=houses_df,columns=['zipcode'])"
   ]
  },
  {
   "cell_type": "code",
   "execution_count": 92,
   "metadata": {},
   "outputs": [
    {
     "data": {
      "text/html": [
       "<div>\n",
       "<style scoped>\n",
       "    .dataframe tbody tr th:only-of-type {\n",
       "        vertical-align: middle;\n",
       "    }\n",
       "\n",
       "    .dataframe tbody tr th {\n",
       "        vertical-align: top;\n",
       "    }\n",
       "\n",
       "    .dataframe thead th {\n",
       "        text-align: right;\n",
       "    }\n",
       "</style>\n",
       "<table border=\"1\" class=\"dataframe\">\n",
       "  <thead>\n",
       "    <tr style=\"text-align: right;\">\n",
       "      <th></th>\n",
       "      <th>price</th>\n",
       "      <th>bedrooms</th>\n",
       "      <th>bathrooms</th>\n",
       "      <th>sqft_living</th>\n",
       "      <th>sqft_lot</th>\n",
       "      <th>floors</th>\n",
       "      <th>sqft_above</th>\n",
       "      <th>sqft_basement</th>\n",
       "      <th>sqft_living15</th>\n",
       "      <th>sqft_lot15</th>\n",
       "      <th>...</th>\n",
       "      <th>zipcode_98146</th>\n",
       "      <th>zipcode_98148</th>\n",
       "      <th>zipcode_98155</th>\n",
       "      <th>zipcode_98166</th>\n",
       "      <th>zipcode_98168</th>\n",
       "      <th>zipcode_98177</th>\n",
       "      <th>zipcode_98178</th>\n",
       "      <th>zipcode_98188</th>\n",
       "      <th>zipcode_98198</th>\n",
       "      <th>zipcode_98199</th>\n",
       "    </tr>\n",
       "  </thead>\n",
       "  <tbody>\n",
       "    <tr>\n",
       "      <th>2779</th>\n",
       "      <td>275000.0</td>\n",
       "      <td>3</td>\n",
       "      <td>2.50</td>\n",
       "      <td>1730</td>\n",
       "      <td>5799</td>\n",
       "      <td>2.0</td>\n",
       "      <td>1730</td>\n",
       "      <td>0</td>\n",
       "      <td>1710</td>\n",
       "      <td>6490</td>\n",
       "      <td>...</td>\n",
       "      <td>0</td>\n",
       "      <td>0</td>\n",
       "      <td>0</td>\n",
       "      <td>0</td>\n",
       "      <td>0</td>\n",
       "      <td>0</td>\n",
       "      <td>0</td>\n",
       "      <td>0</td>\n",
       "      <td>0</td>\n",
       "      <td>0</td>\n",
       "    </tr>\n",
       "    <tr>\n",
       "      <th>15836</th>\n",
       "      <td>1160000.0</td>\n",
       "      <td>4</td>\n",
       "      <td>2.50</td>\n",
       "      <td>3860</td>\n",
       "      <td>10361</td>\n",
       "      <td>2.0</td>\n",
       "      <td>2940</td>\n",
       "      <td>920</td>\n",
       "      <td>3720</td>\n",
       "      <td>13155</td>\n",
       "      <td>...</td>\n",
       "      <td>0</td>\n",
       "      <td>0</td>\n",
       "      <td>0</td>\n",
       "      <td>0</td>\n",
       "      <td>0</td>\n",
       "      <td>0</td>\n",
       "      <td>0</td>\n",
       "      <td>0</td>\n",
       "      <td>0</td>\n",
       "      <td>0</td>\n",
       "    </tr>\n",
       "    <tr>\n",
       "      <th>12552</th>\n",
       "      <td>312000.0</td>\n",
       "      <td>2</td>\n",
       "      <td>1.75</td>\n",
       "      <td>1160</td>\n",
       "      <td>8625</td>\n",
       "      <td>1.0</td>\n",
       "      <td>1160</td>\n",
       "      <td>0</td>\n",
       "      <td>960</td>\n",
       "      <td>5750</td>\n",
       "      <td>...</td>\n",
       "      <td>0</td>\n",
       "      <td>0</td>\n",
       "      <td>0</td>\n",
       "      <td>0</td>\n",
       "      <td>0</td>\n",
       "      <td>0</td>\n",
       "      <td>0</td>\n",
       "      <td>0</td>\n",
       "      <td>0</td>\n",
       "      <td>0</td>\n",
       "    </tr>\n",
       "    <tr>\n",
       "      <th>2162</th>\n",
       "      <td>280000.0</td>\n",
       "      <td>3</td>\n",
       "      <td>2.50</td>\n",
       "      <td>1860</td>\n",
       "      <td>6607</td>\n",
       "      <td>2.0</td>\n",
       "      <td>1860</td>\n",
       "      <td>0</td>\n",
       "      <td>1760</td>\n",
       "      <td>6766</td>\n",
       "      <td>...</td>\n",
       "      <td>0</td>\n",
       "      <td>0</td>\n",
       "      <td>0</td>\n",
       "      <td>0</td>\n",
       "      <td>0</td>\n",
       "      <td>0</td>\n",
       "      <td>0</td>\n",
       "      <td>0</td>\n",
       "      <td>0</td>\n",
       "      <td>0</td>\n",
       "    </tr>\n",
       "    <tr>\n",
       "      <th>15509</th>\n",
       "      <td>269500.0</td>\n",
       "      <td>2</td>\n",
       "      <td>1.00</td>\n",
       "      <td>800</td>\n",
       "      <td>1200</td>\n",
       "      <td>2.0</td>\n",
       "      <td>800</td>\n",
       "      <td>0</td>\n",
       "      <td>806</td>\n",
       "      <td>1200</td>\n",
       "      <td>...</td>\n",
       "      <td>0</td>\n",
       "      <td>0</td>\n",
       "      <td>0</td>\n",
       "      <td>0</td>\n",
       "      <td>0</td>\n",
       "      <td>0</td>\n",
       "      <td>0</td>\n",
       "      <td>0</td>\n",
       "      <td>0</td>\n",
       "      <td>0</td>\n",
       "    </tr>\n",
       "  </tbody>\n",
       "</table>\n",
       "<p>5 rows × 80 columns</p>\n",
       "</div>"
      ],
      "text/plain": [
       "           price  bedrooms  bathrooms  sqft_living  sqft_lot  floors  \\\n",
       "2779    275000.0         3       2.50         1730      5799     2.0   \n",
       "15836  1160000.0         4       2.50         3860     10361     2.0   \n",
       "12552   312000.0         2       1.75         1160      8625     1.0   \n",
       "2162    280000.0         3       2.50         1860      6607     2.0   \n",
       "15509   269500.0         2       1.00          800      1200     2.0   \n",
       "\n",
       "       sqft_above  sqft_basement  sqft_living15  sqft_lot15  ...  \\\n",
       "2779         1730              0           1710        6490  ...   \n",
       "15836        2940            920           3720       13155  ...   \n",
       "12552        1160              0            960        5750  ...   \n",
       "2162         1860              0           1760        6766  ...   \n",
       "15509         800              0            806        1200  ...   \n",
       "\n",
       "       zipcode_98146  zipcode_98148  zipcode_98155  zipcode_98166  \\\n",
       "2779               0              0              0              0   \n",
       "15836              0              0              0              0   \n",
       "12552              0              0              0              0   \n",
       "2162               0              0              0              0   \n",
       "15509              0              0              0              0   \n",
       "\n",
       "       zipcode_98168  zipcode_98177  zipcode_98178  zipcode_98188  \\\n",
       "2779               0              0              0              0   \n",
       "15836              0              0              0              0   \n",
       "12552              0              0              0              0   \n",
       "2162               0              0              0              0   \n",
       "15509              0              0              0              0   \n",
       "\n",
       "       zipcode_98198  zipcode_98199  \n",
       "2779               0              0  \n",
       "15836              0              0  \n",
       "12552              0              0  \n",
       "2162               0              0  \n",
       "15509              0              0  \n",
       "\n",
       "[5 rows x 80 columns]"
      ]
     },
     "execution_count": 92,
     "metadata": {},
     "output_type": "execute_result"
    }
   ],
   "source": [
    "encoded_houses_df.sample(5)"
   ]
  },
  {
   "cell_type": "code",
   "execution_count": 113,
   "metadata": {},
   "outputs": [
    {
     "data": {
      "text/plain": [
       "(21613, 80)"
      ]
     },
     "execution_count": 113,
     "metadata": {},
     "output_type": "execute_result"
    }
   ],
   "source": [
    "encoded_houses_df.shape"
   ]
  },
  {
   "cell_type": "markdown",
   "metadata": {},
   "source": [
    "### Step 6: Set X and Y Variables\n",
    "\n",
    "Note: We are going to build a linear model to predict the price of the house using other variables\n",
    "\n",
    "- *price* will Y variable.\n",
    "- All other variables will be X variables."
   ]
  },
  {
   "cell_type": "code",
   "execution_count": 93,
   "metadata": {},
   "outputs": [],
   "source": [
    "X = encoded_houses_df\n",
    "y = houses_df['price']"
   ]
  },
  {
   "cell_type": "markdown",
   "metadata": {},
   "source": [
    "### Step 7: Split the dataset: 80% as training and 20% as test set\n",
    "\n",
    "Note: Use random state as 100"
   ]
  },
  {
   "cell_type": "code",
   "execution_count": 94,
   "metadata": {},
   "outputs": [],
   "source": [
    "from sklearn.model_selection import train_test_split"
   ]
  },
  {
   "cell_type": "code",
   "execution_count": 95,
   "metadata": {},
   "outputs": [],
   "source": [
    "X_train, X_test, y_train, y_test = train_test_split(X,y,train_size=0.8,random_state=100)"
   ]
  },
  {
   "cell_type": "code",
   "execution_count": 96,
   "metadata": {},
   "outputs": [
    {
     "data": {
      "text/plain": [
       "(17290, 80)"
      ]
     },
     "execution_count": 96,
     "metadata": {},
     "output_type": "execute_result"
    }
   ],
   "source": [
    "X_train.shape"
   ]
  },
  {
   "cell_type": "code",
   "execution_count": 97,
   "metadata": {},
   "outputs": [
    {
     "data": {
      "text/html": [
       "<div>\n",
       "<style scoped>\n",
       "    .dataframe tbody tr th:only-of-type {\n",
       "        vertical-align: middle;\n",
       "    }\n",
       "\n",
       "    .dataframe tbody tr th {\n",
       "        vertical-align: top;\n",
       "    }\n",
       "\n",
       "    .dataframe thead th {\n",
       "        text-align: right;\n",
       "    }\n",
       "</style>\n",
       "<table border=\"1\" class=\"dataframe\">\n",
       "  <thead>\n",
       "    <tr style=\"text-align: right;\">\n",
       "      <th></th>\n",
       "      <th>price</th>\n",
       "      <th>bedrooms</th>\n",
       "      <th>bathrooms</th>\n",
       "      <th>sqft_living</th>\n",
       "      <th>sqft_lot</th>\n",
       "      <th>floors</th>\n",
       "      <th>sqft_above</th>\n",
       "      <th>sqft_basement</th>\n",
       "      <th>sqft_living15</th>\n",
       "      <th>sqft_lot15</th>\n",
       "      <th>...</th>\n",
       "      <th>zipcode_98146</th>\n",
       "      <th>zipcode_98148</th>\n",
       "      <th>zipcode_98155</th>\n",
       "      <th>zipcode_98166</th>\n",
       "      <th>zipcode_98168</th>\n",
       "      <th>zipcode_98177</th>\n",
       "      <th>zipcode_98178</th>\n",
       "      <th>zipcode_98188</th>\n",
       "      <th>zipcode_98198</th>\n",
       "      <th>zipcode_98199</th>\n",
       "    </tr>\n",
       "  </thead>\n",
       "  <tbody>\n",
       "    <tr>\n",
       "      <th>8144</th>\n",
       "      <td>250000.0</td>\n",
       "      <td>3</td>\n",
       "      <td>2.0</td>\n",
       "      <td>1900</td>\n",
       "      <td>6660</td>\n",
       "      <td>1.0</td>\n",
       "      <td>950</td>\n",
       "      <td>950</td>\n",
       "      <td>1690</td>\n",
       "      <td>8111</td>\n",
       "      <td>...</td>\n",
       "      <td>0</td>\n",
       "      <td>0</td>\n",
       "      <td>0</td>\n",
       "      <td>0</td>\n",
       "      <td>0</td>\n",
       "      <td>0</td>\n",
       "      <td>0</td>\n",
       "      <td>0</td>\n",
       "      <td>0</td>\n",
       "      <td>0</td>\n",
       "    </tr>\n",
       "    <tr>\n",
       "      <th>18826</th>\n",
       "      <td>760000.0</td>\n",
       "      <td>3</td>\n",
       "      <td>2.5</td>\n",
       "      <td>4040</td>\n",
       "      <td>147856</td>\n",
       "      <td>2.0</td>\n",
       "      <td>4040</td>\n",
       "      <td>0</td>\n",
       "      <td>3000</td>\n",
       "      <td>125452</td>\n",
       "      <td>...</td>\n",
       "      <td>0</td>\n",
       "      <td>0</td>\n",
       "      <td>0</td>\n",
       "      <td>0</td>\n",
       "      <td>0</td>\n",
       "      <td>0</td>\n",
       "      <td>0</td>\n",
       "      <td>0</td>\n",
       "      <td>0</td>\n",
       "      <td>0</td>\n",
       "    </tr>\n",
       "    <tr>\n",
       "      <th>13240</th>\n",
       "      <td>410000.0</td>\n",
       "      <td>2</td>\n",
       "      <td>1.0</td>\n",
       "      <td>2020</td>\n",
       "      <td>7540</td>\n",
       "      <td>1.0</td>\n",
       "      <td>1010</td>\n",
       "      <td>1010</td>\n",
       "      <td>1270</td>\n",
       "      <td>4652</td>\n",
       "      <td>...</td>\n",
       "      <td>0</td>\n",
       "      <td>0</td>\n",
       "      <td>0</td>\n",
       "      <td>0</td>\n",
       "      <td>0</td>\n",
       "      <td>0</td>\n",
       "      <td>0</td>\n",
       "      <td>0</td>\n",
       "      <td>0</td>\n",
       "      <td>0</td>\n",
       "    </tr>\n",
       "    <tr>\n",
       "      <th>10111</th>\n",
       "      <td>1365000.0</td>\n",
       "      <td>3</td>\n",
       "      <td>2.5</td>\n",
       "      <td>2090</td>\n",
       "      <td>6000</td>\n",
       "      <td>1.5</td>\n",
       "      <td>2090</td>\n",
       "      <td>0</td>\n",
       "      <td>2730</td>\n",
       "      <td>6000</td>\n",
       "      <td>...</td>\n",
       "      <td>0</td>\n",
       "      <td>0</td>\n",
       "      <td>0</td>\n",
       "      <td>0</td>\n",
       "      <td>0</td>\n",
       "      <td>0</td>\n",
       "      <td>0</td>\n",
       "      <td>0</td>\n",
       "      <td>0</td>\n",
       "      <td>0</td>\n",
       "    </tr>\n",
       "    <tr>\n",
       "      <th>1213</th>\n",
       "      <td>245000.0</td>\n",
       "      <td>3</td>\n",
       "      <td>2.5</td>\n",
       "      <td>1600</td>\n",
       "      <td>4271</td>\n",
       "      <td>2.0</td>\n",
       "      <td>1600</td>\n",
       "      <td>0</td>\n",
       "      <td>1520</td>\n",
       "      <td>3225</td>\n",
       "      <td>...</td>\n",
       "      <td>0</td>\n",
       "      <td>0</td>\n",
       "      <td>0</td>\n",
       "      <td>0</td>\n",
       "      <td>0</td>\n",
       "      <td>0</td>\n",
       "      <td>0</td>\n",
       "      <td>0</td>\n",
       "      <td>0</td>\n",
       "      <td>0</td>\n",
       "    </tr>\n",
       "  </tbody>\n",
       "</table>\n",
       "<p>5 rows × 80 columns</p>\n",
       "</div>"
      ],
      "text/plain": [
       "           price  bedrooms  bathrooms  sqft_living  sqft_lot  floors  \\\n",
       "8144    250000.0         3        2.0         1900      6660     1.0   \n",
       "18826   760000.0         3        2.5         4040    147856     2.0   \n",
       "13240   410000.0         2        1.0         2020      7540     1.0   \n",
       "10111  1365000.0         3        2.5         2090      6000     1.5   \n",
       "1213    245000.0         3        2.5         1600      4271     2.0   \n",
       "\n",
       "       sqft_above  sqft_basement  sqft_living15  sqft_lot15  ...  \\\n",
       "8144          950            950           1690        8111  ...   \n",
       "18826        4040              0           3000      125452  ...   \n",
       "13240        1010           1010           1270        4652  ...   \n",
       "10111        2090              0           2730        6000  ...   \n",
       "1213         1600              0           1520        3225  ...   \n",
       "\n",
       "       zipcode_98146  zipcode_98148  zipcode_98155  zipcode_98166  \\\n",
       "8144               0              0              0              0   \n",
       "18826              0              0              0              0   \n",
       "13240              0              0              0              0   \n",
       "10111              0              0              0              0   \n",
       "1213               0              0              0              0   \n",
       "\n",
       "       zipcode_98168  zipcode_98177  zipcode_98178  zipcode_98188  \\\n",
       "8144               0              0              0              0   \n",
       "18826              0              0              0              0   \n",
       "13240              0              0              0              0   \n",
       "10111              0              0              0              0   \n",
       "1213               0              0              0              0   \n",
       "\n",
       "       zipcode_98198  zipcode_98199  \n",
       "8144               0              0  \n",
       "18826              0              0  \n",
       "13240              0              0  \n",
       "10111              0              0  \n",
       "1213               0              0  \n",
       "\n",
       "[5 rows x 80 columns]"
      ]
     },
     "execution_count": 97,
     "metadata": {},
     "output_type": "execute_result"
    }
   ],
   "source": [
    "X_train.sample(5)"
   ]
  },
  {
   "cell_type": "code",
   "execution_count": 114,
   "metadata": {},
   "outputs": [
    {
     "data": {
      "text/plain": [
       "(4323, 80)"
      ]
     },
     "execution_count": 114,
     "metadata": {},
     "output_type": "execute_result"
    }
   ],
   "source": [
    "X_test.shape"
   ]
  },
  {
   "cell_type": "code",
   "execution_count": 119,
   "metadata": {},
   "outputs": [
    {
     "data": {
      "text/plain": [
       "20873    375000.0\n",
       "9479     155000.0\n",
       "8075     308000.0\n",
       "12691    689000.0\n",
       "19765    390000.0\n",
       "Name: price, dtype: float64"
      ]
     },
     "execution_count": 119,
     "metadata": {},
     "output_type": "execute_result"
    }
   ],
   "source": [
    "y_train.sample(5)"
   ]
  },
  {
   "cell_type": "code",
   "execution_count": 120,
   "metadata": {},
   "outputs": [
    {
     "data": {
      "text/plain": [
       "7057      490000.0\n",
       "3519     2095000.0\n",
       "21203     461100.0\n",
       "20754     790000.0\n",
       "18481     210000.0\n",
       "Name: price, dtype: float64"
      ]
     },
     "execution_count": 120,
     "metadata": {},
     "output_type": "execute_result"
    }
   ],
   "source": [
    "y_test.sample(5)"
   ]
  },
  {
   "cell_type": "markdown",
   "metadata": {},
   "source": [
    "### Step 8: Build a linear regression model using training set"
   ]
  },
  {
   "cell_type": "code",
   "execution_count": 98,
   "metadata": {},
   "outputs": [],
   "source": [
    "from sklearn.linear_model import LinearRegression"
   ]
  },
  {
   "cell_type": "code",
   "execution_count": 99,
   "metadata": {},
   "outputs": [],
   "source": [
    "lreg_v1 = LinearRegression()"
   ]
  },
  {
   "cell_type": "code",
   "execution_count": 121,
   "metadata": {},
   "outputs": [
    {
     "data": {
      "text/plain": [
       "LinearRegression()"
      ]
     },
     "execution_count": 121,
     "metadata": {},
     "output_type": "execute_result"
    }
   ],
   "source": [
    "lreg_v1.fit(X_train, y_train)"
   ]
  },
  {
   "cell_type": "code",
   "execution_count": 122,
   "metadata": {},
   "outputs": [
    {
     "data": {
      "text/plain": [
       "-5.911802873015404e-06"
      ]
     },
     "execution_count": 122,
     "metadata": {},
     "output_type": "execute_result"
    }
   ],
   "source": [
    "lreg_v1.intercept_"
   ]
  },
  {
   "cell_type": "code",
   "execution_count": 123,
   "metadata": {},
   "outputs": [
    {
     "data": {
      "text/plain": [
       "array([ 1.00000000e+00,  7.73181785e-12, -1.62990466e-11,  8.43661421e-02,\n",
       "        2.16117938e-16,  2.00485843e-11, -8.43661421e-02, -8.43661421e-02,\n",
       "       -3.55798476e-15,  1.38777878e-17,  5.91194006e-06,  5.91191901e-06,\n",
       "        5.91193812e-06,  5.91193762e-06,  5.91194070e-06,  5.91193961e-06,\n",
       "        5.91193941e-06,  5.91193696e-06,  5.91193978e-06,  5.91194078e-06,\n",
       "        5.91194133e-06,  5.91194190e-06,  5.91193927e-06,  5.91194035e-06,\n",
       "        5.91193772e-06,  5.91194265e-06,  5.91193961e-06,  5.91194387e-06,\n",
       "        5.91194044e-06,  5.91194302e-06,  5.91194158e-06,  5.91193816e-06,\n",
       "        5.91193837e-06,  5.91194157e-06,  5.91191794e-06,  5.91193705e-06,\n",
       "        5.91194183e-06,  5.91194013e-06,  5.91194310e-06,  5.91194301e-06,\n",
       "        5.91194332e-06,  5.91193875e-06,  5.91194217e-06,  5.91193741e-06,\n",
       "        5.91194335e-06,  5.91193822e-06,  5.91194215e-06,  5.91201597e-06,\n",
       "        5.91194167e-06,  5.91194293e-06,  5.91194189e-06,  5.91194060e-06,\n",
       "        5.91193999e-06,  5.91198623e-06,  5.91193960e-06,  5.91194098e-06,\n",
       "        5.91193904e-06,  5.91194196e-06,  5.91194656e-06,  5.91194098e-06,\n",
       "        5.91193787e-06,  5.91193918e-06,  5.91193881e-06,  5.91193779e-06,\n",
       "        5.91193643e-06,  5.91193796e-06,  5.91193786e-06,  5.91193904e-06,\n",
       "        5.91193972e-06,  5.91194191e-06,  5.91193686e-06,  5.91194035e-06,\n",
       "        5.91193844e-06,  5.91193998e-06,  5.91193847e-06,  5.91193880e-06,\n",
       "        5.91193739e-06,  5.91194034e-06,  5.91193858e-06,  5.91194078e-06])"
      ]
     },
     "execution_count": 123,
     "metadata": {},
     "output_type": "execute_result"
    }
   ],
   "source": [
    "lreg_v1.coef_"
   ]
  },
  {
   "cell_type": "code",
   "execution_count": 125,
   "metadata": {},
   "outputs": [
    {
     "data": {
      "text/plain": [
       "{'price': 1.0,\n",
       " 'bedrooms': 0.0,\n",
       " 'bathrooms': -0.0,\n",
       " 'sqft_living': 0.08436614,\n",
       " 'sqft_lot': 0.0,\n",
       " 'floors': 0.0,\n",
       " 'sqft_above': -0.08436614,\n",
       " 'sqft_basement': -0.08436614,\n",
       " 'sqft_living15': -0.0,\n",
       " 'sqft_lot15': 0.0,\n",
       " 'zipcode_98001': 5.91e-06,\n",
       " 'zipcode_98002': 5.91e-06,\n",
       " 'zipcode_98003': 5.91e-06,\n",
       " 'zipcode_98004': 5.91e-06,\n",
       " 'zipcode_98005': 5.91e-06,\n",
       " 'zipcode_98006': 5.91e-06,\n",
       " 'zipcode_98007': 5.91e-06,\n",
       " 'zipcode_98008': 5.91e-06,\n",
       " 'zipcode_98010': 5.91e-06,\n",
       " 'zipcode_98011': 5.91e-06,\n",
       " 'zipcode_98014': 5.91e-06,\n",
       " 'zipcode_98019': 5.91e-06,\n",
       " 'zipcode_98022': 5.91e-06,\n",
       " 'zipcode_98023': 5.91e-06,\n",
       " 'zipcode_98024': 5.91e-06,\n",
       " 'zipcode_98027': 5.91e-06,\n",
       " 'zipcode_98028': 5.91e-06,\n",
       " 'zipcode_98029': 5.91e-06,\n",
       " 'zipcode_98030': 5.91e-06,\n",
       " 'zipcode_98031': 5.91e-06,\n",
       " 'zipcode_98032': 5.91e-06,\n",
       " 'zipcode_98033': 5.91e-06,\n",
       " 'zipcode_98034': 5.91e-06,\n",
       " 'zipcode_98038': 5.91e-06,\n",
       " 'zipcode_98039': 5.91e-06,\n",
       " 'zipcode_98040': 5.91e-06,\n",
       " 'zipcode_98042': 5.91e-06,\n",
       " 'zipcode_98045': 5.91e-06,\n",
       " 'zipcode_98052': 5.91e-06,\n",
       " 'zipcode_98053': 5.91e-06,\n",
       " 'zipcode_98055': 5.91e-06,\n",
       " 'zipcode_98056': 5.91e-06,\n",
       " 'zipcode_98058': 5.91e-06,\n",
       " 'zipcode_98059': 5.91e-06,\n",
       " 'zipcode_98065': 5.91e-06,\n",
       " 'zipcode_98070': 5.91e-06,\n",
       " 'zipcode_98072': 5.91e-06,\n",
       " 'zipcode_98074': 5.91e-06,\n",
       " 'zipcode_98075': 5.91e-06,\n",
       " 'zipcode_98077': 5.91e-06,\n",
       " 'zipcode_98092': 5.91e-06,\n",
       " 'zipcode_98102': 5.91e-06,\n",
       " 'zipcode_98103': 5.91e-06,\n",
       " 'zipcode_98105': 5.91e-06,\n",
       " 'zipcode_98106': 5.91e-06,\n",
       " 'zipcode_98107': 5.91e-06,\n",
       " 'zipcode_98108': 5.91e-06,\n",
       " 'zipcode_98109': 5.91e-06,\n",
       " 'zipcode_98112': 5.91e-06,\n",
       " 'zipcode_98115': 5.91e-06,\n",
       " 'zipcode_98116': 5.91e-06,\n",
       " 'zipcode_98117': 5.91e-06,\n",
       " 'zipcode_98118': 5.91e-06,\n",
       " 'zipcode_98119': 5.91e-06,\n",
       " 'zipcode_98122': 5.91e-06,\n",
       " 'zipcode_98125': 5.91e-06,\n",
       " 'zipcode_98126': 5.91e-06,\n",
       " 'zipcode_98133': 5.91e-06,\n",
       " 'zipcode_98136': 5.91e-06,\n",
       " 'zipcode_98144': 5.91e-06,\n",
       " 'zipcode_98146': 5.91e-06,\n",
       " 'zipcode_98148': 5.91e-06,\n",
       " 'zipcode_98155': 5.91e-06,\n",
       " 'zipcode_98166': 5.91e-06,\n",
       " 'zipcode_98168': 5.91e-06,\n",
       " 'zipcode_98177': 5.91e-06,\n",
       " 'zipcode_98178': 5.91e-06,\n",
       " 'zipcode_98188': 5.91e-06,\n",
       " 'zipcode_98198': 5.91e-06,\n",
       " 'zipcode_98199': 5.91e-06}"
      ]
     },
     "execution_count": 125,
     "metadata": {},
     "output_type": "execute_result"
    }
   ],
   "source": [
    "dict(zip(X_train.columns, np.round(lreg_v1.coef_, 8)))"
   ]
  },
  {
   "cell_type": "markdown",
   "metadata": {},
   "source": [
    "### Step 9: Predict price on test set"
   ]
  },
  {
   "cell_type": "code",
   "execution_count": 127,
   "metadata": {},
   "outputs": [],
   "source": [
    "y_pred = lreg_v1.predict(X_test)"
   ]
  },
  {
   "cell_type": "code",
   "execution_count": 105,
   "metadata": {},
   "outputs": [
    {
     "data": {
      "text/plain": [
       "numpy.ndarray"
      ]
     },
     "execution_count": 105,
     "metadata": {},
     "output_type": "execute_result"
    }
   ],
   "source": [
    "type(y_pred)"
   ]
  },
  {
   "cell_type": "code",
   "execution_count": 128,
   "metadata": {},
   "outputs": [],
   "source": [
    "y_df = pd.DataFrame({\"actual\": y_test,\n",
    "                     \"predicted\": y_pred,\n",
    "                     \"residual\": y_pred - y_test})"
   ]
  },
  {
   "cell_type": "code",
   "execution_count": 129,
   "metadata": {},
   "outputs": [
    {
     "data": {
      "text/html": [
       "<div>\n",
       "<style scoped>\n",
       "    .dataframe tbody tr th:only-of-type {\n",
       "        vertical-align: middle;\n",
       "    }\n",
       "\n",
       "    .dataframe tbody tr th {\n",
       "        vertical-align: top;\n",
       "    }\n",
       "\n",
       "    .dataframe thead th {\n",
       "        text-align: right;\n",
       "    }\n",
       "</style>\n",
       "<table border=\"1\" class=\"dataframe\">\n",
       "  <thead>\n",
       "    <tr style=\"text-align: right;\">\n",
       "      <th></th>\n",
       "      <th>actual</th>\n",
       "      <th>predicted</th>\n",
       "      <th>residual</th>\n",
       "    </tr>\n",
       "  </thead>\n",
       "  <tbody>\n",
       "    <tr>\n",
       "      <th>14557</th>\n",
       "      <td>350000.0</td>\n",
       "      <td>350000.0</td>\n",
       "      <td>5.820766e-11</td>\n",
       "    </tr>\n",
       "    <tr>\n",
       "      <th>14240</th>\n",
       "      <td>862500.0</td>\n",
       "      <td>862500.0</td>\n",
       "      <td>1.164153e-10</td>\n",
       "    </tr>\n",
       "    <tr>\n",
       "      <th>13954</th>\n",
       "      <td>733000.0</td>\n",
       "      <td>733000.0</td>\n",
       "      <td>0.000000e+00</td>\n",
       "    </tr>\n",
       "    <tr>\n",
       "      <th>11622</th>\n",
       "      <td>373000.0</td>\n",
       "      <td>373000.0</td>\n",
       "      <td>1.746230e-10</td>\n",
       "    </tr>\n",
       "    <tr>\n",
       "      <th>6184</th>\n",
       "      <td>639000.0</td>\n",
       "      <td>639000.0</td>\n",
       "      <td>-1.164153e-10</td>\n",
       "    </tr>\n",
       "    <tr>\n",
       "      <th>18481</th>\n",
       "      <td>210000.0</td>\n",
       "      <td>210000.0</td>\n",
       "      <td>1.746230e-10</td>\n",
       "    </tr>\n",
       "    <tr>\n",
       "      <th>10177</th>\n",
       "      <td>1400000.0</td>\n",
       "      <td>1400000.0</td>\n",
       "      <td>0.000000e+00</td>\n",
       "    </tr>\n",
       "    <tr>\n",
       "      <th>2504</th>\n",
       "      <td>475000.0</td>\n",
       "      <td>475000.0</td>\n",
       "      <td>5.820766e-11</td>\n",
       "    </tr>\n",
       "    <tr>\n",
       "      <th>13076</th>\n",
       "      <td>931000.0</td>\n",
       "      <td>931000.0</td>\n",
       "      <td>0.000000e+00</td>\n",
       "    </tr>\n",
       "    <tr>\n",
       "      <th>12467</th>\n",
       "      <td>728000.0</td>\n",
       "      <td>728000.0</td>\n",
       "      <td>0.000000e+00</td>\n",
       "    </tr>\n",
       "  </tbody>\n",
       "</table>\n",
       "</div>"
      ],
      "text/plain": [
       "          actual  predicted      residual\n",
       "14557   350000.0   350000.0  5.820766e-11\n",
       "14240   862500.0   862500.0  1.164153e-10\n",
       "13954   733000.0   733000.0  0.000000e+00\n",
       "11622   373000.0   373000.0  1.746230e-10\n",
       "6184    639000.0   639000.0 -1.164153e-10\n",
       "18481   210000.0   210000.0  1.746230e-10\n",
       "10177  1400000.0  1400000.0  0.000000e+00\n",
       "2504    475000.0   475000.0  5.820766e-11\n",
       "13076   931000.0   931000.0  0.000000e+00\n",
       "12467   728000.0   728000.0  0.000000e+00"
      ]
     },
     "execution_count": 129,
     "metadata": {},
     "output_type": "execute_result"
    }
   ],
   "source": [
    "y_df.sample(10)"
   ]
  },
  {
   "cell_type": "markdown",
   "metadata": {},
   "source": [
    "### Step 10: Calculate RMSE"
   ]
  },
  {
   "cell_type": "code",
   "execution_count": 108,
   "metadata": {},
   "outputs": [],
   "source": [
    "from sklearn.metrics import mean_squared_error, r2_score"
   ]
  },
  {
   "cell_type": "code",
   "execution_count": 109,
   "metadata": {},
   "outputs": [],
   "source": [
    "mse_v1 = mean_squared_error(y_test, y_pred)"
   ]
  },
  {
   "cell_type": "code",
   "execution_count": 110,
   "metadata": {},
   "outputs": [
    {
     "data": {
      "text/plain": [
       "9.834389528186682e-21"
      ]
     },
     "execution_count": 110,
     "metadata": {},
     "output_type": "execute_result"
    }
   ],
   "source": [
    "mse_v1"
   ]
  },
  {
   "cell_type": "code",
   "execution_count": 111,
   "metadata": {},
   "outputs": [],
   "source": [
    "rmse_v1 = np.sqrt(mse_v1)"
   ]
  },
  {
   "cell_type": "code",
   "execution_count": 130,
   "metadata": {},
   "outputs": [
    {
     "data": {
      "text/plain": [
       "9.916849060153474e-11"
      ]
     },
     "execution_count": 130,
     "metadata": {},
     "output_type": "execute_result"
    }
   ],
   "source": [
    "rmse_v1"
   ]
  },
  {
   "cell_type": "markdown",
   "metadata": {},
   "source": [
    "### Step 11: Calculate RMSE"
   ]
  },
  {
   "cell_type": "markdown",
   "metadata": {},
   "source": [
    "### Step 12: Verify the R-squared for linear model using K Fold Cross Validation\n",
    "\n",
    "Note: Use cv=10"
   ]
  }
 ],
 "metadata": {
  "kernelspec": {
   "display_name": "Python 3",
   "language": "python",
   "name": "python3"
  },
  "language_info": {
   "codemirror_mode": {
    "name": "ipython",
    "version": 3
   },
   "file_extension": ".py",
   "mimetype": "text/x-python",
   "name": "python",
   "nbconvert_exporter": "python",
   "pygments_lexer": "ipython3",
   "version": "3.8.5"
  }
 },
 "nbformat": 4,
 "nbformat_minor": 2
}
