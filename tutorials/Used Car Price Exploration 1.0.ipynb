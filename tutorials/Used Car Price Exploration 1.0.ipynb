{
 "cells": [
  {
   "cell_type": "markdown",
   "metadata": {},
   "source": [
    "## Used Car Price Prediction\n",
    "\n",
    "There are id and 12 characteristics of cars and the price.\n",
    "\n",
    "1. Id - Car's id\n",
    "2. Name - The brand and model of the car.\n",
    "3. Location - The location in which the car is being sold or is available for purchase.\n",
    "4. Year - The year or edition of the model.\n",
    "5. Kilometers_Driven - The total kilometers are driven in the car by the previous owner(s) in KM.\n",
    "6. Fuel_Type - The type of fuel used by the car. (Petrol, Diesel, Electric, CNG, LPG)\n",
    "7. Transmission - The type of transmission used by the car. (Automatic / Manual)\n",
    "8. Owner_Type - First, Second, Third, or Fourth & Above\n",
    "9. Mileage - The standard mileage offered by the car company in kmpl or km/kg\n",
    "10. Engine - The displacement volume of the engine in CC.\n",
    "11. Power - The maximum power of the engine in bhp.\n",
    "12. Seats - The number of seats in the car.\n",
    "13. New_Price - The price of a new car of the same model.\n",
    "14. Price - The price of the car (target)."
   ]
  },
  {
   "cell_type": "markdown",
   "metadata": {},
   "source": [
    "### Loading the dataset"
   ]
  },
  {
   "cell_type": "code",
   "execution_count": 2,
   "metadata": {},
   "outputs": [],
   "source": [
    "import pandas as pd\n",
    "import numpy as np"
   ]
  },
  {
   "cell_type": "code",
   "execution_count": 3,
   "metadata": {},
   "outputs": [],
   "source": [
    "cars_df = pd.read_csv( \"./data/usedcar.csv\", index_col=[0] )"
   ]
  },
  {
   "cell_type": "code",
   "execution_count": 4,
   "metadata": {},
   "outputs": [
    {
     "data": {
      "text/plain": [
       "pandas.core.frame.DataFrame"
      ]
     },
     "execution_count": 4,
     "metadata": {},
     "output_type": "execute_result"
    }
   ],
   "source": [
    "type(cars_df)"
   ]
  },
  {
   "cell_type": "markdown",
   "metadata": {},
   "source": [
    "### Showing few records"
   ]
  },
  {
   "cell_type": "code",
   "execution_count": 5,
   "metadata": {
    "scrolled": true
   },
   "outputs": [
    {
     "data": {
      "text/html": [
       "<div>\n",
       "<style scoped>\n",
       "    .dataframe tbody tr th:only-of-type {\n",
       "        vertical-align: middle;\n",
       "    }\n",
       "\n",
       "    .dataframe tbody tr th {\n",
       "        vertical-align: top;\n",
       "    }\n",
       "\n",
       "    .dataframe thead th {\n",
       "        text-align: right;\n",
       "    }\n",
       "</style>\n",
       "<table border=\"1\" class=\"dataframe\">\n",
       "  <thead>\n",
       "    <tr style=\"text-align: right;\">\n",
       "      <th></th>\n",
       "      <th>Name</th>\n",
       "      <th>Location</th>\n",
       "      <th>Year</th>\n",
       "      <th>Kilometers_Driven</th>\n",
       "      <th>Fuel_Type</th>\n",
       "      <th>Transmission</th>\n",
       "      <th>Owner_Type</th>\n",
       "      <th>Mileage</th>\n",
       "      <th>Engine</th>\n",
       "      <th>Power</th>\n",
       "      <th>Seats</th>\n",
       "      <th>New_Price</th>\n",
       "      <th>Price</th>\n",
       "    </tr>\n",
       "  </thead>\n",
       "  <tbody>\n",
       "    <tr>\n",
       "      <th>0</th>\n",
       "      <td>Maruti Wagon R LXI CNG</td>\n",
       "      <td>Mumbai</td>\n",
       "      <td>2010</td>\n",
       "      <td>72000</td>\n",
       "      <td>CNG</td>\n",
       "      <td>Manual</td>\n",
       "      <td>First</td>\n",
       "      <td>26.6 km/kg</td>\n",
       "      <td>998 CC</td>\n",
       "      <td>58.16 bhp</td>\n",
       "      <td>5.0</td>\n",
       "      <td>NaN</td>\n",
       "      <td>1.75</td>\n",
       "    </tr>\n",
       "    <tr>\n",
       "      <th>1</th>\n",
       "      <td>Hyundai Creta 1.6 CRDi SX Option</td>\n",
       "      <td>Pune</td>\n",
       "      <td>2015</td>\n",
       "      <td>41000</td>\n",
       "      <td>Diesel</td>\n",
       "      <td>Manual</td>\n",
       "      <td>First</td>\n",
       "      <td>19.67 kmpl</td>\n",
       "      <td>1582 CC</td>\n",
       "      <td>126.2 bhp</td>\n",
       "      <td>5.0</td>\n",
       "      <td>NaN</td>\n",
       "      <td>12.50</td>\n",
       "    </tr>\n",
       "    <tr>\n",
       "      <th>2</th>\n",
       "      <td>Honda Jazz V</td>\n",
       "      <td>Chennai</td>\n",
       "      <td>2011</td>\n",
       "      <td>46000</td>\n",
       "      <td>Petrol</td>\n",
       "      <td>Manual</td>\n",
       "      <td>First</td>\n",
       "      <td>18.2 kmpl</td>\n",
       "      <td>1199 CC</td>\n",
       "      <td>88.7 bhp</td>\n",
       "      <td>5.0</td>\n",
       "      <td>8.61 Lakh</td>\n",
       "      <td>4.50</td>\n",
       "    </tr>\n",
       "    <tr>\n",
       "      <th>3</th>\n",
       "      <td>Maruti Ertiga VDI</td>\n",
       "      <td>Chennai</td>\n",
       "      <td>2012</td>\n",
       "      <td>87000</td>\n",
       "      <td>Diesel</td>\n",
       "      <td>Manual</td>\n",
       "      <td>First</td>\n",
       "      <td>20.77 kmpl</td>\n",
       "      <td>1248 CC</td>\n",
       "      <td>88.76 bhp</td>\n",
       "      <td>7.0</td>\n",
       "      <td>NaN</td>\n",
       "      <td>6.00</td>\n",
       "    </tr>\n",
       "    <tr>\n",
       "      <th>4</th>\n",
       "      <td>Audi A4 New 2.0 TDI Multitronic</td>\n",
       "      <td>Coimbatore</td>\n",
       "      <td>2013</td>\n",
       "      <td>40670</td>\n",
       "      <td>Diesel</td>\n",
       "      <td>Automatic</td>\n",
       "      <td>Second</td>\n",
       "      <td>15.2 kmpl</td>\n",
       "      <td>1968 CC</td>\n",
       "      <td>140.8 bhp</td>\n",
       "      <td>5.0</td>\n",
       "      <td>NaN</td>\n",
       "      <td>17.74</td>\n",
       "    </tr>\n",
       "    <tr>\n",
       "      <th>5</th>\n",
       "      <td>Hyundai EON LPG Era Plus Option</td>\n",
       "      <td>Hyderabad</td>\n",
       "      <td>2012</td>\n",
       "      <td>75000</td>\n",
       "      <td>LPG</td>\n",
       "      <td>Manual</td>\n",
       "      <td>First</td>\n",
       "      <td>21.1 km/kg</td>\n",
       "      <td>814 CC</td>\n",
       "      <td>55.2 bhp</td>\n",
       "      <td>5.0</td>\n",
       "      <td>NaN</td>\n",
       "      <td>2.35</td>\n",
       "    </tr>\n",
       "  </tbody>\n",
       "</table>\n",
       "</div>"
      ],
      "text/plain": [
       "                               Name    Location  Year  Kilometers_Driven  \\\n",
       "0            Maruti Wagon R LXI CNG      Mumbai  2010              72000   \n",
       "1  Hyundai Creta 1.6 CRDi SX Option        Pune  2015              41000   \n",
       "2                      Honda Jazz V     Chennai  2011              46000   \n",
       "3                 Maruti Ertiga VDI     Chennai  2012              87000   \n",
       "4   Audi A4 New 2.0 TDI Multitronic  Coimbatore  2013              40670   \n",
       "5   Hyundai EON LPG Era Plus Option   Hyderabad  2012              75000   \n",
       "\n",
       "  Fuel_Type Transmission Owner_Type     Mileage   Engine      Power  Seats  \\\n",
       "0       CNG       Manual      First  26.6 km/kg   998 CC  58.16 bhp    5.0   \n",
       "1    Diesel       Manual      First  19.67 kmpl  1582 CC  126.2 bhp    5.0   \n",
       "2    Petrol       Manual      First   18.2 kmpl  1199 CC   88.7 bhp    5.0   \n",
       "3    Diesel       Manual      First  20.77 kmpl  1248 CC  88.76 bhp    7.0   \n",
       "4    Diesel    Automatic     Second   15.2 kmpl  1968 CC  140.8 bhp    5.0   \n",
       "5       LPG       Manual      First  21.1 km/kg   814 CC   55.2 bhp    5.0   \n",
       "\n",
       "   New_Price  Price  \n",
       "0        NaN   1.75  \n",
       "1        NaN  12.50  \n",
       "2  8.61 Lakh   4.50  \n",
       "3        NaN   6.00  \n",
       "4        NaN  17.74  \n",
       "5        NaN   2.35  "
      ]
     },
     "execution_count": 5,
     "metadata": {},
     "output_type": "execute_result"
    }
   ],
   "source": [
    "cars_df.head(6)"
   ]
  },
  {
   "cell_type": "markdown",
   "metadata": {},
   "source": [
    "### Getting metadata"
   ]
  },
  {
   "cell_type": "code",
   "execution_count": 6,
   "metadata": {},
   "outputs": [
    {
     "data": {
      "text/plain": [
       "(6019, 13)"
      ]
     },
     "execution_count": 6,
     "metadata": {},
     "output_type": "execute_result"
    }
   ],
   "source": [
    "cars_df.shape"
   ]
  },
  {
   "cell_type": "code",
   "execution_count": 7,
   "metadata": {},
   "outputs": [
    {
     "name": "stdout",
     "output_type": "stream",
     "text": [
      "<class 'pandas.core.frame.DataFrame'>\n",
      "Int64Index: 6019 entries, 0 to 6018\n",
      "Data columns (total 13 columns):\n",
      " #   Column             Non-Null Count  Dtype  \n",
      "---  ------             --------------  -----  \n",
      " 0   Name               6019 non-null   object \n",
      " 1   Location           6019 non-null   object \n",
      " 2   Year               6019 non-null   int64  \n",
      " 3   Kilometers_Driven  6019 non-null   int64  \n",
      " 4   Fuel_Type          6019 non-null   object \n",
      " 5   Transmission       6019 non-null   object \n",
      " 6   Owner_Type         6019 non-null   object \n",
      " 7   Mileage            6017 non-null   object \n",
      " 8   Engine             5983 non-null   object \n",
      " 9   Power              5983 non-null   object \n",
      " 10  Seats              5977 non-null   float64\n",
      " 11  New_Price          824 non-null    object \n",
      " 12  Price              6019 non-null   float64\n",
      "dtypes: float64(2), int64(2), object(9)\n",
      "memory usage: 658.3+ KB\n"
     ]
    }
   ],
   "source": [
    "cars_df.info()"
   ]
  },
  {
   "cell_type": "markdown",
   "metadata": {},
   "source": [
    "### Indexing and Slicing"
   ]
  },
  {
   "cell_type": "code",
   "execution_count": 8,
   "metadata": {},
   "outputs": [
    {
     "data": {
      "text/html": [
       "<div>\n",
       "<style scoped>\n",
       "    .dataframe tbody tr th:only-of-type {\n",
       "        vertical-align: middle;\n",
       "    }\n",
       "\n",
       "    .dataframe tbody tr th {\n",
       "        vertical-align: top;\n",
       "    }\n",
       "\n",
       "    .dataframe thead th {\n",
       "        text-align: right;\n",
       "    }\n",
       "</style>\n",
       "<table border=\"1\" class=\"dataframe\">\n",
       "  <thead>\n",
       "    <tr style=\"text-align: right;\">\n",
       "      <th></th>\n",
       "      <th>Name</th>\n",
       "      <th>Location</th>\n",
       "      <th>Year</th>\n",
       "      <th>Kilometers_Driven</th>\n",
       "      <th>Fuel_Type</th>\n",
       "      <th>Transmission</th>\n",
       "      <th>Owner_Type</th>\n",
       "      <th>Mileage</th>\n",
       "      <th>Engine</th>\n",
       "      <th>Power</th>\n",
       "      <th>Seats</th>\n",
       "      <th>New_Price</th>\n",
       "      <th>Price</th>\n",
       "    </tr>\n",
       "  </thead>\n",
       "  <tbody>\n",
       "    <tr>\n",
       "      <th>0</th>\n",
       "      <td>Maruti Wagon R LXI CNG</td>\n",
       "      <td>Mumbai</td>\n",
       "      <td>2010</td>\n",
       "      <td>72000</td>\n",
       "      <td>CNG</td>\n",
       "      <td>Manual</td>\n",
       "      <td>First</td>\n",
       "      <td>26.6 km/kg</td>\n",
       "      <td>998 CC</td>\n",
       "      <td>58.16 bhp</td>\n",
       "      <td>5.0</td>\n",
       "      <td>NaN</td>\n",
       "      <td>1.75</td>\n",
       "    </tr>\n",
       "    <tr>\n",
       "      <th>1</th>\n",
       "      <td>Hyundai Creta 1.6 CRDi SX Option</td>\n",
       "      <td>Pune</td>\n",
       "      <td>2015</td>\n",
       "      <td>41000</td>\n",
       "      <td>Diesel</td>\n",
       "      <td>Manual</td>\n",
       "      <td>First</td>\n",
       "      <td>19.67 kmpl</td>\n",
       "      <td>1582 CC</td>\n",
       "      <td>126.2 bhp</td>\n",
       "      <td>5.0</td>\n",
       "      <td>NaN</td>\n",
       "      <td>12.50</td>\n",
       "    </tr>\n",
       "  </tbody>\n",
       "</table>\n",
       "</div>"
      ],
      "text/plain": [
       "                               Name Location  Year  Kilometers_Driven  \\\n",
       "0            Maruti Wagon R LXI CNG   Mumbai  2010              72000   \n",
       "1  Hyundai Creta 1.6 CRDi SX Option     Pune  2015              41000   \n",
       "\n",
       "  Fuel_Type Transmission Owner_Type     Mileage   Engine      Power  Seats  \\\n",
       "0       CNG       Manual      First  26.6 km/kg   998 CC  58.16 bhp    5.0   \n",
       "1    Diesel       Manual      First  19.67 kmpl  1582 CC  126.2 bhp    5.0   \n",
       "\n",
       "  New_Price  Price  \n",
       "0       NaN   1.75  \n",
       "1       NaN  12.50  "
      ]
     },
     "execution_count": 8,
     "metadata": {},
     "output_type": "execute_result"
    }
   ],
   "source": [
    "cars_df[0:2]"
   ]
  },
  {
   "cell_type": "code",
   "execution_count": 9,
   "metadata": {},
   "outputs": [
    {
     "data": {
      "text/html": [
       "<div>\n",
       "<style scoped>\n",
       "    .dataframe tbody tr th:only-of-type {\n",
       "        vertical-align: middle;\n",
       "    }\n",
       "\n",
       "    .dataframe tbody tr th {\n",
       "        vertical-align: top;\n",
       "    }\n",
       "\n",
       "    .dataframe thead th {\n",
       "        text-align: right;\n",
       "    }\n",
       "</style>\n",
       "<table border=\"1\" class=\"dataframe\">\n",
       "  <thead>\n",
       "    <tr style=\"text-align: right;\">\n",
       "      <th></th>\n",
       "      <th>Name</th>\n",
       "      <th>Location</th>\n",
       "      <th>Year</th>\n",
       "      <th>Kilometers_Driven</th>\n",
       "      <th>Fuel_Type</th>\n",
       "      <th>Transmission</th>\n",
       "      <th>Owner_Type</th>\n",
       "      <th>Mileage</th>\n",
       "      <th>Engine</th>\n",
       "      <th>Power</th>\n",
       "      <th>Seats</th>\n",
       "      <th>New_Price</th>\n",
       "      <th>Price</th>\n",
       "    </tr>\n",
       "  </thead>\n",
       "  <tbody>\n",
       "    <tr>\n",
       "      <th>6017</th>\n",
       "      <td>Maruti Wagon R VXI</td>\n",
       "      <td>Kolkata</td>\n",
       "      <td>2013</td>\n",
       "      <td>46000</td>\n",
       "      <td>Petrol</td>\n",
       "      <td>Manual</td>\n",
       "      <td>First</td>\n",
       "      <td>18.9 kmpl</td>\n",
       "      <td>998 CC</td>\n",
       "      <td>67.1 bhp</td>\n",
       "      <td>5.0</td>\n",
       "      <td>NaN</td>\n",
       "      <td>2.65</td>\n",
       "    </tr>\n",
       "    <tr>\n",
       "      <th>6018</th>\n",
       "      <td>Chevrolet Beat Diesel</td>\n",
       "      <td>Hyderabad</td>\n",
       "      <td>2011</td>\n",
       "      <td>47000</td>\n",
       "      <td>Diesel</td>\n",
       "      <td>Manual</td>\n",
       "      <td>First</td>\n",
       "      <td>25.44 kmpl</td>\n",
       "      <td>936 CC</td>\n",
       "      <td>57.6 bhp</td>\n",
       "      <td>5.0</td>\n",
       "      <td>NaN</td>\n",
       "      <td>2.50</td>\n",
       "    </tr>\n",
       "  </tbody>\n",
       "</table>\n",
       "</div>"
      ],
      "text/plain": [
       "                       Name   Location  Year  Kilometers_Driven Fuel_Type  \\\n",
       "6017     Maruti Wagon R VXI    Kolkata  2013              46000    Petrol   \n",
       "6018  Chevrolet Beat Diesel  Hyderabad  2011              47000    Diesel   \n",
       "\n",
       "     Transmission Owner_Type     Mileage  Engine     Power  Seats New_Price  \\\n",
       "6017       Manual      First   18.9 kmpl  998 CC  67.1 bhp    5.0       NaN   \n",
       "6018       Manual      First  25.44 kmpl  936 CC  57.6 bhp    5.0       NaN   \n",
       "\n",
       "      Price  \n",
       "6017   2.65  \n",
       "6018   2.50  "
      ]
     },
     "execution_count": 9,
     "metadata": {},
     "output_type": "execute_result"
    }
   ],
   "source": [
    "cars_df[-2:]"
   ]
  },
  {
   "cell_type": "code",
   "execution_count": 91,
   "metadata": {},
   "outputs": [
    {
     "data": {
      "text/html": [
       "<div>\n",
       "<style scoped>\n",
       "    .dataframe tbody tr th:only-of-type {\n",
       "        vertical-align: middle;\n",
       "    }\n",
       "\n",
       "    .dataframe tbody tr th {\n",
       "        vertical-align: top;\n",
       "    }\n",
       "\n",
       "    .dataframe thead th {\n",
       "        text-align: right;\n",
       "    }\n",
       "</style>\n",
       "<table border=\"1\" class=\"dataframe\">\n",
       "  <thead>\n",
       "    <tr style=\"text-align: right;\">\n",
       "      <th></th>\n",
       "      <th>Name</th>\n",
       "      <th>Price</th>\n",
       "    </tr>\n",
       "  </thead>\n",
       "  <tbody>\n",
       "    <tr>\n",
       "      <th>0</th>\n",
       "      <td>Maruti Wagon R LXI CNG</td>\n",
       "      <td>1.75</td>\n",
       "    </tr>\n",
       "    <tr>\n",
       "      <th>1</th>\n",
       "      <td>Hyundai Creta 1.6 CRDi SX Option</td>\n",
       "      <td>12.50</td>\n",
       "    </tr>\n",
       "    <tr>\n",
       "      <th>2</th>\n",
       "      <td>Honda Jazz V</td>\n",
       "      <td>4.50</td>\n",
       "    </tr>\n",
       "    <tr>\n",
       "      <th>3</th>\n",
       "      <td>Maruti Ertiga VDI</td>\n",
       "      <td>6.00</td>\n",
       "    </tr>\n",
       "  </tbody>\n",
       "</table>\n",
       "</div>"
      ],
      "text/plain": [
       "                               Name  Price\n",
       "0            Maruti Wagon R LXI CNG   1.75\n",
       "1  Hyundai Creta 1.6 CRDi SX Option  12.50\n",
       "2                      Honda Jazz V   4.50\n",
       "3                 Maruti Ertiga VDI   6.00"
      ]
     },
     "execution_count": 91,
     "metadata": {},
     "output_type": "execute_result"
    }
   ],
   "source": [
    "cars_df[['Name', 'Price']][0:4]"
   ]
  },
  {
   "cell_type": "code",
   "execution_count": 93,
   "metadata": {},
   "outputs": [
    {
     "data": {
      "text/html": [
       "<div>\n",
       "<style scoped>\n",
       "    .dataframe tbody tr th:only-of-type {\n",
       "        vertical-align: middle;\n",
       "    }\n",
       "\n",
       "    .dataframe tbody tr th {\n",
       "        vertical-align: top;\n",
       "    }\n",
       "\n",
       "    .dataframe thead th {\n",
       "        text-align: right;\n",
       "    }\n",
       "</style>\n",
       "<table border=\"1\" class=\"dataframe\">\n",
       "  <thead>\n",
       "    <tr style=\"text-align: right;\">\n",
       "      <th></th>\n",
       "      <th>Name</th>\n",
       "      <th>Location</th>\n",
       "      <th>Year</th>\n",
       "      <th>Kilometers_Driven</th>\n",
       "      <th>Fuel_Type</th>\n",
       "      <th>Transmission</th>\n",
       "      <th>Owner_Type</th>\n",
       "      <th>Mileage</th>\n",
       "      <th>Engine</th>\n",
       "      <th>Power</th>\n",
       "      <th>Seats</th>\n",
       "      <th>New_Price</th>\n",
       "      <th>Price</th>\n",
       "      <th>age</th>\n",
       "      <th>make</th>\n",
       "      <th>model</th>\n",
       "      <th>mileage_new</th>\n",
       "      <th>engine_new</th>\n",
       "      <th>power_new</th>\n",
       "    </tr>\n",
       "  </thead>\n",
       "  <tbody>\n",
       "    <tr>\n",
       "      <th>3446</th>\n",
       "      <td>Ford Endeavour 2.2 Trend AT 4X2</td>\n",
       "      <td>Pune</td>\n",
       "      <td>2016</td>\n",
       "      <td>75000</td>\n",
       "      <td>Diesel</td>\n",
       "      <td>Automatic</td>\n",
       "      <td>First</td>\n",
       "      <td>12.62 kmpl</td>\n",
       "      <td>2198 CC</td>\n",
       "      <td>158 bhp</td>\n",
       "      <td>7.0</td>\n",
       "      <td>NaN</td>\n",
       "      <td>24.00</td>\n",
       "      <td>4</td>\n",
       "      <td>ford</td>\n",
       "      <td>endeavour</td>\n",
       "      <td>12.62</td>\n",
       "      <td>2198.0</td>\n",
       "      <td>158.00</td>\n",
       "    </tr>\n",
       "    <tr>\n",
       "      <th>1698</th>\n",
       "      <td>Hyundai i20 1.2 Magna Executive</td>\n",
       "      <td>Jaipur</td>\n",
       "      <td>2017</td>\n",
       "      <td>58500</td>\n",
       "      <td>Petrol</td>\n",
       "      <td>Manual</td>\n",
       "      <td>First</td>\n",
       "      <td>18.6 kmpl</td>\n",
       "      <td>1197 CC</td>\n",
       "      <td>81.83 bhp</td>\n",
       "      <td>5.0</td>\n",
       "      <td>NaN</td>\n",
       "      <td>6.25</td>\n",
       "      <td>3</td>\n",
       "      <td>hyundai</td>\n",
       "      <td>i20</td>\n",
       "      <td>18.60</td>\n",
       "      <td>1197.0</td>\n",
       "      <td>81.83</td>\n",
       "    </tr>\n",
       "    <tr>\n",
       "      <th>3067</th>\n",
       "      <td>Mahindra Xylo H4</td>\n",
       "      <td>Coimbatore</td>\n",
       "      <td>2016</td>\n",
       "      <td>93166</td>\n",
       "      <td>Diesel</td>\n",
       "      <td>Manual</td>\n",
       "      <td>Second</td>\n",
       "      <td>14.02 kmpl</td>\n",
       "      <td>2179 CC</td>\n",
       "      <td>118.3 bhp</td>\n",
       "      <td>7.0</td>\n",
       "      <td>11.67 Lakh</td>\n",
       "      <td>5.85</td>\n",
       "      <td>4</td>\n",
       "      <td>mahindra</td>\n",
       "      <td>xylo</td>\n",
       "      <td>14.02</td>\n",
       "      <td>2179.0</td>\n",
       "      <td>118.30</td>\n",
       "    </tr>\n",
       "    <tr>\n",
       "      <th>5384</th>\n",
       "      <td>Tata Zest Revotron 1.2T XM</td>\n",
       "      <td>Mumbai</td>\n",
       "      <td>2014</td>\n",
       "      <td>36000</td>\n",
       "      <td>Petrol</td>\n",
       "      <td>Manual</td>\n",
       "      <td>First</td>\n",
       "      <td>17.57 kmpl</td>\n",
       "      <td>1193 CC</td>\n",
       "      <td>88.7 bhp</td>\n",
       "      <td>5.0</td>\n",
       "      <td>7.63 Lakh</td>\n",
       "      <td>3.70</td>\n",
       "      <td>6</td>\n",
       "      <td>tata</td>\n",
       "      <td>zest</td>\n",
       "      <td>17.57</td>\n",
       "      <td>1193.0</td>\n",
       "      <td>88.70</td>\n",
       "    </tr>\n",
       "    <tr>\n",
       "      <th>2347</th>\n",
       "      <td>Ford Ecosport 1.5 DV5 MT Trend</td>\n",
       "      <td>Bangalore</td>\n",
       "      <td>2013</td>\n",
       "      <td>36000</td>\n",
       "      <td>Diesel</td>\n",
       "      <td>Manual</td>\n",
       "      <td>Second</td>\n",
       "      <td>22.7 kmpl</td>\n",
       "      <td>1498 CC</td>\n",
       "      <td>89.84 bhp</td>\n",
       "      <td>5.0</td>\n",
       "      <td>NaN</td>\n",
       "      <td>6.35</td>\n",
       "      <td>7</td>\n",
       "      <td>ford</td>\n",
       "      <td>ecosport</td>\n",
       "      <td>22.70</td>\n",
       "      <td>1498.0</td>\n",
       "      <td>89.84</td>\n",
       "    </tr>\n",
       "  </tbody>\n",
       "</table>\n",
       "</div>"
      ],
      "text/plain": [
       "                                 Name    Location  Year  Kilometers_Driven  \\\n",
       "3446  Ford Endeavour 2.2 Trend AT 4X2        Pune  2016              75000   \n",
       "1698  Hyundai i20 1.2 Magna Executive      Jaipur  2017              58500   \n",
       "3067                 Mahindra Xylo H4  Coimbatore  2016              93166   \n",
       "5384       Tata Zest Revotron 1.2T XM      Mumbai  2014              36000   \n",
       "2347   Ford Ecosport 1.5 DV5 MT Trend   Bangalore  2013              36000   \n",
       "\n",
       "     Fuel_Type Transmission Owner_Type     Mileage   Engine      Power  Seats  \\\n",
       "3446    Diesel    Automatic      First  12.62 kmpl  2198 CC    158 bhp    7.0   \n",
       "1698    Petrol       Manual      First   18.6 kmpl  1197 CC  81.83 bhp    5.0   \n",
       "3067    Diesel       Manual     Second  14.02 kmpl  2179 CC  118.3 bhp    7.0   \n",
       "5384    Petrol       Manual      First  17.57 kmpl  1193 CC   88.7 bhp    5.0   \n",
       "2347    Diesel       Manual     Second   22.7 kmpl  1498 CC  89.84 bhp    5.0   \n",
       "\n",
       "       New_Price  Price  age      make      model  mileage_new  engine_new  \\\n",
       "3446         NaN  24.00    4      ford  endeavour        12.62      2198.0   \n",
       "1698         NaN   6.25    3   hyundai        i20        18.60      1197.0   \n",
       "3067  11.67 Lakh   5.85    4  mahindra       xylo        14.02      2179.0   \n",
       "5384   7.63 Lakh   3.70    6      tata       zest        17.57      1193.0   \n",
       "2347         NaN   6.35    7      ford   ecosport        22.70      1498.0   \n",
       "\n",
       "      power_new  \n",
       "3446     158.00  \n",
       "1698      81.83  \n",
       "3067     118.30  \n",
       "5384      88.70  \n",
       "2347      89.84  "
      ]
     },
     "execution_count": 93,
     "metadata": {},
     "output_type": "execute_result"
    }
   ],
   "source": [
    "cars_df.sample(5, random_state=100)"
   ]
  },
  {
   "cell_type": "markdown",
   "metadata": {},
   "source": [
    "## Finding Insights"
   ]
  },
  {
   "cell_type": "markdown",
   "metadata": {},
   "source": [
    "### How many cars sold in each location?"
   ]
  },
  {
   "cell_type": "code",
   "execution_count": 11,
   "metadata": {},
   "outputs": [
    {
     "data": {
      "text/plain": [
       "Mumbai        790\n",
       "Hyderabad     742\n",
       "Kochi         651\n",
       "Coimbatore    636\n",
       "Pune          622\n",
       "Delhi         554\n",
       "Kolkata       535\n",
       "Chennai       494\n",
       "Jaipur        413\n",
       "Bangalore     358\n",
       "Ahmedabad     224\n",
       "Name: Location, dtype: int64"
      ]
     },
     "execution_count": 11,
     "metadata": {},
     "output_type": "execute_result"
    }
   ],
   "source": [
    "#cars_df['Location'].value_counts()\n",
    "cars_df.Location.value_counts()"
   ]
  },
  {
   "cell_type": "markdown",
   "metadata": {},
   "source": [
    "### What are different transmission types and how may cars are available from each transmission type?"
   ]
  },
  {
   "cell_type": "code",
   "execution_count": 12,
   "metadata": {},
   "outputs": [
    {
     "data": {
      "text/plain": [
       "Manual       4299\n",
       "Automatic    1720\n",
       "Name: Transmission, dtype: int64"
      ]
     },
     "execution_count": 12,
     "metadata": {},
     "output_type": "execute_result"
    }
   ],
   "source": [
    "#cars_df['Transmission'].value_counts()\n",
    "cars_df.Transmission.value_counts()"
   ]
  },
  {
   "cell_type": "code",
   "execution_count": 13,
   "metadata": {},
   "outputs": [
    {
     "data": {
      "text/plain": [
       "Manual       71.423825\n",
       "Automatic    28.576175\n",
       "Name: Transmission, dtype: float64"
      ]
     },
     "execution_count": 13,
     "metadata": {},
     "output_type": "execute_result"
    }
   ],
   "source": [
    "cars_df.Transmission.value_counts(normalize=True)*100"
   ]
  },
  {
   "cell_type": "markdown",
   "metadata": {},
   "source": [
    "### What are different owner types and how may cars are available from each owner type?"
   ]
  },
  {
   "cell_type": "code",
   "execution_count": 96,
   "metadata": {},
   "outputs": [
    {
     "data": {
      "text/plain": [
       "First             81.890680\n",
       "Second            16.082406\n",
       "Third              1.877388\n",
       "Fourth & Above     0.149526\n",
       "Name: Owner_Type, dtype: float64"
      ]
     },
     "execution_count": 96,
     "metadata": {},
     "output_type": "execute_result"
    }
   ],
   "source": [
    "cars_df.Owner_Type.value_counts(normalize=True)*100"
   ]
  },
  {
   "cell_type": "markdown",
   "metadata": {},
   "source": [
    "### Plotting number of cars sold at each location"
   ]
  },
  {
   "cell_type": "code",
   "execution_count": 15,
   "metadata": {},
   "outputs": [
    {
     "name": "stderr",
     "output_type": "stream",
     "text": [
      "Matplotlib is building the font cache; this may take a moment.\n"
     ]
    }
   ],
   "source": [
    "import matplotlib.pyplot as plt\n",
    "import seaborn as sn"
   ]
  },
  {
   "cell_type": "code",
   "execution_count": 16,
   "metadata": {},
   "outputs": [
    {
     "data": {
      "image/png": "[encoded data removed]",
      "text/plain": [
       "<Figure size 1080x432 with 1 Axes>"
      ]
     },
     "metadata": {
      "needs_background": "light"
     },
     "output_type": "display_data"
    }
   ],
   "source": [
    "plt.figure(figsize=(15, 6))\n",
    "sn.countplot( data = cars_df,\n",
    "              x = 'Location');"
   ]
  },
  {
   "cell_type": "markdown",
   "metadata": {},
   "source": [
    "### Top 10 most expensive cars"
   ]
  },
  {
   "cell_type": "code",
   "execution_count": 17,
   "metadata": {},
   "outputs": [
    {
     "data": {
      "text/html": [
       "<div>\n",
       "<style scoped>\n",
       "    .dataframe tbody tr th:only-of-type {\n",
       "        vertical-align: middle;\n",
       "    }\n",
       "\n",
       "    .dataframe tbody tr th {\n",
       "        vertical-align: top;\n",
       "    }\n",
       "\n",
       "    .dataframe thead th {\n",
       "        text-align: right;\n",
       "    }\n",
       "</style>\n",
       "<table border=\"1\" class=\"dataframe\">\n",
       "  <thead>\n",
       "    <tr style=\"text-align: right;\">\n",
       "      <th></th>\n",
       "      <th>Name</th>\n",
       "      <th>Location</th>\n",
       "      <th>Year</th>\n",
       "      <th>Kilometers_Driven</th>\n",
       "      <th>Fuel_Type</th>\n",
       "      <th>Transmission</th>\n",
       "      <th>Owner_Type</th>\n",
       "      <th>Mileage</th>\n",
       "      <th>Engine</th>\n",
       "      <th>Power</th>\n",
       "      <th>Seats</th>\n",
       "      <th>New_Price</th>\n",
       "      <th>Price</th>\n",
       "    </tr>\n",
       "  </thead>\n",
       "  <tbody>\n",
       "    <tr>\n",
       "      <th>4079</th>\n",
       "      <td>Land Rover Range Rover 3.0 Diesel LWB Vogue</td>\n",
       "      <td>Hyderabad</td>\n",
       "      <td>2017</td>\n",
       "      <td>25000</td>\n",
       "      <td>Diesel</td>\n",
       "      <td>Automatic</td>\n",
       "      <td>First</td>\n",
       "      <td>13.33 kmpl</td>\n",
       "      <td>2993 CC</td>\n",
       "      <td>255 bhp</td>\n",
       "      <td>5.0</td>\n",
       "      <td>2.3 Cr</td>\n",
       "      <td>160.00</td>\n",
       "    </tr>\n",
       "    <tr>\n",
       "      <th>5781</th>\n",
       "      <td>Lamborghini Gallardo Coupe</td>\n",
       "      <td>Delhi</td>\n",
       "      <td>2011</td>\n",
       "      <td>6500</td>\n",
       "      <td>Petrol</td>\n",
       "      <td>Automatic</td>\n",
       "      <td>Third</td>\n",
       "      <td>6.4 kmpl</td>\n",
       "      <td>5204 CC</td>\n",
       "      <td>560 bhp</td>\n",
       "      <td>2.0</td>\n",
       "      <td>NaN</td>\n",
       "      <td>120.00</td>\n",
       "    </tr>\n",
       "    <tr>\n",
       "      <th>5919</th>\n",
       "      <td>Jaguar F Type 5.0 V8 S</td>\n",
       "      <td>Hyderabad</td>\n",
       "      <td>2015</td>\n",
       "      <td>8000</td>\n",
       "      <td>Petrol</td>\n",
       "      <td>Automatic</td>\n",
       "      <td>First</td>\n",
       "      <td>12.5 kmpl</td>\n",
       "      <td>5000 CC</td>\n",
       "      <td>488.1 bhp</td>\n",
       "      <td>2.0</td>\n",
       "      <td>NaN</td>\n",
       "      <td>100.00</td>\n",
       "    </tr>\n",
       "    <tr>\n",
       "      <th>1505</th>\n",
       "      <td>Land Rover Range Rover Sport SE</td>\n",
       "      <td>Kochi</td>\n",
       "      <td>2019</td>\n",
       "      <td>26013</td>\n",
       "      <td>Diesel</td>\n",
       "      <td>Automatic</td>\n",
       "      <td>First</td>\n",
       "      <td>12.65 kmpl</td>\n",
       "      <td>2993 CC</td>\n",
       "      <td>255 bhp</td>\n",
       "      <td>5.0</td>\n",
       "      <td>1.39 Cr</td>\n",
       "      <td>97.07</td>\n",
       "    </tr>\n",
       "    <tr>\n",
       "      <th>1974</th>\n",
       "      <td>BMW 7 Series 740Li</td>\n",
       "      <td>Coimbatore</td>\n",
       "      <td>2018</td>\n",
       "      <td>28060</td>\n",
       "      <td>Petrol</td>\n",
       "      <td>Automatic</td>\n",
       "      <td>First</td>\n",
       "      <td>12.05 kmpl</td>\n",
       "      <td>2979 CC</td>\n",
       "      <td>320 bhp</td>\n",
       "      <td>5.0</td>\n",
       "      <td>NaN</td>\n",
       "      <td>93.67</td>\n",
       "    </tr>\n",
       "    <tr>\n",
       "      <th>1984</th>\n",
       "      <td>BMW 7 Series 740Li</td>\n",
       "      <td>Bangalore</td>\n",
       "      <td>2017</td>\n",
       "      <td>17465</td>\n",
       "      <td>Petrol</td>\n",
       "      <td>Automatic</td>\n",
       "      <td>First</td>\n",
       "      <td>12.05 kmpl</td>\n",
       "      <td>2979 CC</td>\n",
       "      <td>320 bhp</td>\n",
       "      <td>5.0</td>\n",
       "      <td>NaN</td>\n",
       "      <td>93.00</td>\n",
       "    </tr>\n",
       "    <tr>\n",
       "      <th>4691</th>\n",
       "      <td>Mercedes-Benz SLK-Class 55 AMG</td>\n",
       "      <td>Bangalore</td>\n",
       "      <td>2014</td>\n",
       "      <td>3000</td>\n",
       "      <td>Petrol</td>\n",
       "      <td>Automatic</td>\n",
       "      <td>Second</td>\n",
       "      <td>12.0 kmpl</td>\n",
       "      <td>5461 CC</td>\n",
       "      <td>421 bhp</td>\n",
       "      <td>2.0</td>\n",
       "      <td>NaN</td>\n",
       "      <td>90.00</td>\n",
       "    </tr>\n",
       "    <tr>\n",
       "      <th>5535</th>\n",
       "      <td>BMW X6 xDrive 40d M Sport</td>\n",
       "      <td>Ahmedabad</td>\n",
       "      <td>2015</td>\n",
       "      <td>97003</td>\n",
       "      <td>Diesel</td>\n",
       "      <td>Automatic</td>\n",
       "      <td>First</td>\n",
       "      <td>15.87 kmpl</td>\n",
       "      <td>2993 CC</td>\n",
       "      <td>308.43 bhp</td>\n",
       "      <td>5.0</td>\n",
       "      <td>NaN</td>\n",
       "      <td>85.00</td>\n",
       "    </tr>\n",
       "    <tr>\n",
       "      <th>2095</th>\n",
       "      <td>Mercedes-Benz SLC 43 AMG</td>\n",
       "      <td>Coimbatore</td>\n",
       "      <td>2019</td>\n",
       "      <td>2526</td>\n",
       "      <td>Petrol</td>\n",
       "      <td>Automatic</td>\n",
       "      <td>First</td>\n",
       "      <td>19.0 kmpl</td>\n",
       "      <td>2996 CC</td>\n",
       "      <td>362.07 bhp</td>\n",
       "      <td>2.0</td>\n",
       "      <td>1.06 Cr</td>\n",
       "      <td>83.96</td>\n",
       "    </tr>\n",
       "    <tr>\n",
       "      <th>1885</th>\n",
       "      <td>Mercedes-Benz GLS 350d Grand Edition</td>\n",
       "      <td>Delhi</td>\n",
       "      <td>2018</td>\n",
       "      <td>6000</td>\n",
       "      <td>Diesel</td>\n",
       "      <td>Automatic</td>\n",
       "      <td>First</td>\n",
       "      <td>11.0 kmpl</td>\n",
       "      <td>2987 CC</td>\n",
       "      <td>258 bhp</td>\n",
       "      <td>7.0</td>\n",
       "      <td>1.02 Cr</td>\n",
       "      <td>79.00</td>\n",
       "    </tr>\n",
       "  </tbody>\n",
       "</table>\n",
       "</div>"
      ],
      "text/plain": [
       "                                             Name    Location  Year  \\\n",
       "4079  Land Rover Range Rover 3.0 Diesel LWB Vogue   Hyderabad  2017   \n",
       "5781                   Lamborghini Gallardo Coupe       Delhi  2011   \n",
       "5919                       Jaguar F Type 5.0 V8 S   Hyderabad  2015   \n",
       "1505              Land Rover Range Rover Sport SE       Kochi  2019   \n",
       "1974                           BMW 7 Series 740Li  Coimbatore  2018   \n",
       "1984                           BMW 7 Series 740Li   Bangalore  2017   \n",
       "4691               Mercedes-Benz SLK-Class 55 AMG   Bangalore  2014   \n",
       "5535                    BMW X6 xDrive 40d M Sport   Ahmedabad  2015   \n",
       "2095                     Mercedes-Benz SLC 43 AMG  Coimbatore  2019   \n",
       "1885         Mercedes-Benz GLS 350d Grand Edition       Delhi  2018   \n",
       "\n",
       "      Kilometers_Driven Fuel_Type Transmission Owner_Type     Mileage  \\\n",
       "4079              25000    Diesel    Automatic      First  13.33 kmpl   \n",
       "5781               6500    Petrol    Automatic      Third    6.4 kmpl   \n",
       "5919               8000    Petrol    Automatic      First   12.5 kmpl   \n",
       "1505              26013    Diesel    Automatic      First  12.65 kmpl   \n",
       "1974              28060    Petrol    Automatic      First  12.05 kmpl   \n",
       "1984              17465    Petrol    Automatic      First  12.05 kmpl   \n",
       "4691               3000    Petrol    Automatic     Second   12.0 kmpl   \n",
       "5535              97003    Diesel    Automatic      First  15.87 kmpl   \n",
       "2095               2526    Petrol    Automatic      First   19.0 kmpl   \n",
       "1885               6000    Diesel    Automatic      First   11.0 kmpl   \n",
       "\n",
       "       Engine       Power  Seats New_Price   Price  \n",
       "4079  2993 CC     255 bhp    5.0    2.3 Cr  160.00  \n",
       "5781  5204 CC     560 bhp    2.0       NaN  120.00  \n",
       "5919  5000 CC   488.1 bhp    2.0       NaN  100.00  \n",
       "1505  2993 CC     255 bhp    5.0   1.39 Cr   97.07  \n",
       "1974  2979 CC     320 bhp    5.0       NaN   93.67  \n",
       "1984  2979 CC     320 bhp    5.0       NaN   93.00  \n",
       "4691  5461 CC     421 bhp    2.0       NaN   90.00  \n",
       "5535  2993 CC  308.43 bhp    5.0       NaN   85.00  \n",
       "2095  2996 CC  362.07 bhp    2.0   1.06 Cr   83.96  \n",
       "1885  2987 CC     258 bhp    7.0   1.02 Cr   79.00  "
      ]
     },
     "execution_count": 17,
     "metadata": {},
     "output_type": "execute_result"
    }
   ],
   "source": [
    "cars_df.sort_values('Price', ascending=False)[0:10]"
   ]
  },
  {
   "cell_type": "code",
   "execution_count": 97,
   "metadata": {},
   "outputs": [
    {
     "data": {
      "text/html": [
       "<div>\n",
       "<style scoped>\n",
       "    .dataframe tbody tr th:only-of-type {\n",
       "        vertical-align: middle;\n",
       "    }\n",
       "\n",
       "    .dataframe tbody tr th {\n",
       "        vertical-align: top;\n",
       "    }\n",
       "\n",
       "    .dataframe thead th {\n",
       "        text-align: right;\n",
       "    }\n",
       "</style>\n",
       "<table border=\"1\" class=\"dataframe\">\n",
       "  <thead>\n",
       "    <tr style=\"text-align: right;\">\n",
       "      <th></th>\n",
       "      <th>Name</th>\n",
       "      <th>Location</th>\n",
       "      <th>Year</th>\n",
       "      <th>Kilometers_Driven</th>\n",
       "      <th>Fuel_Type</th>\n",
       "      <th>Transmission</th>\n",
       "      <th>Owner_Type</th>\n",
       "      <th>Mileage</th>\n",
       "      <th>Engine</th>\n",
       "      <th>Power</th>\n",
       "      <th>Seats</th>\n",
       "      <th>New_Price</th>\n",
       "      <th>Price</th>\n",
       "      <th>age</th>\n",
       "      <th>make</th>\n",
       "      <th>model</th>\n",
       "      <th>mileage_new</th>\n",
       "      <th>engine_new</th>\n",
       "      <th>power_new</th>\n",
       "    </tr>\n",
       "  </thead>\n",
       "  <tbody>\n",
       "    <tr>\n",
       "      <th>1713</th>\n",
       "      <td>Tata Nano Lx</td>\n",
       "      <td>Pune</td>\n",
       "      <td>2011</td>\n",
       "      <td>65000</td>\n",
       "      <td>Petrol</td>\n",
       "      <td>Manual</td>\n",
       "      <td>Second</td>\n",
       "      <td>26.0 kmpl</td>\n",
       "      <td>624 CC</td>\n",
       "      <td>35 bhp</td>\n",
       "      <td>4.0</td>\n",
       "      <td>NaN</td>\n",
       "      <td>0.44</td>\n",
       "      <td>9</td>\n",
       "      <td>tata</td>\n",
       "      <td>nano</td>\n",
       "      <td>26.0</td>\n",
       "      <td>624.0</td>\n",
       "      <td>35.0</td>\n",
       "    </tr>\n",
       "    <tr>\n",
       "      <th>2847</th>\n",
       "      <td>Hyundai Getz GLS</td>\n",
       "      <td>Pune</td>\n",
       "      <td>2005</td>\n",
       "      <td>86000</td>\n",
       "      <td>Petrol</td>\n",
       "      <td>Manual</td>\n",
       "      <td>Second</td>\n",
       "      <td>15.3 kmpl</td>\n",
       "      <td>1341 CC</td>\n",
       "      <td>83 bhp</td>\n",
       "      <td>5.0</td>\n",
       "      <td>NaN</td>\n",
       "      <td>0.45</td>\n",
       "      <td>15</td>\n",
       "      <td>hyundai</td>\n",
       "      <td>getz</td>\n",
       "      <td>15.3</td>\n",
       "      <td>1341.0</td>\n",
       "      <td>83.0</td>\n",
       "    </tr>\n",
       "    <tr>\n",
       "      <th>1628</th>\n",
       "      <td>Maruti 800 Std BSIII</td>\n",
       "      <td>Jaipur</td>\n",
       "      <td>2004</td>\n",
       "      <td>12000</td>\n",
       "      <td>Petrol</td>\n",
       "      <td>Manual</td>\n",
       "      <td>Second</td>\n",
       "      <td>16.1 kmpl</td>\n",
       "      <td>796 CC</td>\n",
       "      <td>37 bhp</td>\n",
       "      <td>4.0</td>\n",
       "      <td>NaN</td>\n",
       "      <td>0.45</td>\n",
       "      <td>16</td>\n",
       "      <td>maruti</td>\n",
       "      <td>800</td>\n",
       "      <td>16.1</td>\n",
       "      <td>796.0</td>\n",
       "      <td>37.0</td>\n",
       "    </tr>\n",
       "    <tr>\n",
       "      <th>3138</th>\n",
       "      <td>Maruti Zen LXI</td>\n",
       "      <td>Jaipur</td>\n",
       "      <td>1998</td>\n",
       "      <td>95150</td>\n",
       "      <td>Petrol</td>\n",
       "      <td>Manual</td>\n",
       "      <td>Third</td>\n",
       "      <td>17.3 kmpl</td>\n",
       "      <td>993 CC</td>\n",
       "      <td>60 bhp</td>\n",
       "      <td>5.0</td>\n",
       "      <td>NaN</td>\n",
       "      <td>0.45</td>\n",
       "      <td>22</td>\n",
       "      <td>maruti</td>\n",
       "      <td>zen</td>\n",
       "      <td>17.3</td>\n",
       "      <td>993.0</td>\n",
       "      <td>60.0</td>\n",
       "    </tr>\n",
       "    <tr>\n",
       "      <th>3228</th>\n",
       "      <td>Maruti 800 Std</td>\n",
       "      <td>Pune</td>\n",
       "      <td>2003</td>\n",
       "      <td>52000</td>\n",
       "      <td>Petrol</td>\n",
       "      <td>Manual</td>\n",
       "      <td>First</td>\n",
       "      <td>16.1 kmpl</td>\n",
       "      <td>796 CC</td>\n",
       "      <td>37 bhp</td>\n",
       "      <td>4.0</td>\n",
       "      <td>NaN</td>\n",
       "      <td>0.50</td>\n",
       "      <td>17</td>\n",
       "      <td>maruti</td>\n",
       "      <td>800</td>\n",
       "      <td>16.1</td>\n",
       "      <td>796.0</td>\n",
       "      <td>37.0</td>\n",
       "    </tr>\n",
       "    <tr>\n",
       "      <th>2605</th>\n",
       "      <td>Tata Nano Cx</td>\n",
       "      <td>Jaipur</td>\n",
       "      <td>2010</td>\n",
       "      <td>57000</td>\n",
       "      <td>Petrol</td>\n",
       "      <td>Manual</td>\n",
       "      <td>First</td>\n",
       "      <td>26.0 kmpl</td>\n",
       "      <td>624 CC</td>\n",
       "      <td>35 bhp</td>\n",
       "      <td>4.0</td>\n",
       "      <td>NaN</td>\n",
       "      <td>0.50</td>\n",
       "      <td>10</td>\n",
       "      <td>tata</td>\n",
       "      <td>nano</td>\n",
       "      <td>26.0</td>\n",
       "      <td>624.0</td>\n",
       "      <td>35.0</td>\n",
       "    </tr>\n",
       "    <tr>\n",
       "      <th>5657</th>\n",
       "      <td>Maruti 800 Std</td>\n",
       "      <td>Jaipur</td>\n",
       "      <td>2002</td>\n",
       "      <td>75000</td>\n",
       "      <td>Petrol</td>\n",
       "      <td>Manual</td>\n",
       "      <td>First</td>\n",
       "      <td>16.1 kmpl</td>\n",
       "      <td>796 CC</td>\n",
       "      <td>37 bhp</td>\n",
       "      <td>4.0</td>\n",
       "      <td>NaN</td>\n",
       "      <td>0.51</td>\n",
       "      <td>18</td>\n",
       "      <td>maruti</td>\n",
       "      <td>800</td>\n",
       "      <td>16.1</td>\n",
       "      <td>796.0</td>\n",
       "      <td>37.0</td>\n",
       "    </tr>\n",
       "    <tr>\n",
       "      <th>4965</th>\n",
       "      <td>Tata Nano STD SE</td>\n",
       "      <td>Jaipur</td>\n",
       "      <td>2012</td>\n",
       "      <td>80000</td>\n",
       "      <td>Petrol</td>\n",
       "      <td>Manual</td>\n",
       "      <td>Second</td>\n",
       "      <td>25.4 kmpl</td>\n",
       "      <td>624 CC</td>\n",
       "      <td>37.5 bhp</td>\n",
       "      <td>4.0</td>\n",
       "      <td>NaN</td>\n",
       "      <td>0.53</td>\n",
       "      <td>8</td>\n",
       "      <td>tata</td>\n",
       "      <td>nano</td>\n",
       "      <td>25.4</td>\n",
       "      <td>624.0</td>\n",
       "      <td>37.5</td>\n",
       "    </tr>\n",
       "    <tr>\n",
       "      <th>5716</th>\n",
       "      <td>Maruti Zen LX</td>\n",
       "      <td>Jaipur</td>\n",
       "      <td>1998</td>\n",
       "      <td>95150</td>\n",
       "      <td>Petrol</td>\n",
       "      <td>Manual</td>\n",
       "      <td>Third</td>\n",
       "      <td>17.3 kmpl</td>\n",
       "      <td>993 CC</td>\n",
       "      <td>60 bhp</td>\n",
       "      <td>5.0</td>\n",
       "      <td>NaN</td>\n",
       "      <td>0.53</td>\n",
       "      <td>22</td>\n",
       "      <td>maruti</td>\n",
       "      <td>zen</td>\n",
       "      <td>17.3</td>\n",
       "      <td>993.0</td>\n",
       "      <td>60.0</td>\n",
       "    </tr>\n",
       "    <tr>\n",
       "      <th>4629</th>\n",
       "      <td>Fiat Siena 1.2 ELX</td>\n",
       "      <td>Jaipur</td>\n",
       "      <td>2001</td>\n",
       "      <td>70000</td>\n",
       "      <td>Petrol</td>\n",
       "      <td>Manual</td>\n",
       "      <td>Third</td>\n",
       "      <td>0.0 kmpl</td>\n",
       "      <td>1242 CC</td>\n",
       "      <td>null bhp</td>\n",
       "      <td>5.0</td>\n",
       "      <td>NaN</td>\n",
       "      <td>0.55</td>\n",
       "      <td>19</td>\n",
       "      <td>fiat</td>\n",
       "      <td>siena</td>\n",
       "      <td>0.0</td>\n",
       "      <td>1242.0</td>\n",
       "      <td>NaN</td>\n",
       "    </tr>\n",
       "  </tbody>\n",
       "</table>\n",
       "</div>"
      ],
      "text/plain": [
       "                      Name Location  Year  Kilometers_Driven Fuel_Type  \\\n",
       "1713          Tata Nano Lx     Pune  2011              65000    Petrol   \n",
       "2847      Hyundai Getz GLS     Pune  2005              86000    Petrol   \n",
       "1628  Maruti 800 Std BSIII   Jaipur  2004              12000    Petrol   \n",
       "3138        Maruti Zen LXI   Jaipur  1998              95150    Petrol   \n",
       "3228        Maruti 800 Std     Pune  2003              52000    Petrol   \n",
       "2605          Tata Nano Cx   Jaipur  2010              57000    Petrol   \n",
       "5657        Maruti 800 Std   Jaipur  2002              75000    Petrol   \n",
       "4965      Tata Nano STD SE   Jaipur  2012              80000    Petrol   \n",
       "5716         Maruti Zen LX   Jaipur  1998              95150    Petrol   \n",
       "4629    Fiat Siena 1.2 ELX   Jaipur  2001              70000    Petrol   \n",
       "\n",
       "     Transmission Owner_Type    Mileage   Engine     Power  Seats New_Price  \\\n",
       "1713       Manual     Second  26.0 kmpl   624 CC    35 bhp    4.0       NaN   \n",
       "2847       Manual     Second  15.3 kmpl  1341 CC    83 bhp    5.0       NaN   \n",
       "1628       Manual     Second  16.1 kmpl   796 CC    37 bhp    4.0       NaN   \n",
       "3138       Manual      Third  17.3 kmpl   993 CC    60 bhp    5.0       NaN   \n",
       "3228       Manual      First  16.1 kmpl   796 CC    37 bhp    4.0       NaN   \n",
       "2605       Manual      First  26.0 kmpl   624 CC    35 bhp    4.0       NaN   \n",
       "5657       Manual      First  16.1 kmpl   796 CC    37 bhp    4.0       NaN   \n",
       "4965       Manual     Second  25.4 kmpl   624 CC  37.5 bhp    4.0       NaN   \n",
       "5716       Manual      Third  17.3 kmpl   993 CC    60 bhp    5.0       NaN   \n",
       "4629       Manual      Third   0.0 kmpl  1242 CC  null bhp    5.0       NaN   \n",
       "\n",
       "      Price  age     make  model  mileage_new  engine_new  power_new  \n",
       "1713   0.44    9     tata   nano         26.0       624.0       35.0  \n",
       "2847   0.45   15  hyundai   getz         15.3      1341.0       83.0  \n",
       "1628   0.45   16   maruti    800         16.1       796.0       37.0  \n",
       "3138   0.45   22   maruti    zen         17.3       993.0       60.0  \n",
       "3228   0.50   17   maruti    800         16.1       796.0       37.0  \n",
       "2605   0.50   10     tata   nano         26.0       624.0       35.0  \n",
       "5657   0.51   18   maruti    800         16.1       796.0       37.0  \n",
       "4965   0.53    8     tata   nano         25.4       624.0       37.5  \n",
       "5716   0.53   22   maruti    zen         17.3       993.0       60.0  \n",
       "4629   0.55   19     fiat  siena          0.0      1242.0        NaN  "
      ]
     },
     "execution_count": 97,
     "metadata": {},
     "output_type": "execute_result"
    }
   ],
   "source": [
    "#TODO: Find out top 10 least expensive cars\n",
    "cars_df.sort_values('Price', ascending=True)[0:10]"
   ]
  },
  {
   "cell_type": "code",
   "execution_count": 98,
   "metadata": {},
   "outputs": [
    {
     "data": {
      "text/html": [
       "<div>\n",
       "<style scoped>\n",
       "    .dataframe tbody tr th:only-of-type {\n",
       "        vertical-align: middle;\n",
       "    }\n",
       "\n",
       "    .dataframe tbody tr th {\n",
       "        vertical-align: top;\n",
       "    }\n",
       "\n",
       "    .dataframe thead th {\n",
       "        text-align: right;\n",
       "    }\n",
       "</style>\n",
       "<table border=\"1\" class=\"dataframe\">\n",
       "  <thead>\n",
       "    <tr style=\"text-align: right;\">\n",
       "      <th></th>\n",
       "      <th>Name</th>\n",
       "      <th>Price</th>\n",
       "    </tr>\n",
       "  </thead>\n",
       "  <tbody>\n",
       "    <tr>\n",
       "      <th>1713</th>\n",
       "      <td>Tata Nano Lx</td>\n",
       "      <td>0.44</td>\n",
       "    </tr>\n",
       "    <tr>\n",
       "      <th>2847</th>\n",
       "      <td>Hyundai Getz GLS</td>\n",
       "      <td>0.45</td>\n",
       "    </tr>\n",
       "    <tr>\n",
       "      <th>1628</th>\n",
       "      <td>Maruti 800 Std BSIII</td>\n",
       "      <td>0.45</td>\n",
       "    </tr>\n",
       "    <tr>\n",
       "      <th>3138</th>\n",
       "      <td>Maruti Zen LXI</td>\n",
       "      <td>0.45</td>\n",
       "    </tr>\n",
       "    <tr>\n",
       "      <th>3228</th>\n",
       "      <td>Maruti 800 Std</td>\n",
       "      <td>0.50</td>\n",
       "    </tr>\n",
       "    <tr>\n",
       "      <th>2605</th>\n",
       "      <td>Tata Nano Cx</td>\n",
       "      <td>0.50</td>\n",
       "    </tr>\n",
       "    <tr>\n",
       "      <th>5657</th>\n",
       "      <td>Maruti 800 Std</td>\n",
       "      <td>0.51</td>\n",
       "    </tr>\n",
       "    <tr>\n",
       "      <th>4965</th>\n",
       "      <td>Tata Nano STD SE</td>\n",
       "      <td>0.53</td>\n",
       "    </tr>\n",
       "    <tr>\n",
       "      <th>5716</th>\n",
       "      <td>Maruti Zen LX</td>\n",
       "      <td>0.53</td>\n",
       "    </tr>\n",
       "    <tr>\n",
       "      <th>4629</th>\n",
       "      <td>Fiat Siena 1.2 ELX</td>\n",
       "      <td>0.55</td>\n",
       "    </tr>\n",
       "  </tbody>\n",
       "</table>\n",
       "</div>"
      ],
      "text/plain": [
       "                      Name  Price\n",
       "1713          Tata Nano Lx   0.44\n",
       "2847      Hyundai Getz GLS   0.45\n",
       "1628  Maruti 800 Std BSIII   0.45\n",
       "3138        Maruti Zen LXI   0.45\n",
       "3228        Maruti 800 Std   0.50\n",
       "2605          Tata Nano Cx   0.50\n",
       "5657        Maruti 800 Std   0.51\n",
       "4965      Tata Nano STD SE   0.53\n",
       "5716         Maruti Zen LX   0.53\n",
       "4629    Fiat Siena 1.2 ELX   0.55"
      ]
     },
     "execution_count": 98,
     "metadata": {},
     "output_type": "execute_result"
    }
   ],
   "source": [
    "cars_df[['Name', 'Price']].sort_values('Price', ascending=True)[0:10]"
   ]
  },
  {
   "cell_type": "markdown",
   "metadata": {},
   "source": [
    "### What is the price range at which most cars were sold?"
   ]
  },
  {
   "cell_type": "markdown",
   "metadata": {},
   "source": [
    "### Variable Types\n",
    "\n",
    "Two variable types\n",
    "- Numerical : quantify \n",
    "   - e.g. age, salary, sales\n",
    "   - Two types\n",
    "       - Continuous\n",
    "       - Discrete : Specific values\n",
    "           - e.g. Number of dependents\n",
    "           - e.g. number of cars you own\n",
    "- Categorical : \n",
    "    - e.g Sex/gender, survived vs. not survived, weedays"
   ]
  },
  {
   "cell_type": "markdown",
   "metadata": {},
   "source": [
    "### Histogram for plotting Continuous Variables (Price)"
   ]
  },
  {
   "cell_type": "code",
   "execution_count": 19,
   "metadata": {
    "scrolled": true
   },
   "outputs": [
    {
     "data": {
      "image/png": "[encoded data removed]",
      "text/plain": [
       "<Figure size 1080x360 with 1 Axes>"
      ]
     },
     "metadata": {
      "needs_background": "light"
     },
     "output_type": "display_data"
    }
   ],
   "source": [
    "plt.figure(figsize=(15,5))\n",
    "plt.hist(cars_df['Price']);"
   ]
  },
  {
   "cell_type": "code",
   "execution_count": 20,
   "metadata": {},
   "outputs": [
    {
     "data": {
      "image/png": "[encoded data removed]",
      "text/plain": [
       "<Figure size 1080x360 with 1 Axes>"
      ]
     },
     "metadata": {
      "needs_background": "light"
     },
     "output_type": "display_data"
    }
   ],
   "source": [
    "plt.figure(figsize=(15,5))\n",
    "plt.hist(cars_df['Price'], bins = 20);"
   ]
  },
  {
   "cell_type": "code",
   "execution_count": 100,
   "metadata": {},
   "outputs": [
    {
     "data": {
      "text/plain": [
       "[1, 3, 5, 7, 9]"
      ]
     },
     "execution_count": 100,
     "metadata": {},
     "output_type": "execute_result"
    }
   ],
   "source": [
    "list(range(1,10,2))"
   ]
  },
  {
   "cell_type": "code",
   "execution_count": 103,
   "metadata": {},
   "outputs": [
    {
     "data": {
      "image/png": "[encoded data removed]",
      "text/plain": [
       "<Figure size 1080x360 with 1 Axes>"
      ]
     },
     "metadata": {
      "needs_background": "light"
     },
     "output_type": "display_data"
    }
   ],
   "source": [
    "plt.figure(figsize=(15,5))\n",
    "hist_data = plt.hist(cars_df['Price'], bins=list(range(0, 160, 1)));"
   ]
  },
  {
   "cell_type": "markdown",
   "metadata": {},
   "source": [
    "### What is Normal Distribution\n",
    "\n",
    "References:\n",
    "\n",
    "https://en.wikipedia.org/wiki/Normal_distribution\n",
    "\n",
    "https://courses.lumenlearning.com/math4libarts/chapter/understanding-normal-distribution/"
   ]
  },
  {
   "cell_type": "code",
   "execution_count": 102,
   "metadata": {},
   "outputs": [
    {
     "data": {
      "text/plain": [
       "(array([3.161e+03, 1.405e+03, 4.230e+02, 2.910e+02, 1.870e+02, 1.430e+02,\n",
       "        9.900e+01, 6.700e+01, 5.100e+01, 3.000e+01, 2.100e+01, 2.100e+01,\n",
       "        1.200e+01, 1.300e+01, 6.000e+00, 3.000e+00, 2.000e+00, 1.000e+00,\n",
       "        2.000e+00, 2.000e+00, 0.000e+00, 0.000e+00, 0.000e+00, 1.000e+00,\n",
       "        0.000e+00, 0.000e+00, 0.000e+00, 0.000e+00, 0.000e+00, 0.000e+00,\n",
       "        0.000e+00]),\n",
       " array([  1,   6,  11,  16,  21,  26,  31,  36,  41,  46,  51,  56,  61,\n",
       "         66,  71,  76,  81,  86,  91,  96, 101, 106, 111, 116, 121, 126,\n",
       "        131, 136, 141, 146, 151, 156]),\n",
       " <BarContainer object of 31 artists>)"
      ]
     },
     "execution_count": 102,
     "metadata": {},
     "output_type": "execute_result"
    }
   ],
   "source": [
    "hist_data"
   ]
  },
  {
   "cell_type": "code",
   "execution_count": 104,
   "metadata": {},
   "outputs": [],
   "source": [
    "hist_data_df = pd.DataFrame( { \"bins\" : hist_data[1][0:-1], \"count\" : hist_data[0] } )"
   ]
  },
  {
   "cell_type": "code",
   "execution_count": 105,
   "metadata": {},
   "outputs": [
    {
     "data": {
      "text/html": [
       "<div>\n",
       "<style scoped>\n",
       "    .dataframe tbody tr th:only-of-type {\n",
       "        vertical-align: middle;\n",
       "    }\n",
       "\n",
       "    .dataframe tbody tr th {\n",
       "        vertical-align: top;\n",
       "    }\n",
       "\n",
       "    .dataframe thead th {\n",
       "        text-align: right;\n",
       "    }\n",
       "</style>\n",
       "<table border=\"1\" class=\"dataframe\">\n",
       "  <thead>\n",
       "    <tr style=\"text-align: right;\">\n",
       "      <th></th>\n",
       "      <th>bins</th>\n",
       "      <th>count</th>\n",
       "    </tr>\n",
       "  </thead>\n",
       "  <tbody>\n",
       "    <tr>\n",
       "      <th>0</th>\n",
       "      <td>0</td>\n",
       "      <td>77.0</td>\n",
       "    </tr>\n",
       "    <tr>\n",
       "      <th>1</th>\n",
       "      <td>1</td>\n",
       "      <td>339.0</td>\n",
       "    </tr>\n",
       "    <tr>\n",
       "      <th>2</th>\n",
       "      <td>2</td>\n",
       "      <td>683.0</td>\n",
       "    </tr>\n",
       "    <tr>\n",
       "      <th>3</th>\n",
       "      <td>3</td>\n",
       "      <td>820.0</td>\n",
       "    </tr>\n",
       "    <tr>\n",
       "      <th>4</th>\n",
       "      <td>4</td>\n",
       "      <td>694.0</td>\n",
       "    </tr>\n",
       "    <tr>\n",
       "      <th>5</th>\n",
       "      <td>5</td>\n",
       "      <td>625.0</td>\n",
       "    </tr>\n",
       "    <tr>\n",
       "      <th>6</th>\n",
       "      <td>6</td>\n",
       "      <td>503.0</td>\n",
       "    </tr>\n",
       "    <tr>\n",
       "      <th>7</th>\n",
       "      <td>7</td>\n",
       "      <td>342.0</td>\n",
       "    </tr>\n",
       "    <tr>\n",
       "      <th>8</th>\n",
       "      <td>8</td>\n",
       "      <td>259.0</td>\n",
       "    </tr>\n",
       "    <tr>\n",
       "      <th>9</th>\n",
       "      <td>9</td>\n",
       "      <td>177.0</td>\n",
       "    </tr>\n",
       "  </tbody>\n",
       "</table>\n",
       "</div>"
      ],
      "text/plain": [
       "   bins  count\n",
       "0     0   77.0\n",
       "1     1  339.0\n",
       "2     2  683.0\n",
       "3     3  820.0\n",
       "4     4  694.0\n",
       "5     5  625.0\n",
       "6     6  503.0\n",
       "7     7  342.0\n",
       "8     8  259.0\n",
       "9     9  177.0"
      ]
     },
     "execution_count": 105,
     "metadata": {},
     "output_type": "execute_result"
    }
   ],
   "source": [
    "hist_data_df.sort_values(\"count\", ascending=False)[0:10]"
   ]
  },
  {
   "cell_type": "markdown",
   "metadata": {},
   "source": [
    "### Finding distribution parameters of Price"
   ]
  },
  {
   "cell_type": "code",
   "execution_count": 22,
   "metadata": {},
   "outputs": [
    {
     "data": {
      "text/plain": [
       "9.479468350224273"
      ]
     },
     "execution_count": 22,
     "metadata": {},
     "output_type": "execute_result"
    }
   ],
   "source": [
    "cars_df['Price'].mean()"
   ]
  },
  {
   "cell_type": "code",
   "execution_count": 23,
   "metadata": {},
   "outputs": [
    {
     "data": {
      "text/plain": [
       "11.187917112455484"
      ]
     },
     "execution_count": 23,
     "metadata": {},
     "output_type": "execute_result"
    }
   ],
   "source": [
    "cars_df['Price'].std()"
   ]
  },
  {
   "cell_type": "markdown",
   "metadata": {},
   "source": [
    "### 95% of the cars were sold at which price?"
   ]
  },
  {
   "cell_type": "code",
   "execution_count": 24,
   "metadata": {},
   "outputs": [],
   "source": [
    "from scipy import stats"
   ]
  },
  {
   "cell_type": "code",
   "execution_count": 106,
   "metadata": {},
   "outputs": [
    {
     "data": {
      "text/plain": [
       "(-12.448446252207834, 31.40738295265638)"
      ]
     },
     "execution_count": 106,
     "metadata": {},
     "output_type": "execute_result"
    }
   ],
   "source": [
    "stats.norm.interval(0.95,\n",
    "                    cars_df['Price'].mean(),\n",
    "                    cars_df['Price'].std())"
   ]
  },
  {
   "cell_type": "markdown",
   "metadata": {},
   "source": [
    "### Price range at which most cars were sold?"
   ]
  },
  {
   "cell_type": "code",
   "execution_count": 26,
   "metadata": {},
   "outputs": [
    {
     "data": {
      "text/plain": [
       "(-23.7233375699902, 42.68227427043862)"
      ]
     },
     "execution_count": 26,
     "metadata": {},
     "output_type": "execute_result"
    }
   ],
   "source": [
    "stats.norm.interval(0.997,\n",
    "                    cars_df['Price'].mean(),\n",
    "                    cars_df['Price'].std())"
   ]
  },
  {
   "cell_type": "markdown",
   "metadata": {},
   "source": [
    "### Outliers\n",
    "\n",
    "Using 3 standard deviation approach."
   ]
  },
  {
   "cell_type": "code",
   "execution_count": 27,
   "metadata": {},
   "outputs": [
    {
     "data": {
      "text/html": [
       "<div>\n",
       "<style scoped>\n",
       "    .dataframe tbody tr th:only-of-type {\n",
       "        vertical-align: middle;\n",
       "    }\n",
       "\n",
       "    .dataframe tbody tr th {\n",
       "        vertical-align: top;\n",
       "    }\n",
       "\n",
       "    .dataframe thead th {\n",
       "        text-align: right;\n",
       "    }\n",
       "</style>\n",
       "<table border=\"1\" class=\"dataframe\">\n",
       "  <thead>\n",
       "    <tr style=\"text-align: right;\">\n",
       "      <th></th>\n",
       "      <th>Name</th>\n",
       "      <th>Location</th>\n",
       "      <th>Year</th>\n",
       "      <th>Kilometers_Driven</th>\n",
       "      <th>Fuel_Type</th>\n",
       "      <th>Transmission</th>\n",
       "      <th>Owner_Type</th>\n",
       "      <th>Mileage</th>\n",
       "      <th>Engine</th>\n",
       "      <th>Power</th>\n",
       "      <th>Seats</th>\n",
       "      <th>New_Price</th>\n",
       "      <th>Price</th>\n",
       "    </tr>\n",
       "  </thead>\n",
       "  <tbody>\n",
       "    <tr>\n",
       "      <th>134</th>\n",
       "      <td>Mercedes-Benz SLC 43 AMG</td>\n",
       "      <td>Kolkata</td>\n",
       "      <td>2017</td>\n",
       "      <td>13372</td>\n",
       "      <td>Petrol</td>\n",
       "      <td>Automatic</td>\n",
       "      <td>First</td>\n",
       "      <td>19.0 kmpl</td>\n",
       "      <td>2996 CC</td>\n",
       "      <td>362.07 bhp</td>\n",
       "      <td>2.0</td>\n",
       "      <td>95.04 Lakh</td>\n",
       "      <td>54.00</td>\n",
       "    </tr>\n",
       "    <tr>\n",
       "      <th>168</th>\n",
       "      <td>BMW X5 xDrive 30d</td>\n",
       "      <td>Mumbai</td>\n",
       "      <td>2015</td>\n",
       "      <td>41000</td>\n",
       "      <td>Diesel</td>\n",
       "      <td>Automatic</td>\n",
       "      <td>First</td>\n",
       "      <td>15.3 kmpl</td>\n",
       "      <td>2993 CC</td>\n",
       "      <td>258 bhp</td>\n",
       "      <td>5.0</td>\n",
       "      <td>NaN</td>\n",
       "      <td>45.00</td>\n",
       "    </tr>\n",
       "    <tr>\n",
       "      <th>191</th>\n",
       "      <td>Land Rover Range Rover 2.2L Dynamic</td>\n",
       "      <td>Coimbatore</td>\n",
       "      <td>2018</td>\n",
       "      <td>36091</td>\n",
       "      <td>Diesel</td>\n",
       "      <td>Automatic</td>\n",
       "      <td>First</td>\n",
       "      <td>12.7 kmpl</td>\n",
       "      <td>2179 CC</td>\n",
       "      <td>187.7 bhp</td>\n",
       "      <td>5.0</td>\n",
       "      <td>NaN</td>\n",
       "      <td>55.76</td>\n",
       "    </tr>\n",
       "    <tr>\n",
       "      <th>216</th>\n",
       "      <td>Audi A8 L 3.0 TDI quattro</td>\n",
       "      <td>Delhi</td>\n",
       "      <td>2012</td>\n",
       "      <td>56000</td>\n",
       "      <td>Diesel</td>\n",
       "      <td>Automatic</td>\n",
       "      <td>First</td>\n",
       "      <td>11.8 kmpl</td>\n",
       "      <td>2967 CC</td>\n",
       "      <td>246.7 bhp</td>\n",
       "      <td>5.0</td>\n",
       "      <td>NaN</td>\n",
       "      <td>45.00</td>\n",
       "    </tr>\n",
       "    <tr>\n",
       "      <th>264</th>\n",
       "      <td>Mercedes-Benz GLE 350d</td>\n",
       "      <td>Coimbatore</td>\n",
       "      <td>2017</td>\n",
       "      <td>29819</td>\n",
       "      <td>Diesel</td>\n",
       "      <td>Automatic</td>\n",
       "      <td>First</td>\n",
       "      <td>11.57 kmpl</td>\n",
       "      <td>2987 CC</td>\n",
       "      <td>254.79 bhp</td>\n",
       "      <td>5.0</td>\n",
       "      <td>95.13 Lakh</td>\n",
       "      <td>61.29</td>\n",
       "    </tr>\n",
       "    <tr>\n",
       "      <th>...</th>\n",
       "      <td>...</td>\n",
       "      <td>...</td>\n",
       "      <td>...</td>\n",
       "      <td>...</td>\n",
       "      <td>...</td>\n",
       "      <td>...</td>\n",
       "      <td>...</td>\n",
       "      <td>...</td>\n",
       "      <td>...</td>\n",
       "      <td>...</td>\n",
       "      <td>...</td>\n",
       "      <td>...</td>\n",
       "      <td>...</td>\n",
       "    </tr>\n",
       "    <tr>\n",
       "      <th>5900</th>\n",
       "      <td>Mercedes-Benz GLC 220</td>\n",
       "      <td>Coimbatore</td>\n",
       "      <td>2017</td>\n",
       "      <td>50794</td>\n",
       "      <td>Diesel</td>\n",
       "      <td>Automatic</td>\n",
       "      <td>First</td>\n",
       "      <td>17.9 kmpl</td>\n",
       "      <td>2143 CC</td>\n",
       "      <td>170 bhp</td>\n",
       "      <td>5.0</td>\n",
       "      <td>NaN</td>\n",
       "      <td>43.30</td>\n",
       "    </tr>\n",
       "    <tr>\n",
       "      <th>5919</th>\n",
       "      <td>Jaguar F Type 5.0 V8 S</td>\n",
       "      <td>Hyderabad</td>\n",
       "      <td>2015</td>\n",
       "      <td>8000</td>\n",
       "      <td>Petrol</td>\n",
       "      <td>Automatic</td>\n",
       "      <td>First</td>\n",
       "      <td>12.5 kmpl</td>\n",
       "      <td>5000 CC</td>\n",
       "      <td>488.1 bhp</td>\n",
       "      <td>2.0</td>\n",
       "      <td>NaN</td>\n",
       "      <td>100.00</td>\n",
       "    </tr>\n",
       "    <tr>\n",
       "      <th>5927</th>\n",
       "      <td>Audi Q5 3.0 TDI Quattro Technology</td>\n",
       "      <td>Coimbatore</td>\n",
       "      <td>2018</td>\n",
       "      <td>29091</td>\n",
       "      <td>Diesel</td>\n",
       "      <td>Automatic</td>\n",
       "      <td>First</td>\n",
       "      <td>13.22 kmpl</td>\n",
       "      <td>2967 CC</td>\n",
       "      <td>241.4 bhp</td>\n",
       "      <td>5.0</td>\n",
       "      <td>NaN</td>\n",
       "      <td>45.52</td>\n",
       "    </tr>\n",
       "    <tr>\n",
       "      <th>5946</th>\n",
       "      <td>BMW 5 Series 2013-2017 530d M Sport</td>\n",
       "      <td>Bangalore</td>\n",
       "      <td>2016</td>\n",
       "      <td>16000</td>\n",
       "      <td>Diesel</td>\n",
       "      <td>Automatic</td>\n",
       "      <td>First</td>\n",
       "      <td>14.69 kmpl</td>\n",
       "      <td>2993 CC</td>\n",
       "      <td>258 bhp</td>\n",
       "      <td>5.0</td>\n",
       "      <td>NaN</td>\n",
       "      <td>48.00</td>\n",
       "    </tr>\n",
       "    <tr>\n",
       "      <th>6008</th>\n",
       "      <td>Porsche Panamera Diesel</td>\n",
       "      <td>Hyderabad</td>\n",
       "      <td>2013</td>\n",
       "      <td>40000</td>\n",
       "      <td>Diesel</td>\n",
       "      <td>Automatic</td>\n",
       "      <td>Second</td>\n",
       "      <td>17.85 kmpl</td>\n",
       "      <td>2967 CC</td>\n",
       "      <td>300 bhp</td>\n",
       "      <td>4.0</td>\n",
       "      <td>NaN</td>\n",
       "      <td>45.00</td>\n",
       "    </tr>\n",
       "  </tbody>\n",
       "</table>\n",
       "<p>149 rows × 13 columns</p>\n",
       "</div>"
      ],
      "text/plain": [
       "                                     Name    Location  Year  \\\n",
       "134              Mercedes-Benz SLC 43 AMG     Kolkata  2017   \n",
       "168                     BMW X5 xDrive 30d      Mumbai  2015   \n",
       "191   Land Rover Range Rover 2.2L Dynamic  Coimbatore  2018   \n",
       "216             Audi A8 L 3.0 TDI quattro       Delhi  2012   \n",
       "264                Mercedes-Benz GLE 350d  Coimbatore  2017   \n",
       "...                                   ...         ...   ...   \n",
       "5900                Mercedes-Benz GLC 220  Coimbatore  2017   \n",
       "5919               Jaguar F Type 5.0 V8 S   Hyderabad  2015   \n",
       "5927   Audi Q5 3.0 TDI Quattro Technology  Coimbatore  2018   \n",
       "5946  BMW 5 Series 2013-2017 530d M Sport   Bangalore  2016   \n",
       "6008              Porsche Panamera Diesel   Hyderabad  2013   \n",
       "\n",
       "      Kilometers_Driven Fuel_Type Transmission Owner_Type     Mileage  \\\n",
       "134               13372    Petrol    Automatic      First   19.0 kmpl   \n",
       "168               41000    Diesel    Automatic      First   15.3 kmpl   \n",
       "191               36091    Diesel    Automatic      First   12.7 kmpl   \n",
       "216               56000    Diesel    Automatic      First   11.8 kmpl   \n",
       "264               29819    Diesel    Automatic      First  11.57 kmpl   \n",
       "...                 ...       ...          ...        ...         ...   \n",
       "5900              50794    Diesel    Automatic      First   17.9 kmpl   \n",
       "5919               8000    Petrol    Automatic      First   12.5 kmpl   \n",
       "5927              29091    Diesel    Automatic      First  13.22 kmpl   \n",
       "5946              16000    Diesel    Automatic      First  14.69 kmpl   \n",
       "6008              40000    Diesel    Automatic     Second  17.85 kmpl   \n",
       "\n",
       "       Engine       Power  Seats   New_Price   Price  \n",
       "134   2996 CC  362.07 bhp    2.0  95.04 Lakh   54.00  \n",
       "168   2993 CC     258 bhp    5.0         NaN   45.00  \n",
       "191   2179 CC   187.7 bhp    5.0         NaN   55.76  \n",
       "216   2967 CC   246.7 bhp    5.0         NaN   45.00  \n",
       "264   2987 CC  254.79 bhp    5.0  95.13 Lakh   61.29  \n",
       "...       ...         ...    ...         ...     ...  \n",
       "5900  2143 CC     170 bhp    5.0         NaN   43.30  \n",
       "5919  5000 CC   488.1 bhp    2.0         NaN  100.00  \n",
       "5927  2967 CC   241.4 bhp    5.0         NaN   45.52  \n",
       "5946  2993 CC     258 bhp    5.0         NaN   48.00  \n",
       "6008  2967 CC     300 bhp    4.0         NaN   45.00  \n",
       "\n",
       "[149 rows x 13 columns]"
      ]
     },
     "execution_count": 27,
     "metadata": {},
     "output_type": "execute_result"
    }
   ],
   "source": [
    "cars_df[cars_df.Price > 43]"
   ]
  },
  {
   "cell_type": "markdown",
   "metadata": {},
   "source": [
    "### Using box plot\n",
    "\n",
    "Reference: https://towardsdatascience.com/understanding-boxplots-5e2df7bcbd51"
   ]
  },
  {
   "cell_type": "code",
   "execution_count": 28,
   "metadata": {},
   "outputs": [
    {
     "name": "stderr",
     "output_type": "stream",
     "text": [
      "/usr/local/anaconda3/lib/python3.8/site-packages/seaborn/_decorators.py:36: FutureWarning: Pass the following variable as a keyword arg: x. From version 0.12, the only valid positional argument will be `data`, and passing other arguments without an explicit keyword will result in an error or misinterpretation.\n",
      "  warnings.warn(\n"
     ]
    },
    {
     "data": {
      "image/png": "[encoded data removed]",
      "text/plain": [
       "<Figure size 1080x432 with 1 Axes>"
      ]
     },
     "metadata": {
      "needs_background": "light"
     },
     "output_type": "display_data"
    }
   ],
   "source": [
    "plt.figure(figsize=(15,6))\n",
    "boxp = sn.boxplot(cars_df['Price']);"
   ]
  },
  {
   "cell_type": "code",
   "execution_count": 29,
   "metadata": {},
   "outputs": [
    {
     "data": {
      "text/plain": [
       "5.64"
      ]
     },
     "execution_count": 29,
     "metadata": {},
     "output_type": "execute_result"
    }
   ],
   "source": [
    "cars_df['Price'].median()"
   ]
  },
  {
   "cell_type": "code",
   "execution_count": 30,
   "metadata": {},
   "outputs": [
    {
     "data": {
      "text/plain": [
       "6.449999999999999"
      ]
     },
     "execution_count": 30,
     "metadata": {},
     "output_type": "execute_result"
    }
   ],
   "source": [
    "iqr = stats.iqr(cars_df['Price'])\n",
    "iqr"
   ]
  },
  {
   "cell_type": "code",
   "execution_count": 31,
   "metadata": {},
   "outputs": [
    {
     "data": {
      "text/plain": [
       "count    6019.000000\n",
       "mean        9.479468\n",
       "std        11.187917\n",
       "min         0.440000\n",
       "25%         3.500000\n",
       "50%         5.640000\n",
       "75%         9.950000\n",
       "max       160.000000\n",
       "Name: Price, dtype: float64"
      ]
     },
     "execution_count": 31,
     "metadata": {},
     "output_type": "execute_result"
    }
   ],
   "source": [
    "cars_df['Price'].describe()"
   ]
  },
  {
   "cell_type": "code",
   "execution_count": 32,
   "metadata": {},
   "outputs": [],
   "source": [
    "min_price = cars_df['Price'].describe()['25%'] - 1.5 * iqr\n",
    "max_price = cars_df['Price'].describe()['75%'] + 1.5 * iqr"
   ]
  },
  {
   "cell_type": "code",
   "execution_count": 33,
   "metadata": {},
   "outputs": [
    {
     "data": {
      "text/plain": [
       "(-6.174999999999999, 19.625)"
      ]
     },
     "execution_count": 33,
     "metadata": {},
     "output_type": "execute_result"
    }
   ],
   "source": [
    "min_price, max_price"
   ]
  },
  {
   "cell_type": "code",
   "execution_count": 34,
   "metadata": {},
   "outputs": [
    {
     "data": {
      "text/plain": [
       "(5318,)"
      ]
     },
     "execution_count": 34,
     "metadata": {},
     "output_type": "execute_result"
    }
   ],
   "source": [
    "cars_df[cars_df.Price < 20]['Price'].shape"
   ]
  },
  {
   "cell_type": "code",
   "execution_count": 35,
   "metadata": {},
   "outputs": [
    {
     "name": "stderr",
     "output_type": "stream",
     "text": [
      "/usr/local/anaconda3/lib/python3.8/site-packages/seaborn/distributions.py:2551: FutureWarning: `distplot` is a deprecated function and will be removed in a future version. Please adapt your code to use either `displot` (a figure-level function with similar flexibility) or `histplot` (an axes-level function for histograms).\n",
      "  warnings.warn(msg, FutureWarning)\n"
     ]
    },
    {
     "data": {
      "text/plain": [
       "<AxesSubplot:xlabel='Price', ylabel='Density'>"
      ]
     },
     "execution_count": 35,
     "metadata": {},
     "output_type": "execute_result"
    },
    {
     "data": {
      "image/png": "[encoded data removed]",
      "text/plain": [
       "<Figure size 432x288 with 1 Axes>"
      ]
     },
     "metadata": {
      "needs_background": "light"
     },
     "output_type": "display_data"
    }
   ],
   "source": [
    "sn.distplot(cars_df[cars_df.Price < 20]['Price'])"
   ]
  },
  {
   "cell_type": "markdown",
   "metadata": {},
   "source": [
    "### How many kilometers the cars were driven before being sold?"
   ]
  },
  {
   "cell_type": "code",
   "execution_count": 36,
   "metadata": {},
   "outputs": [
    {
     "data": {
      "image/png": "[encoded data removed]",
      "text/plain": [
       "<Figure size 1080x360 with 1 Axes>"
      ]
     },
     "metadata": {
      "needs_background": "light"
     },
     "output_type": "display_data"
    }
   ],
   "source": [
    "plt.figure(figsize=(15,5))\n",
    "ax = plt.gca()\n",
    "ax.xaxis.get_major_formatter().set_scientific(False)\n",
    "plt.hist(cars_df['Kilometers_Driven']);"
   ]
  },
  {
   "cell_type": "code",
   "execution_count": 111,
   "metadata": {},
   "outputs": [
    {
     "data": {
      "text/html": [
       "<div>\n",
       "<style scoped>\n",
       "    .dataframe tbody tr th:only-of-type {\n",
       "        vertical-align: middle;\n",
       "    }\n",
       "\n",
       "    .dataframe tbody tr th {\n",
       "        vertical-align: top;\n",
       "    }\n",
       "\n",
       "    .dataframe thead th {\n",
       "        text-align: right;\n",
       "    }\n",
       "</style>\n",
       "<table border=\"1\" class=\"dataframe\">\n",
       "  <thead>\n",
       "    <tr style=\"text-align: right;\">\n",
       "      <th></th>\n",
       "      <th>Name</th>\n",
       "      <th>Location</th>\n",
       "      <th>Year</th>\n",
       "      <th>Kilometers_Driven</th>\n",
       "      <th>Fuel_Type</th>\n",
       "      <th>Transmission</th>\n",
       "      <th>Owner_Type</th>\n",
       "      <th>Mileage</th>\n",
       "      <th>Engine</th>\n",
       "      <th>Power</th>\n",
       "      <th>Seats</th>\n",
       "      <th>New_Price</th>\n",
       "      <th>Price</th>\n",
       "      <th>age</th>\n",
       "      <th>make</th>\n",
       "      <th>model</th>\n",
       "      <th>mileage_new</th>\n",
       "      <th>engine_new</th>\n",
       "      <th>power_new</th>\n",
       "    </tr>\n",
       "  </thead>\n",
       "  <tbody>\n",
       "    <tr>\n",
       "      <th>2328</th>\n",
       "      <td>BMW X5 xDrive 30d M Sport</td>\n",
       "      <td>Chennai</td>\n",
       "      <td>2017</td>\n",
       "      <td>6500000</td>\n",
       "      <td>Diesel</td>\n",
       "      <td>Automatic</td>\n",
       "      <td>First</td>\n",
       "      <td>15.97 kmpl</td>\n",
       "      <td>2993 CC</td>\n",
       "      <td>258 bhp</td>\n",
       "      <td>5.0</td>\n",
       "      <td>NaN</td>\n",
       "      <td>65.00</td>\n",
       "      <td>3</td>\n",
       "      <td>bmw</td>\n",
       "      <td>x5</td>\n",
       "      <td>15.97</td>\n",
       "      <td>2993.0</td>\n",
       "      <td>258.00</td>\n",
       "    </tr>\n",
       "    <tr>\n",
       "      <th>340</th>\n",
       "      <td>Skoda Octavia Ambition Plus 2.0 TDI AT</td>\n",
       "      <td>Kolkata</td>\n",
       "      <td>2013</td>\n",
       "      <td>775000</td>\n",
       "      <td>Diesel</td>\n",
       "      <td>Automatic</td>\n",
       "      <td>First</td>\n",
       "      <td>19.3 kmpl</td>\n",
       "      <td>1968 CC</td>\n",
       "      <td>141 bhp</td>\n",
       "      <td>5.0</td>\n",
       "      <td>NaN</td>\n",
       "      <td>7.50</td>\n",
       "      <td>7</td>\n",
       "      <td>skoda</td>\n",
       "      <td>octavia</td>\n",
       "      <td>19.30</td>\n",
       "      <td>1968.0</td>\n",
       "      <td>141.00</td>\n",
       "    </tr>\n",
       "    <tr>\n",
       "      <th>1860</th>\n",
       "      <td>Volkswagen Vento Diesel Highline</td>\n",
       "      <td>Chennai</td>\n",
       "      <td>2013</td>\n",
       "      <td>720000</td>\n",
       "      <td>Diesel</td>\n",
       "      <td>Manual</td>\n",
       "      <td>First</td>\n",
       "      <td>20.54 kmpl</td>\n",
       "      <td>1598 CC</td>\n",
       "      <td>103.6 bhp</td>\n",
       "      <td>5.0</td>\n",
       "      <td>NaN</td>\n",
       "      <td>5.90</td>\n",
       "      <td>7</td>\n",
       "      <td>volkswagen</td>\n",
       "      <td>vento</td>\n",
       "      <td>20.54</td>\n",
       "      <td>1598.0</td>\n",
       "      <td>103.60</td>\n",
       "    </tr>\n",
       "    <tr>\n",
       "      <th>358</th>\n",
       "      <td>Hyundai i10 Magna 1.2</td>\n",
       "      <td>Chennai</td>\n",
       "      <td>2009</td>\n",
       "      <td>620000</td>\n",
       "      <td>Petrol</td>\n",
       "      <td>Manual</td>\n",
       "      <td>First</td>\n",
       "      <td>20.36 kmpl</td>\n",
       "      <td>1197 CC</td>\n",
       "      <td>78.9 bhp</td>\n",
       "      <td>5.0</td>\n",
       "      <td>NaN</td>\n",
       "      <td>2.70</td>\n",
       "      <td>11</td>\n",
       "      <td>hyundai</td>\n",
       "      <td>i10</td>\n",
       "      <td>20.36</td>\n",
       "      <td>1197.0</td>\n",
       "      <td>78.90</td>\n",
       "    </tr>\n",
       "    <tr>\n",
       "      <th>3092</th>\n",
       "      <td>Honda City i VTEC SV</td>\n",
       "      <td>Kolkata</td>\n",
       "      <td>2015</td>\n",
       "      <td>480000</td>\n",
       "      <td>Petrol</td>\n",
       "      <td>Manual</td>\n",
       "      <td>First</td>\n",
       "      <td>17.4 kmpl</td>\n",
       "      <td>1497 CC</td>\n",
       "      <td>117.3 bhp</td>\n",
       "      <td>5.0</td>\n",
       "      <td>NaN</td>\n",
       "      <td>5.00</td>\n",
       "      <td>5</td>\n",
       "      <td>honda</td>\n",
       "      <td>city</td>\n",
       "      <td>17.40</td>\n",
       "      <td>1497.0</td>\n",
       "      <td>117.30</td>\n",
       "    </tr>\n",
       "    <tr>\n",
       "      <th>...</th>\n",
       "      <td>...</td>\n",
       "      <td>...</td>\n",
       "      <td>...</td>\n",
       "      <td>...</td>\n",
       "      <td>...</td>\n",
       "      <td>...</td>\n",
       "      <td>...</td>\n",
       "      <td>...</td>\n",
       "      <td>...</td>\n",
       "      <td>...</td>\n",
       "      <td>...</td>\n",
       "      <td>...</td>\n",
       "      <td>...</td>\n",
       "      <td>...</td>\n",
       "      <td>...</td>\n",
       "      <td>...</td>\n",
       "      <td>...</td>\n",
       "      <td>...</td>\n",
       "      <td>...</td>\n",
       "    </tr>\n",
       "    <tr>\n",
       "      <th>1242</th>\n",
       "      <td>Jaguar XE 2.0L Diesel Prestige</td>\n",
       "      <td>Delhi</td>\n",
       "      <td>2018</td>\n",
       "      <td>1000</td>\n",
       "      <td>Diesel</td>\n",
       "      <td>Automatic</td>\n",
       "      <td>First</td>\n",
       "      <td>13.6 kmpl</td>\n",
       "      <td>1999 CC</td>\n",
       "      <td>177 bhp</td>\n",
       "      <td>5.0</td>\n",
       "      <td>52.77 Lakh</td>\n",
       "      <td>40.00</td>\n",
       "      <td>2</td>\n",
       "      <td>jaguar</td>\n",
       "      <td>xe</td>\n",
       "      <td>13.60</td>\n",
       "      <td>1999.0</td>\n",
       "      <td>177.00</td>\n",
       "    </tr>\n",
       "    <tr>\n",
       "      <th>173</th>\n",
       "      <td>Hyundai Grand i10 1.2 Kappa Asta</td>\n",
       "      <td>Kolkata</td>\n",
       "      <td>2019</td>\n",
       "      <td>1000</td>\n",
       "      <td>Petrol</td>\n",
       "      <td>Manual</td>\n",
       "      <td>First</td>\n",
       "      <td>18.9 kmpl</td>\n",
       "      <td>1197 CC</td>\n",
       "      <td>81.86 bhp</td>\n",
       "      <td>5.0</td>\n",
       "      <td>7.39 Lakh</td>\n",
       "      <td>6.50</td>\n",
       "      <td>1</td>\n",
       "      <td>hyundai</td>\n",
       "      <td>grand</td>\n",
       "      <td>18.90</td>\n",
       "      <td>1197.0</td>\n",
       "      <td>81.86</td>\n",
       "    </tr>\n",
       "    <tr>\n",
       "      <th>2646</th>\n",
       "      <td>Ford Figo 2015-2019 1.2P Sports Edition MT</td>\n",
       "      <td>Mumbai</td>\n",
       "      <td>2019</td>\n",
       "      <td>1000</td>\n",
       "      <td>Petrol</td>\n",
       "      <td>Manual</td>\n",
       "      <td>First</td>\n",
       "      <td>18.12 kmpl</td>\n",
       "      <td>1196 CC</td>\n",
       "      <td>86.8 bhp</td>\n",
       "      <td>5.0</td>\n",
       "      <td>NaN</td>\n",
       "      <td>6.80</td>\n",
       "      <td>1</td>\n",
       "      <td>ford</td>\n",
       "      <td>figo</td>\n",
       "      <td>18.12</td>\n",
       "      <td>1196.0</td>\n",
       "      <td>86.80</td>\n",
       "    </tr>\n",
       "    <tr>\n",
       "      <th>5606</th>\n",
       "      <td>Maruti Wagon R ZXI AMT 1.2</td>\n",
       "      <td>Mumbai</td>\n",
       "      <td>2019</td>\n",
       "      <td>600</td>\n",
       "      <td>Petrol</td>\n",
       "      <td>Automatic</td>\n",
       "      <td>First</td>\n",
       "      <td>21.5 kmpl</td>\n",
       "      <td>1197 CC</td>\n",
       "      <td>81.80 bhp</td>\n",
       "      <td>5.0</td>\n",
       "      <td>6.8 Lakh</td>\n",
       "      <td>6.25</td>\n",
       "      <td>1</td>\n",
       "      <td>maruti</td>\n",
       "      <td>wagon</td>\n",
       "      <td>21.50</td>\n",
       "      <td>1197.0</td>\n",
       "      <td>81.80</td>\n",
       "    </tr>\n",
       "    <tr>\n",
       "      <th>1361</th>\n",
       "      <td>Maruti Alto 800 2016-2019 VXI</td>\n",
       "      <td>Mumbai</td>\n",
       "      <td>2019</td>\n",
       "      <td>171</td>\n",
       "      <td>Petrol</td>\n",
       "      <td>Manual</td>\n",
       "      <td>First</td>\n",
       "      <td>24.7 kmpl</td>\n",
       "      <td>796 CC</td>\n",
       "      <td>47.3 bhp</td>\n",
       "      <td>5.0</td>\n",
       "      <td>NaN</td>\n",
       "      <td>3.60</td>\n",
       "      <td>1</td>\n",
       "      <td>maruti</td>\n",
       "      <td>alto</td>\n",
       "      <td>24.70</td>\n",
       "      <td>796.0</td>\n",
       "      <td>47.30</td>\n",
       "    </tr>\n",
       "  </tbody>\n",
       "</table>\n",
       "<p>6019 rows × 19 columns</p>\n",
       "</div>"
      ],
      "text/plain": [
       "                                            Name Location  Year  \\\n",
       "2328                   BMW X5 xDrive 30d M Sport  Chennai  2017   \n",
       "340       Skoda Octavia Ambition Plus 2.0 TDI AT  Kolkata  2013   \n",
       "1860            Volkswagen Vento Diesel Highline  Chennai  2013   \n",
       "358                        Hyundai i10 Magna 1.2  Chennai  2009   \n",
       "3092                        Honda City i VTEC SV  Kolkata  2015   \n",
       "...                                          ...      ...   ...   \n",
       "1242              Jaguar XE 2.0L Diesel Prestige    Delhi  2018   \n",
       "173             Hyundai Grand i10 1.2 Kappa Asta  Kolkata  2019   \n",
       "2646  Ford Figo 2015-2019 1.2P Sports Edition MT   Mumbai  2019   \n",
       "5606                  Maruti Wagon R ZXI AMT 1.2   Mumbai  2019   \n",
       "1361               Maruti Alto 800 2016-2019 VXI   Mumbai  2019   \n",
       "\n",
       "      Kilometers_Driven Fuel_Type Transmission Owner_Type     Mileage  \\\n",
       "2328            6500000    Diesel    Automatic      First  15.97 kmpl   \n",
       "340              775000    Diesel    Automatic      First   19.3 kmpl   \n",
       "1860             720000    Diesel       Manual      First  20.54 kmpl   \n",
       "358              620000    Petrol       Manual      First  20.36 kmpl   \n",
       "3092             480000    Petrol       Manual      First   17.4 kmpl   \n",
       "...                 ...       ...          ...        ...         ...   \n",
       "1242               1000    Diesel    Automatic      First   13.6 kmpl   \n",
       "173                1000    Petrol       Manual      First   18.9 kmpl   \n",
       "2646               1000    Petrol       Manual      First  18.12 kmpl   \n",
       "5606                600    Petrol    Automatic      First   21.5 kmpl   \n",
       "1361                171    Petrol       Manual      First   24.7 kmpl   \n",
       "\n",
       "       Engine      Power  Seats   New_Price  Price  age        make    model  \\\n",
       "2328  2993 CC    258 bhp    5.0         NaN  65.00    3         bmw       x5   \n",
       "340   1968 CC    141 bhp    5.0         NaN   7.50    7       skoda  octavia   \n",
       "1860  1598 CC  103.6 bhp    5.0         NaN   5.90    7  volkswagen    vento   \n",
       "358   1197 CC   78.9 bhp    5.0         NaN   2.70   11     hyundai      i10   \n",
       "3092  1497 CC  117.3 bhp    5.0         NaN   5.00    5       honda     city   \n",
       "...       ...        ...    ...         ...    ...  ...         ...      ...   \n",
       "1242  1999 CC    177 bhp    5.0  52.77 Lakh  40.00    2      jaguar       xe   \n",
       "173   1197 CC  81.86 bhp    5.0   7.39 Lakh   6.50    1     hyundai    grand   \n",
       "2646  1196 CC   86.8 bhp    5.0         NaN   6.80    1        ford     figo   \n",
       "5606  1197 CC  81.80 bhp    5.0    6.8 Lakh   6.25    1      maruti    wagon   \n",
       "1361   796 CC   47.3 bhp    5.0         NaN   3.60    1      maruti     alto   \n",
       "\n",
       "      mileage_new  engine_new  power_new  \n",
       "2328        15.97      2993.0     258.00  \n",
       "340         19.30      1968.0     141.00  \n",
       "1860        20.54      1598.0     103.60  \n",
       "358         20.36      1197.0      78.90  \n",
       "3092        17.40      1497.0     117.30  \n",
       "...           ...         ...        ...  \n",
       "1242        13.60      1999.0     177.00  \n",
       "173         18.90      1197.0      81.86  \n",
       "2646        18.12      1196.0      86.80  \n",
       "5606        21.50      1197.0      81.80  \n",
       "1361        24.70       796.0      47.30  \n",
       "\n",
       "[6019 rows x 19 columns]"
      ]
     },
     "execution_count": 111,
     "metadata": {},
     "output_type": "execute_result"
    }
   ],
   "source": [
    "### TODO: Top 10 cars most driven \n",
    "cars_df.sort_values(\"Kilometers_Driven\", ascending=False)"
   ]
  },
  {
   "cell_type": "code",
   "execution_count": 38,
   "metadata": {},
   "outputs": [],
   "source": [
    "### TODO: Top 10 cars least driven "
   ]
  },
  {
   "cell_type": "code",
   "execution_count": 39,
   "metadata": {},
   "outputs": [
    {
     "data": {
      "text/plain": [
       "(4, 13)"
      ]
     },
     "execution_count": 39,
     "metadata": {},
     "output_type": "execute_result"
    }
   ],
   "source": [
    "cars_df[cars_df.Kilometers_Driven > 600000].shape"
   ]
  },
  {
   "cell_type": "code",
   "execution_count": 40,
   "metadata": {},
   "outputs": [
    {
     "data": {
      "image/png": "[encoded data removed]",
      "text/plain": [
       "<Figure size 1080x360 with 1 Axes>"
      ]
     },
     "metadata": {
      "needs_background": "light"
     },
     "output_type": "display_data"
    }
   ],
   "source": [
    "plt.figure(figsize=(15,5))\n",
    "plt.hist(cars_df[cars_df.Kilometers_Driven < 200000]['Kilometers_Driven'],\n",
    "         bins = range(0, 200000, 10000));"
   ]
  },
  {
   "cell_type": "code",
   "execution_count": 41,
   "metadata": {},
   "outputs": [
    {
     "name": "stderr",
     "output_type": "stream",
     "text": [
      "/usr/local/anaconda3/lib/python3.8/site-packages/seaborn/distributions.py:2551: FutureWarning: `distplot` is a deprecated function and will be removed in a future version. Please adapt your code to use either `displot` (a figure-level function with similar flexibility) or `histplot` (an axes-level function for histograms).\n",
      "  warnings.warn(msg, FutureWarning)\n"
     ]
    },
    {
     "data": {
      "image/png": "[encoded data removed]",
      "text/plain": [
       "<Figure size 432x288 with 1 Axes>"
      ]
     },
     "metadata": {
      "needs_background": "light"
     },
     "output_type": "display_data"
    }
   ],
   "source": [
    "sn.distplot(cars_df[cars_df.Kilometers_Driven < 200000]['Kilometers_Driven']);"
   ]
  },
  {
   "cell_type": "markdown",
   "metadata": {},
   "source": [
    "### Age of car\n",
    "\n",
    "This is not the actual age of the car.\n",
    "\n",
    "We are substracting the edition of the car from the current year."
   ]
  },
  {
   "cell_type": "code",
   "execution_count": 42,
   "metadata": {},
   "outputs": [],
   "source": [
    "cars_df['age'] = 2020 - cars_df['Year']"
   ]
  },
  {
   "cell_type": "code",
   "execution_count": 43,
   "metadata": {
    "scrolled": false
   },
   "outputs": [
    {
     "data": {
      "image/png": "[encoded data removed]",
      "text/plain": [
       "<Figure size 432x288 with 1 Axes>"
      ]
     },
     "metadata": {
      "needs_background": "light"
     },
     "output_type": "display_data"
    }
   ],
   "source": [
    "plt.hist(cars_df['age'], bins = 20);"
   ]
  },
  {
   "cell_type": "code",
   "execution_count": 44,
   "metadata": {},
   "outputs": [],
   "source": [
    "### TODO: 95% o the cars sold were of what age?"
   ]
  },
  {
   "cell_type": "markdown",
   "metadata": {},
   "source": [
    "### Different makes and models\n",
    "\n",
    "We are assuming the first token to be the make and the second token to be the model."
   ]
  },
  {
   "cell_type": "code",
   "execution_count": 45,
   "metadata": {},
   "outputs": [],
   "source": [
    "cars_df['make'] = cars_df['Name'].map( lambda x: x.lower().split()[0] )"
   ]
  },
  {
   "cell_type": "code",
   "execution_count": 46,
   "metadata": {},
   "outputs": [
    {
     "data": {
      "text/plain": [
       "maruti           1211\n",
       "hyundai          1107\n",
       "honda             608\n",
       "toyota            411\n",
       "mercedes-benz     318\n",
       "volkswagen        315\n",
       "ford              300\n",
       "mahindra          272\n",
       "bmw               267\n",
       "audi              236\n",
       "tata              186\n",
       "skoda             173\n",
       "renault           145\n",
       "chevrolet         121\n",
       "nissan             91\n",
       "land               60\n",
       "jaguar             40\n",
       "fiat               28\n",
       "mitsubishi         27\n",
       "mini               26\n",
       "volvo              21\n",
       "porsche            18\n",
       "jeep               15\n",
       "datsun             13\n",
       "isuzu               3\n",
       "force               3\n",
       "ambassador          1\n",
       "lamborghini         1\n",
       "bentley             1\n",
       "smart               1\n",
       "Name: make, dtype: int64"
      ]
     },
     "execution_count": 46,
     "metadata": {},
     "output_type": "execute_result"
    }
   ],
   "source": [
    "cars_df.make.value_counts()"
   ]
  },
  {
   "cell_type": "code",
   "execution_count": 47,
   "metadata": {},
   "outputs": [],
   "source": [
    "cars_df['model'] = cars_df['Name'].map( lambda x: x.lower().split(\" \")[1] )"
   ]
  },
  {
   "cell_type": "code",
   "execution_count": 48,
   "metadata": {},
   "outputs": [
    {
     "data": {
      "text/plain": [
       "array(['wagon', 'creta', 'jazz', 'ertiga', 'a4', 'eon', 'micra', 'innova',\n",
       "       'vento', 'indica', 'ciaz', 'city', 'swift', 'rover', 'pajero',\n",
       "       'amaze', 'duster', 'new', '3', 's', 'a6', 'i20', 'alto', 'wrv',\n",
       "       'corolla', 'ssangyong', 'vitara', 'kuv', 'm-class', 'polo', 'nano',\n",
       "       'elantra', 'xcent', 'thar', 'grand', 'kwid', 'i10', 'x-trail',\n",
       "       'zen', 'figo', 'c-class', 'cayenne', 'xuv500', 'terrano', 'brio',\n",
       "       'fiesta', 'santro', 'zest', 'ritz', '5', 'fortuner', 'ecosport',\n",
       "       'verna', 'go', 'omni', 'etios', 'xf', 'eeco', 'civic', 'v40', 'b',\n",
       "       'scorpio', 'cr-v', 'slc', '1', 'beat', 'rapid', 'rs5', 'superb',\n",
       "       'x5', 'glc', 'countryman', 'optra', 'lodgy', 'e-class', 'baleno',\n",
       "       'laura', 'nuvosport', 'fabia', 'indigo', 'q3', 'octavia', 'a8',\n",
       "       'verito', 'cooper', 'santa', 'x1', 'accent', 'tucson', 'gle',\n",
       "       'a-star', 'grande', 'x3', 'q7', 'jetta', 'gla', 'celerio', 'sumo',\n",
       "       'accord', '6', 'manza', 'spark', 'clubman', 'teana', '800', 'brv',\n",
       "       'xe', 'xenon', 'a3', 'gl-class', 'br-v', 's80', 'captur', 'enjoy',\n",
       "       'bolero', 'q5', 'cedia', 's-cross', 'yeti', 'endeavour', 'gls',\n",
       "       'a', 'sx4', 'camry', 'mobilio', 'linea', 'tt', 'renault',\n",
       "       'compass', 'ikon', 'sail', 'quanto', 'aveo', 'xylo', 'esteem',\n",
       "       'safari', 'ignis', 'xj', 'sunny', 'slk-class', 'passat', 'dzire',\n",
       "       'cruze', 'koleos', 'qualis', 'ameo', 'redi-go', 'fortwo',\n",
       "       'outlander', 'cayman', 'cla', 'xc60', 'boxster', 'xuv300', 'hexa',\n",
       "       'tiago', '7', 'avventura', 'tigor', 's60', 'classic', 'beetle',\n",
       "       'petra', 'getz', 'a7', 'elite', 'aspire', 'tiguan', 'captiva',\n",
       "       'punto', 'tuv', 'x6', 'bolt', 'evalia', 'scala', 'jeep', 'sonata',\n",
       "       'freestyle', 'logan', 'tavera', 'estilo', 'xc90', 'pulse',\n",
       "       'montero', 'panamera', 'crosspolo', 'fluence', 'venture', 'nexon',\n",
       "       'mux', 'platinum', 'r-class', 'cls-class', 'd-max', 's-class',\n",
       "       'lancer', 'redi', 'e', 'mustang', 'fusion', 'siena', '1000',\n",
       "       'sl-class', 'z4', 'prius', 'one', 'versa', 'wr-v', 'continental',\n",
       "       'gallardo', 'f'], dtype=object)"
      ]
     },
     "execution_count": 48,
     "metadata": {},
     "output_type": "execute_result"
    }
   ],
   "source": [
    "cars_df['model'].unique()"
   ]
  },
  {
   "cell_type": "code",
   "execution_count": 49,
   "metadata": {},
   "outputs": [
    {
     "data": {
      "text/plain": [
       "211"
      ]
     },
     "execution_count": 49,
     "metadata": {},
     "output_type": "execute_result"
    }
   ],
   "source": [
    "len(cars_df['model'].unique())"
   ]
  },
  {
   "cell_type": "code",
   "execution_count": 50,
   "metadata": {},
   "outputs": [
    {
     "data": {
      "text/plain": [
       "swift         353\n",
       "city          270\n",
       "i20           247\n",
       "verna         170\n",
       "innova        164\n",
       "             ... \n",
       "countryman      1\n",
       "siena           1\n",
       "e               1\n",
       "sl-class        1\n",
       "wr-v            1\n",
       "Name: model, Length: 211, dtype: int64"
      ]
     },
     "execution_count": 50,
     "metadata": {},
     "output_type": "execute_result"
    }
   ],
   "source": [
    "cars_df['model'].value_counts()"
   ]
  },
  {
   "cell_type": "markdown",
   "metadata": {},
   "source": [
    "### Top 10 reselling models"
   ]
  },
  {
   "cell_type": "code",
   "execution_count": 51,
   "metadata": {},
   "outputs": [],
   "source": [
    "top_10_models = list(cars_df['model'].value_counts().index[0:10])"
   ]
  },
  {
   "cell_type": "code",
   "execution_count": 52,
   "metadata": {},
   "outputs": [
    {
     "data": {
      "text/plain": [
       "['swift',\n",
       " 'city',\n",
       " 'i20',\n",
       " 'verna',\n",
       " 'innova',\n",
       " 'grand',\n",
       " 'i10',\n",
       " 'wagon',\n",
       " 'polo',\n",
       " 'alto']"
      ]
     },
     "execution_count": 52,
     "metadata": {},
     "output_type": "execute_result"
    }
   ],
   "source": [
    "top_10_models"
   ]
  },
  {
   "cell_type": "code",
   "execution_count": 53,
   "metadata": {},
   "outputs": [
    {
     "data": {
      "image/png": "[encoded data removed]",
      "text/plain": [
       "<Figure size 1080x432 with 1 Axes>"
      ]
     },
     "metadata": {
      "needs_background": "light"
     },
     "output_type": "display_data"
    }
   ],
   "source": [
    "plt.figure(figsize=(15, 6))\n",
    "sn.countplot(data = cars_df,\n",
    "             x = 'model',\n",
    "             order = top_10_models);"
   ]
  },
  {
   "cell_type": "markdown",
   "metadata": {},
   "source": [
    "## Analyzing two variables"
   ]
  },
  {
   "cell_type": "markdown",
   "metadata": {},
   "source": [
    "### What is sales price of cars of top 10 models looks like?"
   ]
  },
  {
   "cell_type": "code",
   "execution_count": 54,
   "metadata": {},
   "outputs": [
    {
     "data": {
      "image/png": "[encoded data removed]",
      "text/plain": [
       "<Figure size 1080x432 with 1 Axes>"
      ]
     },
     "metadata": {
      "needs_background": "light"
     },
     "output_type": "display_data"
    }
   ],
   "source": [
    "plt.figure(figsize=(15, 6))\n",
    "sn.boxplot(data = cars_df[cars_df.model.isin(top_10_models)],\n",
    "           x = 'model',\n",
    "           y = 'Price' );"
   ]
  },
  {
   "cell_type": "markdown",
   "metadata": {},
   "source": [
    "### Converting datatypes of columns\n",
    "\n",
    "Engine capacity, power and mileage are not numerical values. We need to convert them to numerical values for analysis."
   ]
  },
  {
   "cell_type": "code",
   "execution_count": 55,
   "metadata": {},
   "outputs": [
    {
     "name": "stdout",
     "output_type": "stream",
     "text": [
      "<class 'pandas.core.frame.DataFrame'>\n",
      "Int64Index: 6019 entries, 0 to 6018\n",
      "Data columns (total 16 columns):\n",
      " #   Column             Non-Null Count  Dtype  \n",
      "---  ------             --------------  -----  \n",
      " 0   Name               6019 non-null   object \n",
      " 1   Location           6019 non-null   object \n",
      " 2   Year               6019 non-null   int64  \n",
      " 3   Kilometers_Driven  6019 non-null   int64  \n",
      " 4   Fuel_Type          6019 non-null   object \n",
      " 5   Transmission       6019 non-null   object \n",
      " 6   Owner_Type         6019 non-null   object \n",
      " 7   Mileage            6017 non-null   object \n",
      " 8   Engine             5983 non-null   object \n",
      " 9   Power              5983 non-null   object \n",
      " 10  Seats              5977 non-null   float64\n",
      " 11  New_Price          824 non-null    object \n",
      " 12  Price              6019 non-null   float64\n",
      " 13  age                6019 non-null   int64  \n",
      " 14  make               6019 non-null   object \n",
      " 15  model              6019 non-null   object \n",
      "dtypes: float64(2), int64(3), object(11)\n",
      "memory usage: 959.4+ KB\n"
     ]
    }
   ],
   "source": [
    "cars_df.info()"
   ]
  },
  {
   "cell_type": "code",
   "execution_count": 56,
   "metadata": {},
   "outputs": [
    {
     "data": {
      "text/html": [
       "<div>\n",
       "<style scoped>\n",
       "    .dataframe tbody tr th:only-of-type {\n",
       "        vertical-align: middle;\n",
       "    }\n",
       "\n",
       "    .dataframe tbody tr th {\n",
       "        vertical-align: top;\n",
       "    }\n",
       "\n",
       "    .dataframe thead th {\n",
       "        text-align: right;\n",
       "    }\n",
       "</style>\n",
       "<table border=\"1\" class=\"dataframe\">\n",
       "  <thead>\n",
       "    <tr style=\"text-align: right;\">\n",
       "      <th></th>\n",
       "      <th>Name</th>\n",
       "      <th>Location</th>\n",
       "      <th>Year</th>\n",
       "      <th>Kilometers_Driven</th>\n",
       "      <th>Fuel_Type</th>\n",
       "      <th>Transmission</th>\n",
       "      <th>Owner_Type</th>\n",
       "      <th>Mileage</th>\n",
       "      <th>Engine</th>\n",
       "      <th>Power</th>\n",
       "      <th>Seats</th>\n",
       "      <th>New_Price</th>\n",
       "      <th>Price</th>\n",
       "      <th>age</th>\n",
       "      <th>make</th>\n",
       "      <th>model</th>\n",
       "    </tr>\n",
       "  </thead>\n",
       "  <tbody>\n",
       "    <tr>\n",
       "      <th>0</th>\n",
       "      <td>Maruti Wagon R LXI CNG</td>\n",
       "      <td>Mumbai</td>\n",
       "      <td>2010</td>\n",
       "      <td>72000</td>\n",
       "      <td>CNG</td>\n",
       "      <td>Manual</td>\n",
       "      <td>First</td>\n",
       "      <td>26.6 km/kg</td>\n",
       "      <td>998 CC</td>\n",
       "      <td>58.16 bhp</td>\n",
       "      <td>5.0</td>\n",
       "      <td>NaN</td>\n",
       "      <td>1.75</td>\n",
       "      <td>10</td>\n",
       "      <td>maruti</td>\n",
       "      <td>wagon</td>\n",
       "    </tr>\n",
       "    <tr>\n",
       "      <th>1</th>\n",
       "      <td>Hyundai Creta 1.6 CRDi SX Option</td>\n",
       "      <td>Pune</td>\n",
       "      <td>2015</td>\n",
       "      <td>41000</td>\n",
       "      <td>Diesel</td>\n",
       "      <td>Manual</td>\n",
       "      <td>First</td>\n",
       "      <td>19.67 kmpl</td>\n",
       "      <td>1582 CC</td>\n",
       "      <td>126.2 bhp</td>\n",
       "      <td>5.0</td>\n",
       "      <td>NaN</td>\n",
       "      <td>12.50</td>\n",
       "      <td>5</td>\n",
       "      <td>hyundai</td>\n",
       "      <td>creta</td>\n",
       "    </tr>\n",
       "  </tbody>\n",
       "</table>\n",
       "</div>"
      ],
      "text/plain": [
       "                               Name Location  Year  Kilometers_Driven  \\\n",
       "0            Maruti Wagon R LXI CNG   Mumbai  2010              72000   \n",
       "1  Hyundai Creta 1.6 CRDi SX Option     Pune  2015              41000   \n",
       "\n",
       "  Fuel_Type Transmission Owner_Type     Mileage   Engine      Power  Seats  \\\n",
       "0       CNG       Manual      First  26.6 km/kg   998 CC  58.16 bhp    5.0   \n",
       "1    Diesel       Manual      First  19.67 kmpl  1582 CC  126.2 bhp    5.0   \n",
       "\n",
       "  New_Price  Price  age     make  model  \n",
       "0       NaN   1.75   10   maruti  wagon  \n",
       "1       NaN  12.50    5  hyundai  creta  "
      ]
     },
     "execution_count": 56,
     "metadata": {},
     "output_type": "execute_result"
    }
   ],
   "source": [
    "cars_df[0:2]"
   ]
  },
  {
   "cell_type": "code",
   "execution_count": 57,
   "metadata": {},
   "outputs": [],
   "source": [
    "import math"
   ]
  },
  {
   "cell_type": "code",
   "execution_count": 58,
   "metadata": {},
   "outputs": [],
   "source": [
    "def get_float_val(x):\n",
    "    if x is None:\n",
    "        return None   \n",
    "    \n",
    "    val = str(x).split()[0]\n",
    "    \n",
    "    if val.replace(\".\",\"\",1).isdigit():\n",
    "        return float(val)        \n",
    "    else:\n",
    "        return None"
   ]
  },
  {
   "cell_type": "code",
   "execution_count": 59,
   "metadata": {},
   "outputs": [],
   "source": [
    "cars_df['mileage_new'] = cars_df.Mileage.map(lambda x: get_float_val(x))"
   ]
  },
  {
   "cell_type": "code",
   "execution_count": 60,
   "metadata": {},
   "outputs": [
    {
     "data": {
      "text/plain": [
       "0       26.60\n",
       "1       19.67\n",
       "2       18.20\n",
       "3       20.77\n",
       "4       15.20\n",
       "        ...  \n",
       "6014    28.40\n",
       "6015    24.40\n",
       "6016    14.00\n",
       "6017    18.90\n",
       "6018    25.44\n",
       "Name: mileage_new, Length: 6019, dtype: float64"
      ]
     },
     "execution_count": 60,
     "metadata": {},
     "output_type": "execute_result"
    }
   ],
   "source": [
    "cars_df.mileage_new"
   ]
  },
  {
   "cell_type": "code",
   "execution_count": 61,
   "metadata": {},
   "outputs": [],
   "source": [
    "cars_df['engine_new'] = cars_df.Engine.map(lambda x: get_float_val(x))\n",
    "cars_df['power_new'] = cars_df.Power.map(lambda x: get_float_val(x))"
   ]
  },
  {
   "cell_type": "code",
   "execution_count": 62,
   "metadata": {},
   "outputs": [
    {
     "name": "stdout",
     "output_type": "stream",
     "text": [
      "<class 'pandas.core.frame.DataFrame'>\n",
      "Int64Index: 6019 entries, 0 to 6018\n",
      "Data columns (total 19 columns):\n",
      " #   Column             Non-Null Count  Dtype  \n",
      "---  ------             --------------  -----  \n",
      " 0   Name               6019 non-null   object \n",
      " 1   Location           6019 non-null   object \n",
      " 2   Year               6019 non-null   int64  \n",
      " 3   Kilometers_Driven  6019 non-null   int64  \n",
      " 4   Fuel_Type          6019 non-null   object \n",
      " 5   Transmission       6019 non-null   object \n",
      " 6   Owner_Type         6019 non-null   object \n",
      " 7   Mileage            6017 non-null   object \n",
      " 8   Engine             5983 non-null   object \n",
      " 9   Power              5983 non-null   object \n",
      " 10  Seats              5977 non-null   float64\n",
      " 11  New_Price          824 non-null    object \n",
      " 12  Price              6019 non-null   float64\n",
      " 13  age                6019 non-null   int64  \n",
      " 14  make               6019 non-null   object \n",
      " 15  model              6019 non-null   object \n",
      " 16  mileage_new        6017 non-null   float64\n",
      " 17  engine_new         5983 non-null   float64\n",
      " 18  power_new          5876 non-null   float64\n",
      "dtypes: float64(5), int64(3), object(11)\n",
      "memory usage: 1.1+ MB\n"
     ]
    }
   ],
   "source": [
    "cars_df.info()"
   ]
  },
  {
   "cell_type": "markdown",
   "metadata": {},
   "source": [
    "### How engine power and mileage is effecting price of the used cars?"
   ]
  },
  {
   "cell_type": "code",
   "execution_count": 63,
   "metadata": {},
   "outputs": [
    {
     "data": {
      "image/png": "[encoded data removed]",
      "text/plain": [
       "<Figure size 360x360 with 1 Axes>"
      ]
     },
     "metadata": {
      "needs_background": "light"
     },
     "output_type": "display_data"
    }
   ],
   "source": [
    "sn.lmplot(data = cars_df,\n",
    "          x = 'power_new',\n",
    "          y = 'Price');"
   ]
  },
  {
   "cell_type": "code",
   "execution_count": 64,
   "metadata": {},
   "outputs": [
    {
     "data": {
      "image/png": "[encoded data removed]",
      "text/plain": [
       "<Figure size 360x360 with 1 Axes>"
      ]
     },
     "metadata": {
      "needs_background": "light"
     },
     "output_type": "display_data"
    }
   ],
   "source": [
    "sn.lmplot(data = cars_df,\n",
    "          x = 'mileage_new',\n",
    "          y = 'Price');"
   ]
  },
  {
   "cell_type": "code",
   "execution_count": 65,
   "metadata": {},
   "outputs": [
    {
     "data": {
      "text/html": [
       "<div>\n",
       "<style scoped>\n",
       "    .dataframe tbody tr th:only-of-type {\n",
       "        vertical-align: middle;\n",
       "    }\n",
       "\n",
       "    .dataframe tbody tr th {\n",
       "        vertical-align: top;\n",
       "    }\n",
       "\n",
       "    .dataframe thead th {\n",
       "        text-align: right;\n",
       "    }\n",
       "</style>\n",
       "<table border=\"1\" class=\"dataframe\">\n",
       "  <thead>\n",
       "    <tr style=\"text-align: right;\">\n",
       "      <th></th>\n",
       "      <th>Name</th>\n",
       "      <th>Location</th>\n",
       "      <th>Year</th>\n",
       "      <th>Kilometers_Driven</th>\n",
       "      <th>Fuel_Type</th>\n",
       "      <th>Transmission</th>\n",
       "      <th>Owner_Type</th>\n",
       "      <th>Mileage</th>\n",
       "      <th>Engine</th>\n",
       "      <th>Power</th>\n",
       "      <th>Seats</th>\n",
       "      <th>New_Price</th>\n",
       "      <th>Price</th>\n",
       "      <th>age</th>\n",
       "      <th>make</th>\n",
       "      <th>model</th>\n",
       "      <th>mileage_new</th>\n",
       "      <th>engine_new</th>\n",
       "      <th>power_new</th>\n",
       "    </tr>\n",
       "  </thead>\n",
       "  <tbody>\n",
       "    <tr>\n",
       "      <th>14</th>\n",
       "      <td>Land Rover Freelander 2 TD4 SE</td>\n",
       "      <td>Pune</td>\n",
       "      <td>2012</td>\n",
       "      <td>85000</td>\n",
       "      <td>Diesel</td>\n",
       "      <td>Automatic</td>\n",
       "      <td>Second</td>\n",
       "      <td>0.0 kmpl</td>\n",
       "      <td>2179 CC</td>\n",
       "      <td>115 bhp</td>\n",
       "      <td>5.0</td>\n",
       "      <td>NaN</td>\n",
       "      <td>17.50</td>\n",
       "      <td>8</td>\n",
       "      <td>land</td>\n",
       "      <td>rover</td>\n",
       "      <td>0.0</td>\n",
       "      <td>2179.0</td>\n",
       "      <td>115.0</td>\n",
       "    </tr>\n",
       "    <tr>\n",
       "      <th>67</th>\n",
       "      <td>Mercedes-Benz C-Class Progressive C 220d</td>\n",
       "      <td>Coimbatore</td>\n",
       "      <td>2019</td>\n",
       "      <td>15369</td>\n",
       "      <td>Diesel</td>\n",
       "      <td>Automatic</td>\n",
       "      <td>First</td>\n",
       "      <td>0.0 kmpl</td>\n",
       "      <td>1950 CC</td>\n",
       "      <td>194 bhp</td>\n",
       "      <td>5.0</td>\n",
       "      <td>49.14 Lakh</td>\n",
       "      <td>35.67</td>\n",
       "      <td>1</td>\n",
       "      <td>mercedes-benz</td>\n",
       "      <td>c-class</td>\n",
       "      <td>0.0</td>\n",
       "      <td>1950.0</td>\n",
       "      <td>194.0</td>\n",
       "    </tr>\n",
       "    <tr>\n",
       "      <th>79</th>\n",
       "      <td>Hyundai Santro Xing XL</td>\n",
       "      <td>Hyderabad</td>\n",
       "      <td>2005</td>\n",
       "      <td>87591</td>\n",
       "      <td>Petrol</td>\n",
       "      <td>Manual</td>\n",
       "      <td>First</td>\n",
       "      <td>0.0 kmpl</td>\n",
       "      <td>1086 CC</td>\n",
       "      <td>null bhp</td>\n",
       "      <td>5.0</td>\n",
       "      <td>NaN</td>\n",
       "      <td>1.30</td>\n",
       "      <td>15</td>\n",
       "      <td>hyundai</td>\n",
       "      <td>santro</td>\n",
       "      <td>0.0</td>\n",
       "      <td>1086.0</td>\n",
       "      <td>NaN</td>\n",
       "    </tr>\n",
       "    <tr>\n",
       "      <th>194</th>\n",
       "      <td>Honda City 1.5 GXI</td>\n",
       "      <td>Ahmedabad</td>\n",
       "      <td>2007</td>\n",
       "      <td>60006</td>\n",
       "      <td>Petrol</td>\n",
       "      <td>Manual</td>\n",
       "      <td>First</td>\n",
       "      <td>0.0 kmpl</td>\n",
       "      <td>NaN</td>\n",
       "      <td>NaN</td>\n",
       "      <td>NaN</td>\n",
       "      <td>NaN</td>\n",
       "      <td>2.95</td>\n",
       "      <td>13</td>\n",
       "      <td>honda</td>\n",
       "      <td>city</td>\n",
       "      <td>0.0</td>\n",
       "      <td>NaN</td>\n",
       "      <td>NaN</td>\n",
       "    </tr>\n",
       "    <tr>\n",
       "      <th>229</th>\n",
       "      <td>Ford Figo Diesel</td>\n",
       "      <td>Bangalore</td>\n",
       "      <td>2015</td>\n",
       "      <td>70436</td>\n",
       "      <td>Diesel</td>\n",
       "      <td>Manual</td>\n",
       "      <td>First</td>\n",
       "      <td>0.0 kmpl</td>\n",
       "      <td>1498 CC</td>\n",
       "      <td>99 bhp</td>\n",
       "      <td>NaN</td>\n",
       "      <td>NaN</td>\n",
       "      <td>3.60</td>\n",
       "      <td>5</td>\n",
       "      <td>ford</td>\n",
       "      <td>figo</td>\n",
       "      <td>0.0</td>\n",
       "      <td>1498.0</td>\n",
       "      <td>99.0</td>\n",
       "    </tr>\n",
       "    <tr>\n",
       "      <th>...</th>\n",
       "      <td>...</td>\n",
       "      <td>...</td>\n",
       "      <td>...</td>\n",
       "      <td>...</td>\n",
       "      <td>...</td>\n",
       "      <td>...</td>\n",
       "      <td>...</td>\n",
       "      <td>...</td>\n",
       "      <td>...</td>\n",
       "      <td>...</td>\n",
       "      <td>...</td>\n",
       "      <td>...</td>\n",
       "      <td>...</td>\n",
       "      <td>...</td>\n",
       "      <td>...</td>\n",
       "      <td>...</td>\n",
       "      <td>...</td>\n",
       "      <td>...</td>\n",
       "      <td>...</td>\n",
       "    </tr>\n",
       "    <tr>\n",
       "      <th>5647</th>\n",
       "      <td>Toyota Qualis Fleet A3</td>\n",
       "      <td>Mumbai</td>\n",
       "      <td>2001</td>\n",
       "      <td>227000</td>\n",
       "      <td>Diesel</td>\n",
       "      <td>Manual</td>\n",
       "      <td>Fourth &amp; Above</td>\n",
       "      <td>0.0 kmpl</td>\n",
       "      <td>2446 CC</td>\n",
       "      <td>null bhp</td>\n",
       "      <td>8.0</td>\n",
       "      <td>NaN</td>\n",
       "      <td>2.20</td>\n",
       "      <td>19</td>\n",
       "      <td>toyota</td>\n",
       "      <td>qualis</td>\n",
       "      <td>0.0</td>\n",
       "      <td>2446.0</td>\n",
       "      <td>NaN</td>\n",
       "    </tr>\n",
       "    <tr>\n",
       "      <th>5875</th>\n",
       "      <td>Mercedes-Benz C-Class Progressive C 220d</td>\n",
       "      <td>Ahmedabad</td>\n",
       "      <td>2019</td>\n",
       "      <td>4000</td>\n",
       "      <td>Diesel</td>\n",
       "      <td>Automatic</td>\n",
       "      <td>First</td>\n",
       "      <td>0.0 kmpl</td>\n",
       "      <td>1950 CC</td>\n",
       "      <td>194 bhp</td>\n",
       "      <td>5.0</td>\n",
       "      <td>49.14 Lakh</td>\n",
       "      <td>35.00</td>\n",
       "      <td>1</td>\n",
       "      <td>mercedes-benz</td>\n",
       "      <td>c-class</td>\n",
       "      <td>0.0</td>\n",
       "      <td>1950.0</td>\n",
       "      <td>194.0</td>\n",
       "    </tr>\n",
       "    <tr>\n",
       "      <th>5943</th>\n",
       "      <td>Mahindra Jeep MM 540 DP</td>\n",
       "      <td>Chennai</td>\n",
       "      <td>2002</td>\n",
       "      <td>75000</td>\n",
       "      <td>Diesel</td>\n",
       "      <td>Manual</td>\n",
       "      <td>First</td>\n",
       "      <td>0.0 kmpl</td>\n",
       "      <td>2112 CC</td>\n",
       "      <td>null bhp</td>\n",
       "      <td>6.0</td>\n",
       "      <td>NaN</td>\n",
       "      <td>1.70</td>\n",
       "      <td>18</td>\n",
       "      <td>mahindra</td>\n",
       "      <td>jeep</td>\n",
       "      <td>0.0</td>\n",
       "      <td>2112.0</td>\n",
       "      <td>NaN</td>\n",
       "    </tr>\n",
       "    <tr>\n",
       "      <th>5972</th>\n",
       "      <td>Hyundai Santro Xing GL</td>\n",
       "      <td>Mumbai</td>\n",
       "      <td>2008</td>\n",
       "      <td>65000</td>\n",
       "      <td>Petrol</td>\n",
       "      <td>Manual</td>\n",
       "      <td>Second</td>\n",
       "      <td>0.0 kmpl</td>\n",
       "      <td>1086 CC</td>\n",
       "      <td>62 bhp</td>\n",
       "      <td>5.0</td>\n",
       "      <td>NaN</td>\n",
       "      <td>1.39</td>\n",
       "      <td>12</td>\n",
       "      <td>hyundai</td>\n",
       "      <td>santro</td>\n",
       "      <td>0.0</td>\n",
       "      <td>1086.0</td>\n",
       "      <td>62.0</td>\n",
       "    </tr>\n",
       "    <tr>\n",
       "      <th>6011</th>\n",
       "      <td>Skoda Superb 3.6 V6 FSI</td>\n",
       "      <td>Hyderabad</td>\n",
       "      <td>2009</td>\n",
       "      <td>53000</td>\n",
       "      <td>Petrol</td>\n",
       "      <td>Automatic</td>\n",
       "      <td>First</td>\n",
       "      <td>0.0 kmpl</td>\n",
       "      <td>3597 CC</td>\n",
       "      <td>262.6 bhp</td>\n",
       "      <td>5.0</td>\n",
       "      <td>NaN</td>\n",
       "      <td>4.75</td>\n",
       "      <td>11</td>\n",
       "      <td>skoda</td>\n",
       "      <td>superb</td>\n",
       "      <td>0.0</td>\n",
       "      <td>3597.0</td>\n",
       "      <td>262.6</td>\n",
       "    </tr>\n",
       "  </tbody>\n",
       "</table>\n",
       "<p>68 rows × 19 columns</p>\n",
       "</div>"
      ],
      "text/plain": [
       "                                          Name    Location  Year  \\\n",
       "14              Land Rover Freelander 2 TD4 SE        Pune  2012   \n",
       "67    Mercedes-Benz C-Class Progressive C 220d  Coimbatore  2019   \n",
       "79                      Hyundai Santro Xing XL   Hyderabad  2005   \n",
       "194                         Honda City 1.5 GXI   Ahmedabad  2007   \n",
       "229                           Ford Figo Diesel   Bangalore  2015   \n",
       "...                                        ...         ...   ...   \n",
       "5647                    Toyota Qualis Fleet A3      Mumbai  2001   \n",
       "5875  Mercedes-Benz C-Class Progressive C 220d   Ahmedabad  2019   \n",
       "5943                   Mahindra Jeep MM 540 DP     Chennai  2002   \n",
       "5972                    Hyundai Santro Xing GL      Mumbai  2008   \n",
       "6011                   Skoda Superb 3.6 V6 FSI   Hyderabad  2009   \n",
       "\n",
       "      Kilometers_Driven Fuel_Type Transmission      Owner_Type   Mileage  \\\n",
       "14                85000    Diesel    Automatic          Second  0.0 kmpl   \n",
       "67                15369    Diesel    Automatic           First  0.0 kmpl   \n",
       "79                87591    Petrol       Manual           First  0.0 kmpl   \n",
       "194               60006    Petrol       Manual           First  0.0 kmpl   \n",
       "229               70436    Diesel       Manual           First  0.0 kmpl   \n",
       "...                 ...       ...          ...             ...       ...   \n",
       "5647             227000    Diesel       Manual  Fourth & Above  0.0 kmpl   \n",
       "5875               4000    Diesel    Automatic           First  0.0 kmpl   \n",
       "5943              75000    Diesel       Manual           First  0.0 kmpl   \n",
       "5972              65000    Petrol       Manual          Second  0.0 kmpl   \n",
       "6011              53000    Petrol    Automatic           First  0.0 kmpl   \n",
       "\n",
       "       Engine      Power  Seats   New_Price  Price  age           make  \\\n",
       "14    2179 CC    115 bhp    5.0         NaN  17.50    8           land   \n",
       "67    1950 CC    194 bhp    5.0  49.14 Lakh  35.67    1  mercedes-benz   \n",
       "79    1086 CC   null bhp    5.0         NaN   1.30   15        hyundai   \n",
       "194       NaN        NaN    NaN         NaN   2.95   13          honda   \n",
       "229   1498 CC     99 bhp    NaN         NaN   3.60    5           ford   \n",
       "...       ...        ...    ...         ...    ...  ...            ...   \n",
       "5647  2446 CC   null bhp    8.0         NaN   2.20   19         toyota   \n",
       "5875  1950 CC    194 bhp    5.0  49.14 Lakh  35.00    1  mercedes-benz   \n",
       "5943  2112 CC   null bhp    6.0         NaN   1.70   18       mahindra   \n",
       "5972  1086 CC     62 bhp    5.0         NaN   1.39   12        hyundai   \n",
       "6011  3597 CC  262.6 bhp    5.0         NaN   4.75   11          skoda   \n",
       "\n",
       "        model  mileage_new  engine_new  power_new  \n",
       "14      rover          0.0      2179.0      115.0  \n",
       "67    c-class          0.0      1950.0      194.0  \n",
       "79     santro          0.0      1086.0        NaN  \n",
       "194      city          0.0         NaN        NaN  \n",
       "229      figo          0.0      1498.0       99.0  \n",
       "...       ...          ...         ...        ...  \n",
       "5647   qualis          0.0      2446.0        NaN  \n",
       "5875  c-class          0.0      1950.0      194.0  \n",
       "5943     jeep          0.0      2112.0        NaN  \n",
       "5972   santro          0.0      1086.0       62.0  \n",
       "6011   superb          0.0      3597.0      262.6  \n",
       "\n",
       "[68 rows x 19 columns]"
      ]
     },
     "execution_count": 65,
     "metadata": {},
     "output_type": "execute_result"
    }
   ],
   "source": [
    "cars_df[cars_df.mileage_new == 0]"
   ]
  },
  {
   "cell_type": "markdown",
   "metadata": {},
   "source": [
    "#### Note:\n",
    "\n",
    "We will need to remove these cars from the analysis as they are incomplete or wrong samples."
   ]
  },
  {
   "cell_type": "code",
   "execution_count": 66,
   "metadata": {},
   "outputs": [
    {
     "data": {
      "text/html": [
       "<div>\n",
       "<style scoped>\n",
       "    .dataframe tbody tr th:only-of-type {\n",
       "        vertical-align: middle;\n",
       "    }\n",
       "\n",
       "    .dataframe tbody tr th {\n",
       "        vertical-align: top;\n",
       "    }\n",
       "\n",
       "    .dataframe thead th {\n",
       "        text-align: right;\n",
       "    }\n",
       "</style>\n",
       "<table border=\"1\" class=\"dataframe\">\n",
       "  <thead>\n",
       "    <tr style=\"text-align: right;\">\n",
       "      <th></th>\n",
       "      <th>Name</th>\n",
       "      <th>Location</th>\n",
       "      <th>Year</th>\n",
       "      <th>Kilometers_Driven</th>\n",
       "      <th>Fuel_Type</th>\n",
       "      <th>Transmission</th>\n",
       "      <th>Owner_Type</th>\n",
       "      <th>Mileage</th>\n",
       "      <th>Engine</th>\n",
       "      <th>Power</th>\n",
       "      <th>Seats</th>\n",
       "      <th>New_Price</th>\n",
       "      <th>Price</th>\n",
       "      <th>age</th>\n",
       "      <th>make</th>\n",
       "      <th>model</th>\n",
       "      <th>mileage_new</th>\n",
       "      <th>engine_new</th>\n",
       "      <th>power_new</th>\n",
       "    </tr>\n",
       "  </thead>\n",
       "  <tbody>\n",
       "  </tbody>\n",
       "</table>\n",
       "</div>"
      ],
      "text/plain": [
       "Empty DataFrame\n",
       "Columns: [Name, Location, Year, Kilometers_Driven, Fuel_Type, Transmission, Owner_Type, Mileage, Engine, Power, Seats, New_Price, Price, age, make, model, mileage_new, engine_new, power_new]\n",
       "Index: []"
      ]
     },
     "execution_count": 66,
     "metadata": {},
     "output_type": "execute_result"
    }
   ],
   "source": [
    "cars_df[(cars_df.engine_new == 0) | (cars_df.engine_new == 0)]"
   ]
  },
  {
   "cell_type": "markdown",
   "metadata": {},
   "source": [
    "### Finding corrleation between multiple variables (numerical)"
   ]
  },
  {
   "cell_type": "code",
   "execution_count": 67,
   "metadata": {},
   "outputs": [],
   "source": [
    "corr_mat = cars_df[['Price', 'mileage_new', 'engine_new', 'power_new', 'Kilometers_Driven']].corr()"
   ]
  },
  {
   "cell_type": "code",
   "execution_count": 68,
   "metadata": {},
   "outputs": [
    {
     "data": {
      "text/html": [
       "<div>\n",
       "<style scoped>\n",
       "    .dataframe tbody tr th:only-of-type {\n",
       "        vertical-align: middle;\n",
       "    }\n",
       "\n",
       "    .dataframe tbody tr th {\n",
       "        vertical-align: top;\n",
       "    }\n",
       "\n",
       "    .dataframe thead th {\n",
       "        text-align: right;\n",
       "    }\n",
       "</style>\n",
       "<table border=\"1\" class=\"dataframe\">\n",
       "  <thead>\n",
       "    <tr style=\"text-align: right;\">\n",
       "      <th></th>\n",
       "      <th>Price</th>\n",
       "      <th>mileage_new</th>\n",
       "      <th>engine_new</th>\n",
       "      <th>power_new</th>\n",
       "      <th>Kilometers_Driven</th>\n",
       "    </tr>\n",
       "  </thead>\n",
       "  <tbody>\n",
       "    <tr>\n",
       "      <th>Price</th>\n",
       "      <td>1.000000</td>\n",
       "      <td>-0.306593</td>\n",
       "      <td>0.658354</td>\n",
       "      <td>0.772566</td>\n",
       "      <td>-0.011493</td>\n",
       "    </tr>\n",
       "    <tr>\n",
       "      <th>mileage_new</th>\n",
       "      <td>-0.306593</td>\n",
       "      <td>1.000000</td>\n",
       "      <td>-0.597699</td>\n",
       "      <td>-0.537729</td>\n",
       "      <td>-0.065253</td>\n",
       "    </tr>\n",
       "    <tr>\n",
       "      <th>engine_new</th>\n",
       "      <td>0.658354</td>\n",
       "      <td>-0.597699</td>\n",
       "      <td>1.000000</td>\n",
       "      <td>0.866185</td>\n",
       "      <td>0.091068</td>\n",
       "    </tr>\n",
       "    <tr>\n",
       "      <th>power_new</th>\n",
       "      <td>0.772566</td>\n",
       "      <td>-0.537729</td>\n",
       "      <td>0.866185</td>\n",
       "      <td>1.000000</td>\n",
       "      <td>0.033503</td>\n",
       "    </tr>\n",
       "    <tr>\n",
       "      <th>Kilometers_Driven</th>\n",
       "      <td>-0.011493</td>\n",
       "      <td>-0.065253</td>\n",
       "      <td>0.091068</td>\n",
       "      <td>0.033503</td>\n",
       "      <td>1.000000</td>\n",
       "    </tr>\n",
       "  </tbody>\n",
       "</table>\n",
       "</div>"
      ],
      "text/plain": [
       "                      Price  mileage_new  engine_new  power_new  \\\n",
       "Price              1.000000    -0.306593    0.658354   0.772566   \n",
       "mileage_new       -0.306593     1.000000   -0.597699  -0.537729   \n",
       "engine_new         0.658354    -0.597699    1.000000   0.866185   \n",
       "power_new          0.772566    -0.537729    0.866185   1.000000   \n",
       "Kilometers_Driven -0.011493    -0.065253    0.091068   0.033503   \n",
       "\n",
       "                   Kilometers_Driven  \n",
       "Price                      -0.011493  \n",
       "mileage_new                -0.065253  \n",
       "engine_new                  0.091068  \n",
       "power_new                   0.033503  \n",
       "Kilometers_Driven           1.000000  "
      ]
     },
     "execution_count": 68,
     "metadata": {},
     "output_type": "execute_result"
    }
   ],
   "source": [
    "corr_mat"
   ]
  },
  {
   "cell_type": "code",
   "execution_count": 69,
   "metadata": {},
   "outputs": [
    {
     "data": {
      "image/png": "[encoded data removed]",
      "text/plain": [
       "<Figure size 432x288 with 2 Axes>"
      ]
     },
     "metadata": {
      "needs_background": "light"
     },
     "output_type": "display_data"
    }
   ],
   "source": [
    "sn.heatmap(corr_mat,\n",
    "           annot=True,\n",
    "           cmap = sn.diverging_palette(240, 10));"
   ]
  },
  {
   "cell_type": "markdown",
   "metadata": {},
   "source": [
    "#### Inferences\n",
    "\n",
    "- Price, Kilometers_Driven are negative correlated to price\n",
    "- engine capacity and power are positively correlatd to price"
   ]
  },
  {
   "cell_type": "markdown",
   "metadata": {},
   "source": [
    "### How Kilometers Driven is effecting price of the used cars?"
   ]
  },
  {
   "cell_type": "code",
   "execution_count": 70,
   "metadata": {},
   "outputs": [
    {
     "data": {
      "image/png": "[encoded data removed]",
      "text/plain": [
       "<Figure size 360x360 with 1 Axes>"
      ]
     },
     "metadata": {
      "needs_background": "light"
     },
     "output_type": "display_data"
    }
   ],
   "source": [
    "sn.lmplot(data = cars_df,\n",
    "          x = 'Kilometers_Driven',\n",
    "          y = 'Price');"
   ]
  },
  {
   "cell_type": "markdown",
   "metadata": {},
   "source": [
    "### Remove outliers from the data"
   ]
  },
  {
   "cell_type": "code",
   "execution_count": 71,
   "metadata": {},
   "outputs": [
    {
     "data": {
      "text/html": [
       "<div>\n",
       "<style scoped>\n",
       "    .dataframe tbody tr th:only-of-type {\n",
       "        vertical-align: middle;\n",
       "    }\n",
       "\n",
       "    .dataframe tbody tr th {\n",
       "        vertical-align: top;\n",
       "    }\n",
       "\n",
       "    .dataframe thead th {\n",
       "        text-align: right;\n",
       "    }\n",
       "</style>\n",
       "<table border=\"1\" class=\"dataframe\">\n",
       "  <thead>\n",
       "    <tr style=\"text-align: right;\">\n",
       "      <th></th>\n",
       "      <th>Name</th>\n",
       "      <th>Location</th>\n",
       "      <th>Year</th>\n",
       "      <th>Kilometers_Driven</th>\n",
       "      <th>Fuel_Type</th>\n",
       "      <th>Transmission</th>\n",
       "      <th>Owner_Type</th>\n",
       "      <th>Mileage</th>\n",
       "      <th>Engine</th>\n",
       "      <th>Power</th>\n",
       "      <th>Seats</th>\n",
       "      <th>New_Price</th>\n",
       "      <th>Price</th>\n",
       "      <th>age</th>\n",
       "      <th>make</th>\n",
       "      <th>model</th>\n",
       "      <th>mileage_new</th>\n",
       "      <th>engine_new</th>\n",
       "      <th>power_new</th>\n",
       "    </tr>\n",
       "  </thead>\n",
       "  <tbody>\n",
       "    <tr>\n",
       "      <th>0</th>\n",
       "      <td>Maruti Wagon R LXI CNG</td>\n",
       "      <td>Mumbai</td>\n",
       "      <td>2010</td>\n",
       "      <td>72000</td>\n",
       "      <td>CNG</td>\n",
       "      <td>Manual</td>\n",
       "      <td>First</td>\n",
       "      <td>26.6 km/kg</td>\n",
       "      <td>998 CC</td>\n",
       "      <td>58.16 bhp</td>\n",
       "      <td>5.0</td>\n",
       "      <td>NaN</td>\n",
       "      <td>1.75</td>\n",
       "      <td>10</td>\n",
       "      <td>maruti</td>\n",
       "      <td>wagon</td>\n",
       "      <td>26.60</td>\n",
       "      <td>998.0</td>\n",
       "      <td>58.16</td>\n",
       "    </tr>\n",
       "    <tr>\n",
       "      <th>1</th>\n",
       "      <td>Hyundai Creta 1.6 CRDi SX Option</td>\n",
       "      <td>Pune</td>\n",
       "      <td>2015</td>\n",
       "      <td>41000</td>\n",
       "      <td>Diesel</td>\n",
       "      <td>Manual</td>\n",
       "      <td>First</td>\n",
       "      <td>19.67 kmpl</td>\n",
       "      <td>1582 CC</td>\n",
       "      <td>126.2 bhp</td>\n",
       "      <td>5.0</td>\n",
       "      <td>NaN</td>\n",
       "      <td>12.50</td>\n",
       "      <td>5</td>\n",
       "      <td>hyundai</td>\n",
       "      <td>creta</td>\n",
       "      <td>19.67</td>\n",
       "      <td>1582.0</td>\n",
       "      <td>126.20</td>\n",
       "    </tr>\n",
       "    <tr>\n",
       "      <th>2</th>\n",
       "      <td>Honda Jazz V</td>\n",
       "      <td>Chennai</td>\n",
       "      <td>2011</td>\n",
       "      <td>46000</td>\n",
       "      <td>Petrol</td>\n",
       "      <td>Manual</td>\n",
       "      <td>First</td>\n",
       "      <td>18.2 kmpl</td>\n",
       "      <td>1199 CC</td>\n",
       "      <td>88.7 bhp</td>\n",
       "      <td>5.0</td>\n",
       "      <td>8.61 Lakh</td>\n",
       "      <td>4.50</td>\n",
       "      <td>9</td>\n",
       "      <td>honda</td>\n",
       "      <td>jazz</td>\n",
       "      <td>18.20</td>\n",
       "      <td>1199.0</td>\n",
       "      <td>88.70</td>\n",
       "    </tr>\n",
       "    <tr>\n",
       "      <th>3</th>\n",
       "      <td>Maruti Ertiga VDI</td>\n",
       "      <td>Chennai</td>\n",
       "      <td>2012</td>\n",
       "      <td>87000</td>\n",
       "      <td>Diesel</td>\n",
       "      <td>Manual</td>\n",
       "      <td>First</td>\n",
       "      <td>20.77 kmpl</td>\n",
       "      <td>1248 CC</td>\n",
       "      <td>88.76 bhp</td>\n",
       "      <td>7.0</td>\n",
       "      <td>NaN</td>\n",
       "      <td>6.00</td>\n",
       "      <td>8</td>\n",
       "      <td>maruti</td>\n",
       "      <td>ertiga</td>\n",
       "      <td>20.77</td>\n",
       "      <td>1248.0</td>\n",
       "      <td>88.76</td>\n",
       "    </tr>\n",
       "    <tr>\n",
       "      <th>4</th>\n",
       "      <td>Audi A4 New 2.0 TDI Multitronic</td>\n",
       "      <td>Coimbatore</td>\n",
       "      <td>2013</td>\n",
       "      <td>40670</td>\n",
       "      <td>Diesel</td>\n",
       "      <td>Automatic</td>\n",
       "      <td>Second</td>\n",
       "      <td>15.2 kmpl</td>\n",
       "      <td>1968 CC</td>\n",
       "      <td>140.8 bhp</td>\n",
       "      <td>5.0</td>\n",
       "      <td>NaN</td>\n",
       "      <td>17.74</td>\n",
       "      <td>7</td>\n",
       "      <td>audi</td>\n",
       "      <td>a4</td>\n",
       "      <td>15.20</td>\n",
       "      <td>1968.0</td>\n",
       "      <td>140.80</td>\n",
       "    </tr>\n",
       "    <tr>\n",
       "      <th>...</th>\n",
       "      <td>...</td>\n",
       "      <td>...</td>\n",
       "      <td>...</td>\n",
       "      <td>...</td>\n",
       "      <td>...</td>\n",
       "      <td>...</td>\n",
       "      <td>...</td>\n",
       "      <td>...</td>\n",
       "      <td>...</td>\n",
       "      <td>...</td>\n",
       "      <td>...</td>\n",
       "      <td>...</td>\n",
       "      <td>...</td>\n",
       "      <td>...</td>\n",
       "      <td>...</td>\n",
       "      <td>...</td>\n",
       "      <td>...</td>\n",
       "      <td>...</td>\n",
       "      <td>...</td>\n",
       "    </tr>\n",
       "    <tr>\n",
       "      <th>6014</th>\n",
       "      <td>Maruti Swift VDI</td>\n",
       "      <td>Delhi</td>\n",
       "      <td>2014</td>\n",
       "      <td>27365</td>\n",
       "      <td>Diesel</td>\n",
       "      <td>Manual</td>\n",
       "      <td>First</td>\n",
       "      <td>28.4 kmpl</td>\n",
       "      <td>1248 CC</td>\n",
       "      <td>74 bhp</td>\n",
       "      <td>5.0</td>\n",
       "      <td>7.88 Lakh</td>\n",
       "      <td>4.75</td>\n",
       "      <td>6</td>\n",
       "      <td>maruti</td>\n",
       "      <td>swift</td>\n",
       "      <td>28.40</td>\n",
       "      <td>1248.0</td>\n",
       "      <td>74.00</td>\n",
       "    </tr>\n",
       "    <tr>\n",
       "      <th>6015</th>\n",
       "      <td>Hyundai Xcent 1.1 CRDi S</td>\n",
       "      <td>Jaipur</td>\n",
       "      <td>2015</td>\n",
       "      <td>100000</td>\n",
       "      <td>Diesel</td>\n",
       "      <td>Manual</td>\n",
       "      <td>First</td>\n",
       "      <td>24.4 kmpl</td>\n",
       "      <td>1120 CC</td>\n",
       "      <td>71 bhp</td>\n",
       "      <td>5.0</td>\n",
       "      <td>NaN</td>\n",
       "      <td>4.00</td>\n",
       "      <td>5</td>\n",
       "      <td>hyundai</td>\n",
       "      <td>xcent</td>\n",
       "      <td>24.40</td>\n",
       "      <td>1120.0</td>\n",
       "      <td>71.00</td>\n",
       "    </tr>\n",
       "    <tr>\n",
       "      <th>6016</th>\n",
       "      <td>Mahindra Xylo D4 BSIV</td>\n",
       "      <td>Jaipur</td>\n",
       "      <td>2012</td>\n",
       "      <td>55000</td>\n",
       "      <td>Diesel</td>\n",
       "      <td>Manual</td>\n",
       "      <td>Second</td>\n",
       "      <td>14.0 kmpl</td>\n",
       "      <td>2498 CC</td>\n",
       "      <td>112 bhp</td>\n",
       "      <td>8.0</td>\n",
       "      <td>NaN</td>\n",
       "      <td>2.90</td>\n",
       "      <td>8</td>\n",
       "      <td>mahindra</td>\n",
       "      <td>xylo</td>\n",
       "      <td>14.00</td>\n",
       "      <td>2498.0</td>\n",
       "      <td>112.00</td>\n",
       "    </tr>\n",
       "    <tr>\n",
       "      <th>6017</th>\n",
       "      <td>Maruti Wagon R VXI</td>\n",
       "      <td>Kolkata</td>\n",
       "      <td>2013</td>\n",
       "      <td>46000</td>\n",
       "      <td>Petrol</td>\n",
       "      <td>Manual</td>\n",
       "      <td>First</td>\n",
       "      <td>18.9 kmpl</td>\n",
       "      <td>998 CC</td>\n",
       "      <td>67.1 bhp</td>\n",
       "      <td>5.0</td>\n",
       "      <td>NaN</td>\n",
       "      <td>2.65</td>\n",
       "      <td>7</td>\n",
       "      <td>maruti</td>\n",
       "      <td>wagon</td>\n",
       "      <td>18.90</td>\n",
       "      <td>998.0</td>\n",
       "      <td>67.10</td>\n",
       "    </tr>\n",
       "    <tr>\n",
       "      <th>6018</th>\n",
       "      <td>Chevrolet Beat Diesel</td>\n",
       "      <td>Hyderabad</td>\n",
       "      <td>2011</td>\n",
       "      <td>47000</td>\n",
       "      <td>Diesel</td>\n",
       "      <td>Manual</td>\n",
       "      <td>First</td>\n",
       "      <td>25.44 kmpl</td>\n",
       "      <td>936 CC</td>\n",
       "      <td>57.6 bhp</td>\n",
       "      <td>5.0</td>\n",
       "      <td>NaN</td>\n",
       "      <td>2.50</td>\n",
       "      <td>9</td>\n",
       "      <td>chevrolet</td>\n",
       "      <td>beat</td>\n",
       "      <td>25.44</td>\n",
       "      <td>936.0</td>\n",
       "      <td>57.60</td>\n",
       "    </tr>\n",
       "  </tbody>\n",
       "</table>\n",
       "<p>6019 rows × 19 columns</p>\n",
       "</div>"
      ],
      "text/plain": [
       "                                  Name    Location  Year  Kilometers_Driven  \\\n",
       "0               Maruti Wagon R LXI CNG      Mumbai  2010              72000   \n",
       "1     Hyundai Creta 1.6 CRDi SX Option        Pune  2015              41000   \n",
       "2                         Honda Jazz V     Chennai  2011              46000   \n",
       "3                    Maruti Ertiga VDI     Chennai  2012              87000   \n",
       "4      Audi A4 New 2.0 TDI Multitronic  Coimbatore  2013              40670   \n",
       "...                                ...         ...   ...                ...   \n",
       "6014                  Maruti Swift VDI       Delhi  2014              27365   \n",
       "6015          Hyundai Xcent 1.1 CRDi S      Jaipur  2015             100000   \n",
       "6016             Mahindra Xylo D4 BSIV      Jaipur  2012              55000   \n",
       "6017                Maruti Wagon R VXI     Kolkata  2013              46000   \n",
       "6018             Chevrolet Beat Diesel   Hyderabad  2011              47000   \n",
       "\n",
       "     Fuel_Type Transmission Owner_Type     Mileage   Engine      Power  Seats  \\\n",
       "0          CNG       Manual      First  26.6 km/kg   998 CC  58.16 bhp    5.0   \n",
       "1       Diesel       Manual      First  19.67 kmpl  1582 CC  126.2 bhp    5.0   \n",
       "2       Petrol       Manual      First   18.2 kmpl  1199 CC   88.7 bhp    5.0   \n",
       "3       Diesel       Manual      First  20.77 kmpl  1248 CC  88.76 bhp    7.0   \n",
       "4       Diesel    Automatic     Second   15.2 kmpl  1968 CC  140.8 bhp    5.0   \n",
       "...        ...          ...        ...         ...      ...        ...    ...   \n",
       "6014    Diesel       Manual      First   28.4 kmpl  1248 CC     74 bhp    5.0   \n",
       "6015    Diesel       Manual      First   24.4 kmpl  1120 CC     71 bhp    5.0   \n",
       "6016    Diesel       Manual     Second   14.0 kmpl  2498 CC    112 bhp    8.0   \n",
       "6017    Petrol       Manual      First   18.9 kmpl   998 CC   67.1 bhp    5.0   \n",
       "6018    Diesel       Manual      First  25.44 kmpl   936 CC   57.6 bhp    5.0   \n",
       "\n",
       "      New_Price  Price  age       make   model  mileage_new  engine_new  \\\n",
       "0           NaN   1.75   10     maruti   wagon        26.60       998.0   \n",
       "1           NaN  12.50    5    hyundai   creta        19.67      1582.0   \n",
       "2     8.61 Lakh   4.50    9      honda    jazz        18.20      1199.0   \n",
       "3           NaN   6.00    8     maruti  ertiga        20.77      1248.0   \n",
       "4           NaN  17.74    7       audi      a4        15.20      1968.0   \n",
       "...         ...    ...  ...        ...     ...          ...         ...   \n",
       "6014  7.88 Lakh   4.75    6     maruti   swift        28.40      1248.0   \n",
       "6015        NaN   4.00    5    hyundai   xcent        24.40      1120.0   \n",
       "6016        NaN   2.90    8   mahindra    xylo        14.00      2498.0   \n",
       "6017        NaN   2.65    7     maruti   wagon        18.90       998.0   \n",
       "6018        NaN   2.50    9  chevrolet    beat        25.44       936.0   \n",
       "\n",
       "      power_new  \n",
       "0         58.16  \n",
       "1        126.20  \n",
       "2         88.70  \n",
       "3         88.76  \n",
       "4        140.80  \n",
       "...         ...  \n",
       "6014      74.00  \n",
       "6015      71.00  \n",
       "6016     112.00  \n",
       "6017      67.10  \n",
       "6018      57.60  \n",
       "\n",
       "[6019 rows x 19 columns]"
      ]
     },
     "execution_count": 71,
     "metadata": {},
     "output_type": "execute_result"
    }
   ],
   "source": [
    "cars_df"
   ]
  },
  {
   "cell_type": "code",
   "execution_count": 72,
   "metadata": {},
   "outputs": [
    {
     "data": {
      "text/plain": [
       "34000.0"
      ]
     },
     "execution_count": 72,
     "metadata": {},
     "output_type": "execute_result"
    }
   ],
   "source": [
    "cars_df.Kilometers_Driven.quantile(0.25)"
   ]
  },
  {
   "cell_type": "code",
   "execution_count": 73,
   "metadata": {},
   "outputs": [
    {
     "data": {
      "text/plain": [
       "73000.0"
      ]
     },
     "execution_count": 73,
     "metadata": {},
     "output_type": "execute_result"
    }
   ],
   "source": [
    "cars_df.Kilometers_Driven.quantile(0.75)"
   ]
  },
  {
   "cell_type": "code",
   "execution_count": 74,
   "metadata": {},
   "outputs": [],
   "source": [
    "def min_max_range(vals):\n",
    "    iqr = vals.quantile(0.75) - vals.quantile(0.25)\n",
    "    min_val = vals.quantile(0.25) - 1.5 * iqr\n",
    "    max_val = vals.quantile(0.75) + 1.5 * iqr\n",
    "    \n",
    "    return min_val, max_val"
   ]
  },
  {
   "cell_type": "code",
   "execution_count": 75,
   "metadata": {},
   "outputs": [],
   "source": [
    "min_km, max_km = min_max_range(cars_df.Kilometers_Driven)"
   ]
  },
  {
   "cell_type": "code",
   "execution_count": 76,
   "metadata": {},
   "outputs": [
    {
     "data": {
      "text/plain": [
       "(-24500.0, 131500.0)"
      ]
     },
     "execution_count": 76,
     "metadata": {},
     "output_type": "execute_result"
    }
   ],
   "source": [
    "min_km, max_km"
   ]
  },
  {
   "cell_type": "code",
   "execution_count": 77,
   "metadata": {},
   "outputs": [],
   "source": [
    "min_price, max_price = min_max_range(cars_df.Price)"
   ]
  },
  {
   "cell_type": "code",
   "execution_count": 78,
   "metadata": {},
   "outputs": [
    {
     "data": {
      "text/plain": [
       "(-6.174999999999999, 19.625)"
      ]
     },
     "execution_count": 78,
     "metadata": {},
     "output_type": "execute_result"
    }
   ],
   "source": [
    "min_price, max_price"
   ]
  },
  {
   "cell_type": "code",
   "execution_count": 79,
   "metadata": {},
   "outputs": [],
   "source": [
    "new_cars_df = cars_df[(cars_df.Kilometers_Driven <= max_km) &\n",
    "                      (cars_df.Price <= max_price) &\n",
    "                      (cars_df.mileage_new > 0.00)]"
   ]
  },
  {
   "cell_type": "code",
   "execution_count": 80,
   "metadata": {},
   "outputs": [
    {
     "data": {
      "text/plain": [
       "(5052, 19)"
      ]
     },
     "execution_count": 80,
     "metadata": {},
     "output_type": "execute_result"
    }
   ],
   "source": [
    "new_cars_df.shape"
   ]
  },
  {
   "cell_type": "code",
   "execution_count": 81,
   "metadata": {},
   "outputs": [],
   "source": [
    "new_corr_mat = new_cars_df[['Price', \n",
    "                            'mileage_new', \n",
    "                            'engine_new', \n",
    "                            'power_new', \n",
    "                            'Kilometers_Driven']].corr()"
   ]
  },
  {
   "cell_type": "code",
   "execution_count": 82,
   "metadata": {},
   "outputs": [
    {
     "data": {
      "image/png": "[encoded data removed]",
      "text/plain": [
       "<Figure size 432x288 with 2 Axes>"
      ]
     },
     "metadata": {
      "needs_background": "light"
     },
     "output_type": "display_data"
    }
   ],
   "source": [
    "sn.heatmap(new_corr_mat,\n",
    "           annot=True,\n",
    "           cmap = sn.diverging_palette(240, 10));"
   ]
  },
  {
   "cell_type": "code",
   "execution_count": 83,
   "metadata": {},
   "outputs": [
    {
     "data": {
      "image/png": "[encoded data removed]",
      "text/plain": [
       "<Figure size 432x432 with 1 Axes>"
      ]
     },
     "metadata": {
      "needs_background": "light"
     },
     "output_type": "display_data"
    }
   ],
   "source": [
    "sn.lmplot(data = new_cars_df,\n",
    "          x = 'Kilometers_Driven',\n",
    "          y = 'Price',\n",
    "          height=6);"
   ]
  },
  {
   "cell_type": "code",
   "execution_count": 84,
   "metadata": {},
   "outputs": [
    {
     "data": {
      "text/plain": [
       "Index(['Name', 'Location', 'Year', 'Kilometers_Driven', 'Fuel_Type',\n",
       "       'Transmission', 'Owner_Type', 'Mileage', 'Engine', 'Power', 'Seats',\n",
       "       'New_Price', 'Price', 'age', 'make', 'model', 'mileage_new',\n",
       "       'engine_new', 'power_new'],\n",
       "      dtype='object')"
      ]
     },
     "execution_count": 84,
     "metadata": {},
     "output_type": "execute_result"
    }
   ],
   "source": [
    "new_cars_df.columns"
   ]
  },
  {
   "cell_type": "code",
   "execution_count": 85,
   "metadata": {},
   "outputs": [
    {
     "data": {
      "image/png": "[encoded data removed]",
      "text/plain": [
       "<Figure size 499x432 with 1 Axes>"
      ]
     },
     "metadata": {
      "needs_background": "light"
     },
     "output_type": "display_data"
    }
   ],
   "source": [
    "sn.lmplot(data = new_cars_df,\n",
    "          x = 'Kilometers_Driven',\n",
    "          y = 'Price',\n",
    "          hue = 'Fuel_Type',                  \n",
    "          height=6);"
   ]
  },
  {
   "cell_type": "markdown",
   "metadata": {},
   "source": [
    "### Location Vs. Transmission or Fuel Type"
   ]
  },
  {
   "cell_type": "code",
   "execution_count": 86,
   "metadata": {},
   "outputs": [
    {
     "data": {
      "image/png": "[encoded data removed]",
      "text/plain": [
       "<Figure size 1080x432 with 1 Axes>"
      ]
     },
     "metadata": {
      "needs_background": "light"
     },
     "output_type": "display_data"
    }
   ],
   "source": [
    "plt.figure(figsize=(15, 6))\n",
    "sn.countplot( data = new_cars_df,\n",
    "              x = 'Location',\n",
    "              hue = 'Transmission');\n",
    "plt.savefig(\"location.png\")"
   ]
  },
  {
   "cell_type": "code",
   "execution_count": 87,
   "metadata": {},
   "outputs": [
    {
     "data": {
      "text/html": [
       "<div>\n",
       "<style scoped>\n",
       "    .dataframe tbody tr th:only-of-type {\n",
       "        vertical-align: middle;\n",
       "    }\n",
       "\n",
       "    .dataframe tbody tr th {\n",
       "        vertical-align: top;\n",
       "    }\n",
       "\n",
       "    .dataframe thead th {\n",
       "        text-align: right;\n",
       "    }\n",
       "</style>\n",
       "<table border=\"1\" class=\"dataframe\">\n",
       "  <thead>\n",
       "    <tr style=\"text-align: right;\">\n",
       "      <th>Transmission</th>\n",
       "      <th>Automatic</th>\n",
       "      <th>Manual</th>\n",
       "    </tr>\n",
       "    <tr>\n",
       "      <th>Location</th>\n",
       "      <th></th>\n",
       "      <th></th>\n",
       "    </tr>\n",
       "  </thead>\n",
       "  <tbody>\n",
       "    <tr>\n",
       "      <th>Ahmedabad</th>\n",
       "      <td>19.607843</td>\n",
       "      <td>80.392157</td>\n",
       "    </tr>\n",
       "    <tr>\n",
       "      <th>Bangalore</th>\n",
       "      <td>23.643411</td>\n",
       "      <td>76.356589</td>\n",
       "    </tr>\n",
       "    <tr>\n",
       "      <th>Chennai</th>\n",
       "      <td>19.143577</td>\n",
       "      <td>80.856423</td>\n",
       "    </tr>\n",
       "    <tr>\n",
       "      <th>Coimbatore</th>\n",
       "      <td>20.886076</td>\n",
       "      <td>79.113924</td>\n",
       "    </tr>\n",
       "    <tr>\n",
       "      <th>Delhi</th>\n",
       "      <td>21.829522</td>\n",
       "      <td>78.170478</td>\n",
       "    </tr>\n",
       "    <tr>\n",
       "      <th>Hyderabad</th>\n",
       "      <td>16.722973</td>\n",
       "      <td>83.277027</td>\n",
       "    </tr>\n",
       "    <tr>\n",
       "      <th>Jaipur</th>\n",
       "      <td>9.536785</td>\n",
       "      <td>90.463215</td>\n",
       "    </tr>\n",
       "    <tr>\n",
       "      <th>Kochi</th>\n",
       "      <td>19.852941</td>\n",
       "      <td>80.147059</td>\n",
       "    </tr>\n",
       "    <tr>\n",
       "      <th>Kolkata</th>\n",
       "      <td>11.881188</td>\n",
       "      <td>88.118812</td>\n",
       "    </tr>\n",
       "    <tr>\n",
       "      <th>Mumbai</th>\n",
       "      <td>31.457431</td>\n",
       "      <td>68.542569</td>\n",
       "    </tr>\n",
       "    <tr>\n",
       "      <th>Pune</th>\n",
       "      <td>19.366853</td>\n",
       "      <td>80.633147</td>\n",
       "    </tr>\n",
       "  </tbody>\n",
       "</table>\n",
       "</div>"
      ],
      "text/plain": [
       "Transmission  Automatic     Manual\n",
       "Location                          \n",
       "Ahmedabad     19.607843  80.392157\n",
       "Bangalore     23.643411  76.356589\n",
       "Chennai       19.143577  80.856423\n",
       "Coimbatore    20.886076  79.113924\n",
       "Delhi         21.829522  78.170478\n",
       "Hyderabad     16.722973  83.277027\n",
       "Jaipur         9.536785  90.463215\n",
       "Kochi         19.852941  80.147059\n",
       "Kolkata       11.881188  88.118812\n",
       "Mumbai        31.457431  68.542569\n",
       "Pune          19.366853  80.633147"
      ]
     },
     "execution_count": 87,
     "metadata": {},
     "output_type": "execute_result"
    }
   ],
   "source": [
    "pd.crosstab(new_cars_df.Location,\n",
    "            new_cars_df.Transmission,\n",
    "            normalize='index') * 100"
   ]
  },
  {
   "cell_type": "code",
   "execution_count": 88,
   "metadata": {},
   "outputs": [
    {
     "data": {
      "image/png": "[encoded data removed]",
      "text/plain": [
       "<Figure size 1080x432 with 1 Axes>"
      ]
     },
     "metadata": {
      "needs_background": "light"
     },
     "output_type": "display_data"
    }
   ],
   "source": [
    "plt.figure(figsize=(15, 6))\n",
    "sn.countplot( data = new_cars_df,\n",
    "              x = 'Location',\n",
    "              hue = 'Fuel_Type');"
   ]
  },
  {
   "cell_type": "markdown",
   "metadata": {},
   "source": [
    "### Does Manual cars have better mileage than Automatic Cars"
   ]
  },
  {
   "cell_type": "code",
   "execution_count": 89,
   "metadata": {},
   "outputs": [
    {
     "name": "stderr",
     "output_type": "stream",
     "text": [
      "/usr/local/anaconda3/lib/python3.8/site-packages/seaborn/distributions.py:2551: FutureWarning: `distplot` is a deprecated function and will be removed in a future version. Please adapt your code to use either `displot` (a figure-level function with similar flexibility) or `histplot` (an axes-level function for histograms).\n",
      "  warnings.warn(msg, FutureWarning)\n",
      "/usr/local/anaconda3/lib/python3.8/site-packages/seaborn/distributions.py:2551: FutureWarning: `distplot` is a deprecated function and will be removed in a future version. Please adapt your code to use either `displot` (a figure-level function with similar flexibility) or `histplot` (an axes-level function for histograms).\n",
      "  warnings.warn(msg, FutureWarning)\n"
     ]
    },
    {
     "data": {
      "image/png": "[encoded data removed]",
      "text/plain": [
       "<Figure size 1080x432 with 1 Axes>"
      ]
     },
     "metadata": {
      "needs_background": "light"
     },
     "output_type": "display_data"
    }
   ],
   "source": [
    "plt.figure(figsize=(15, 6))\n",
    "sn.distplot(new_cars_df[new_cars_df.Transmission == 'Automatic']['mileage_new'], label = 'Automatic')\n",
    "sn.distplot(new_cars_df[new_cars_df.Transmission == 'Manual']['mileage_new'], label = 'Manual')\n",
    "plt.legend();"
   ]
  },
  {
   "cell_type": "markdown",
   "metadata": {},
   "source": [
    "### Saving the dataset (with new features) "
   ]
  },
  {
   "cell_type": "code",
   "execution_count": 90,
   "metadata": {},
   "outputs": [],
   "source": [
    "new_cars_df.to_csv( \"new_used_car.csv\", index = False )"
   ]
  },
  {
   "cell_type": "markdown",
   "metadata": {},
   "source": [
    "### Tasks to be completed by participants at the end of this module.\n",
    "1. How many cars sold for each fuel types (petrol, diesel etc.) in terms of percentage?\n",
    "\n",
    "2. Plot the number of cars sold for each of years of car edition (Year) using count plot.\n",
    "\n",
    "3. Draw histgram to depict the mileage of difference cars.\n",
    "\n",
    "4. Find 95% of the cars sold have power (bhp) in what range. Any outliers in terms of power?\n",
    "\n",
    "5. What is the correlation between New_Price and price. Take only those samples that have New_Price data available.\n",
    "\n",
    "```\n",
    "    Note: Drop the records where new price of the cars are not mentioned using the following:\n",
    "\n",
    "    df1 = cars_df[['New_Price', 'Price']].dropna()\n",
    "``` \n",
    "\n",
    "6. What does the the kilometers driven by top 10 models looks like? (Use box plots across models for comparison)\n",
    "\n",
    "7. What is the corrleation between 'Price', 'mileage_new', 'engine_new', 'power_new', 'Kilometers_Driven' for a only Maruti models?\n",
    "\n",
    "8. Compare the sold price of cars in Mumbai and Kochi for maruti models only using overlapped distribtion plot and make an inference.\n",
    "\n",
    "9. Find out top 5 makes (most number of cars sold) in used cars with sold price less than 5 lakhs.\n",
    "10. Find out any interesting insights of your choice (one or two)."
   ]
  },
  {
   "cell_type": "markdown",
   "metadata": {},
   "source": [
    "### 1. How many cars sold for each fuel types (petrol, diesel etc.) in terms of percentage?"
   ]
  },
  {
   "cell_type": "code",
   "execution_count": 113,
   "metadata": {},
   "outputs": [
    {
     "data": {
      "text/plain": [
       "Diesel      53.248048\n",
       "Petrol      45.622196\n",
       "CNG          0.930387\n",
       "LPG          0.166141\n",
       "Electric     0.033228\n",
       "Name: Fuel_Type, dtype: float64"
      ]
     },
     "execution_count": 113,
     "metadata": {},
     "output_type": "execute_result"
    }
   ],
   "source": [
    "cars_df.Fuel_Type.value_counts(normalize=True)*100"
   ]
  },
  {
   "cell_type": "markdown",
   "metadata": {},
   "source": [
    "2. ### Plot the number of cars sold for each of years of car edition (Year) using count plot."
   ]
  },
  {
   "cell_type": "code",
   "execution_count": 114,
   "metadata": {},
   "outputs": [
    {
     "data": {
      "text/plain": [
       "<AxesSubplot:xlabel='Year', ylabel='count'>"
      ]
     },
     "execution_count": 114,
     "metadata": {},
     "output_type": "execute_result"
    },
    {
     "data": {
      "image/png": "[encoded data removed]",
      "text/plain": [
       "<Figure size 432x288 with 1 Axes>"
      ]
     },
     "metadata": {
      "needs_background": "light"
     },
     "output_type": "display_data"
    }
   ],
   "source": [
    "sn.countplot(data=cars_df,x=\"Year\")"
   ]
  },
  {
   "cell_type": "markdown",
   "metadata": {},
   "source": [
    "### 3. Draw histgram to depict the mileage of difference cars."
   ]
  },
  {
   "cell_type": "code",
   "execution_count": 117,
   "metadata": {},
   "outputs": [
    {
     "data": {
      "text/plain": [
       "(array([6.800e+01, 1.000e+00, 5.300e+01, 7.870e+02, 1.188e+03, 1.992e+03,\n",
       "        1.235e+03, 5.730e+02, 1.060e+02, 1.400e+01]),\n",
       " array([ 0.   ,  3.354,  6.708, 10.062, 13.416, 16.77 , 20.124, 23.478,\n",
       "        26.832, 30.186, 33.54 ]),\n",
       " <BarContainer object of 10 artists>)"
      ]
     },
     "execution_count": 117,
     "metadata": {},
     "output_type": "execute_result"
    },
    {
     "data": {
      "image/png": "[encoded data removed]",
      "text/plain": [
       "<Figure size 432x288 with 1 Axes>"
      ]
     },
     "metadata": {
      "needs_background": "light"
     },
     "output_type": "display_data"
    }
   ],
   "source": [
    "plt.hist(cars_df['mileage_new'])"
   ]
  },
  {
   "cell_type": "markdown",
   "metadata": {},
   "source": [
    " ### 4. Find 95% of the cars sold have power (bhp) in what range. Any outliers in terms of power?"
   ]
  },
  {
   "cell_type": "code",
   "execution_count": 119,
   "metadata": {},
   "outputs": [
    {
     "data": {
      "text/plain": [
       "(7.660073574462629, 218.8460258128739)"
      ]
     },
     "execution_count": 119,
     "metadata": {},
     "output_type": "execute_result"
    }
   ],
   "source": [
    "stats.norm.interval(0.95,cars_df['power_new'].mean(),cars_df['power_new'].std())"
   ]
  },
  {
   "cell_type": "code",
   "execution_count": 138,
   "metadata": {},
   "outputs": [],
   "source": [
    "# power_iqr = stats.iqr(cars_df['power_new']) #Giving nan\n",
    "# min_power = cars_df['power_new'].describe()['25%'] - 1.5 * power_iqr\n",
    "# max_power = cars_df['power_new'].describe()['75%'] + 1.5 * power_iqr\n",
    "min_power, max_power = min_max_range(cars_df.power_new)\n"
   ]
  },
  {
   "cell_type": "code",
   "execution_count": 139,
   "metadata": {},
   "outputs": [],
   "source": [
    "cars_power_df = cars_df[(cars_df.power_new >= min_power) &\n",
    "                        (cars_df.power_new <= max_power) &\n",
    "                        (cars_df.power_new > 0)]\n"
   ]
  },
  {
   "cell_type": "code",
   "execution_count": 145,
   "metadata": {},
   "outputs": [
    {
     "data": {
      "text/plain": [
       "(5638, 19)"
      ]
     },
     "execution_count": 145,
     "metadata": {},
     "output_type": "execute_result"
    }
   ],
   "source": [
    "cars_power_df.shape\n"
   ]
  },
  {
   "cell_type": "code",
   "execution_count": 144,
   "metadata": {},
   "outputs": [
    {
     "data": {
      "text/plain": [
       "(6019, 19)"
      ]
     },
     "execution_count": 144,
     "metadata": {},
     "output_type": "execute_result"
    }
   ],
   "source": [
    "cars_df.shape"
   ]
  },
  {
   "cell_type": "code",
   "execution_count": 190,
   "metadata": {},
   "outputs": [
    {
     "data": {
      "text/plain": [
       "63.099999999999994"
      ]
     },
     "execution_count": 190,
     "metadata": {},
     "output_type": "execute_result"
    }
   ],
   "source": [
    "stats.iqr(cars_df['power_new'].dropna()) #Giving Nan"
   ]
  },
  {
   "cell_type": "code",
   "execution_count": 184,
   "metadata": {},
   "outputs": [
    {
     "data": {
      "text/plain": [
       "6.449999999999999"
      ]
     },
     "execution_count": 184,
     "metadata": {},
     "output_type": "execute_result"
    }
   ],
   "source": [
    "stats.iqr(cars_df['Price'])"
   ]
  },
  {
   "cell_type": "markdown",
   "metadata": {},
   "source": [
    "### 5. What is the correlation between New_Price and price. Take only those samples that have New_Price data available."
   ]
  },
  {
   "cell_type": "code",
   "execution_count": 153,
   "metadata": {},
   "outputs": [],
   "source": [
    "cars_df['price_new'] = cars_df['New_Price'].map(get_float_val)"
   ]
  },
  {
   "cell_type": "code",
   "execution_count": 172,
   "metadata": {},
   "outputs": [],
   "source": [
    "df1 = cars_df[['price_new', 'Price']].dropna()"
   ]
  },
  {
   "cell_type": "code",
   "execution_count": 175,
   "metadata": {},
   "outputs": [
    {
     "data": {
      "text/plain": [
       "(824, 2)"
      ]
     },
     "execution_count": 175,
     "metadata": {},
     "output_type": "execute_result"
    }
   ],
   "source": [
    "df1.shape"
   ]
  },
  {
   "cell_type": "code",
   "execution_count": 173,
   "metadata": {},
   "outputs": [
    {
     "name": "stdout",
     "output_type": "stream",
     "text": [
      "<class 'pandas.core.frame.DataFrame'>\n",
      "Int64Index: 824 entries, 2 to 6014\n",
      "Data columns (total 2 columns):\n",
      " #   Column     Non-Null Count  Dtype  \n",
      "---  ------     --------------  -----  \n",
      " 0   price_new  824 non-null    float64\n",
      " 1   Price      824 non-null    float64\n",
      "dtypes: float64(2)\n",
      "memory usage: 19.3 KB\n"
     ]
    }
   ],
   "source": [
    "df1.info()"
   ]
  },
  {
   "cell_type": "code",
   "execution_count": 174,
   "metadata": {},
   "outputs": [
    {
     "data": {
      "image/png": "[encoded data removed]",
      "text/plain": [
       "<Figure size 360x360 with 1 Axes>"
      ]
     },
     "metadata": {
      "needs_background": "light"
     },
     "output_type": "display_data"
    }
   ],
   "source": [
    "sn.lmplot(data = df1,\n",
    "          x = 'price_new',\n",
    "          y = 'Price');"
   ]
  },
  {
   "cell_type": "markdown",
   "metadata": {},
   "source": [
    "### 6. What does the the kilometers driven by top 10 models looks like? (Use box plots across models for comparison)"
   ]
  },
  {
   "cell_type": "code",
   "execution_count": 183,
   "metadata": {},
   "outputs": [
    {
     "data": {
      "image/png": "[encoded data removed]",
      "text/plain": [
       "<Figure size 432x288 with 1 Axes>"
      ]
     },
     "metadata": {
      "needs_background": "light"
     },
     "output_type": "display_data"
    }
   ],
   "source": [
    "sn.boxplot(data = cars_df[cars_df.model.isin(top_10_models)],\n",
    "             x = 'model',\n",
    "             y = 'Kilometers_Driven');"
   ]
  },
  {
   "cell_type": "markdown",
   "metadata": {},
   "source": [
    "### 7. What is the corrleation between 'Price', 'mileage_new', 'engine_new', 'power_new', 'Kilometers_Driven' for a only Maruti models?"
   ]
  },
  {
   "cell_type": "code",
   "execution_count": null,
   "metadata": {},
   "outputs": [],
   "source": []
  },
  {
   "cell_type": "markdown",
   "metadata": {},
   "source": [
    "### 8. Compare the sold price of cars in Mumbai and Kochi for maruti models only using overlapped distribtion plot and make an inference."
   ]
  },
  {
   "cell_type": "code",
   "execution_count": null,
   "metadata": {},
   "outputs": [],
   "source": []
  },
  {
   "cell_type": "markdown",
   "metadata": {},
   "source": [
    "### 9. Find out top 5 makes (most number of cars sold) in used cars with sold price less than 5 lakhs.\n",
    "\n"
   ]
  },
  {
   "cell_type": "code",
   "execution_count": null,
   "metadata": {},
   "outputs": [],
   "source": []
  },
  {
   "cell_type": "markdown",
   "metadata": {},
   "source": [
    "### 10. Find out any interesting insights of your choice (one or two)."
   ]
  },
  {
   "cell_type": "code",
   "execution_count": null,
   "metadata": {},
   "outputs": [],
   "source": []
  }
 ],
 "metadata": {
  "kernelspec": {
   "display_name": "Python 3",
   "language": "python",
   "name": "python3"
  },
  "language_info": {
   "codemirror_mode": {
    "name": "ipython",
    "version": 3
   },
   "file_extension": ".py",
   "mimetype": "text/x-python",
   "name": "python",
   "nbconvert_exporter": "python",
   "pygments_lexer": "ipython3",
   "version": "3.8.5"
  }
 },
 "nbformat": 4,
 "nbformat_minor": 4
}
